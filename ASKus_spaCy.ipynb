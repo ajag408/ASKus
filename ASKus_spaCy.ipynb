{
  "nbformat": 4,
  "nbformat_minor": 0,
  "metadata": {
    "colab": {
      "name": "ASKus.ipynb",
      "provenance": []
    },
    "language_info": {
      "name": "python"
    },
    "kernelspec": {
      "name": "python3",
      "display_name": "Python 3"
    }
  },
  "cells": [
    {
      "cell_type": "code",
      "metadata": {
        "id": "NxRaz1CSRANm"
      },
      "source": [
        "from google.colab import drive\n",
        "import warnings\n",
        "warnings.filterwarnings('ignore')"
      ],
      "execution_count": null,
      "outputs": []
    },
    {
      "cell_type": "code",
      "metadata": {
        "id": "eEBFf0C0RQS7",
        "colab": {
          "base_uri": "https://localhost:8080/"
        },
        "outputId": "8bddf555-410d-411e-a481-5b980a469afc"
      },
      "source": [
        "drive.mount('/content/drive')"
      ],
      "execution_count": null,
      "outputs": [
        {
          "output_type": "stream",
          "text": [
            "Mounted at /content/drive\n"
          ],
          "name": "stdout"
        }
      ]
    },
    {
      "cell_type": "code",
      "metadata": {
        "id": "kfCXaaGFRXQc",
        "colab": {
          "base_uri": "https://localhost:8080/"
        },
        "outputId": "5064ac24-2cce-449d-c57c-5778f964c30d"
      },
      "source": [
        "%cd  /content/drive/Shared\\ drives/256/ASKus"
      ],
      "execution_count": null,
      "outputs": [
        {
          "output_type": "stream",
          "text": [
            "/content/drive/Shared drives/256/ASKus\n"
          ],
          "name": "stdout"
        }
      ]
    },
    {
      "cell_type": "code",
      "metadata": {
        "id": "_16VAxR3Rb5i",
        "colab": {
          "base_uri": "https://localhost:8080/"
        },
        "outputId": "84ff71cb-e61b-4d06-fe8c-be6566e3d4c6"
      },
      "source": [
        "#check num json files in train (should be 14,316)\n",
        "import glob\n",
        "len(glob.glob1(\"./data/train\", \"*.json\"))"
      ],
      "execution_count": 6,
      "outputs": [
        {
          "output_type": "execute_result",
          "data": {
            "text/plain": [
              "14316"
            ]
          },
          "metadata": {
            "tags": []
          },
          "execution_count": 6
        }
      ]
    }
  ]
}