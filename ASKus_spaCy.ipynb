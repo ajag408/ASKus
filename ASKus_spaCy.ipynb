{
  "nbformat": 4,
  "nbformat_minor": 0,
  "metadata": {
    "colab": {
      "name": "ASKus.ipynb",
      "provenance": [],
      "toc_visible": true,
      "machine_shape": "hm"
    },
    "language_info": {
      "name": "python"
    },
    "kernelspec": {
      "name": "python3",
      "display_name": "Python 3"
    }
  },
  "cells": [
    {
      "cell_type": "markdown",
      "metadata": {
        "id": "9FZUIqJj0TLx"
      },
      "source": [
        "# SpaCy Named Entity Recognition Implementation"
      ]
    },
    {
      "cell_type": "markdown",
      "metadata": {
        "id": "J_une_bE0aS3"
      },
      "source": [
        "## (Professor/TA skip) Mount drive with data "
      ]
    },
    {
      "cell_type": "code",
      "metadata": {
        "id": "NxRaz1CSRANm"
      },
      "source": [
        "from google.colab import drive\n",
        "import warnings\n",
        "warnings.filterwarnings('ignore')"
      ],
      "execution_count": 21,
      "outputs": []
    },
    {
      "cell_type": "code",
      "metadata": {
        "id": "eEBFf0C0RQS7",
        "colab": {
          "base_uri": "https://localhost:8080/"
        },
        "outputId": "dc9e119b-ee57-4f45-d08e-c1a16fa70c33"
      },
      "source": [
        "#AT/TA skip\n",
        "drive.mount('/content/drive')"
      ],
      "execution_count": 22,
      "outputs": [
        {
          "output_type": "stream",
          "text": [
            "Drive already mounted at /content/drive; to attempt to forcibly remount, call drive.mount(\"/content/drive\", force_remount=True).\n"
          ],
          "name": "stdout"
        }
      ]
    },
    {
      "cell_type": "code",
      "metadata": {
        "id": "kfCXaaGFRXQc",
        "colab": {
          "base_uri": "https://localhost:8080/"
        },
        "outputId": "f7bc6530-2596-4362-b417-7ca21134fce3"
      },
      "source": [
        "#AT/TA skip\n",
        "%cd /content/drive/Shared\\ drives/256Group10/ASKus\n"
      ],
      "execution_count": 37,
      "outputs": [
        {
          "output_type": "stream",
          "text": [
            "/content/drive/Shared drives/256Group10/ASKus\n"
          ],
          "name": "stdout"
        }
      ]
    },
    {
      "cell_type": "markdown",
      "metadata": {
        "id": "bGboZMKz0pOB"
      },
      "source": [
        "## Data Exploration and Preprocessing"
      ]
    },
    {
      "cell_type": "markdown",
      "metadata": {
        "id": "jXe22Rkp0yuw"
      },
      "source": [
        "### Load train.csv containing matrix with paper id's corresponding to dataset label"
      ]
    },
    {
      "cell_type": "code",
      "metadata": {
        "id": "hKYBGIhzgC24"
      },
      "source": [
        "import pandas as pd\n",
        "import os\n",
        "\n",
        "import fileinput\n",
        "import time\n",
        "\n",
        "import ast\n",
        "\n",
        "import re\n",
        "\n",
        "import spacy as sp\n",
        "from spacy.util import minibatch, compounding\n",
        "from pathlib import Path\n",
        "\n",
        "import random\n",
        "\n",
        "import json"
      ],
      "execution_count": 38,
      "outputs": []
    },
    {
      "cell_type": "code",
      "metadata": {
        "id": "SSYY3DmMQpvg",
        "colab": {
          "base_uri": "https://localhost:8080/",
          "height": 419
        },
        "outputId": "481708e2-28f6-4b78-fbbd-82210a4c2f28"
      },
      "source": [
        "\n",
        "\n",
        "train = pd.read_csv('./data/train.csv')\n",
        "train"
      ],
      "execution_count": 39,
      "outputs": [
        {
          "output_type": "execute_result",
          "data": {
            "text/html": [
              "<div>\n",
              "<style scoped>\n",
              "    .dataframe tbody tr th:only-of-type {\n",
              "        vertical-align: middle;\n",
              "    }\n",
              "\n",
              "    .dataframe tbody tr th {\n",
              "        vertical-align: top;\n",
              "    }\n",
              "\n",
              "    .dataframe thead th {\n",
              "        text-align: right;\n",
              "    }\n",
              "</style>\n",
              "<table border=\"1\" class=\"dataframe\">\n",
              "  <thead>\n",
              "    <tr style=\"text-align: right;\">\n",
              "      <th></th>\n",
              "      <th>Id</th>\n",
              "      <th>pub_title</th>\n",
              "      <th>dataset_title</th>\n",
              "      <th>dataset_label</th>\n",
              "      <th>cleaned_label</th>\n",
              "    </tr>\n",
              "  </thead>\n",
              "  <tbody>\n",
              "    <tr>\n",
              "      <th>0</th>\n",
              "      <td>d0fa7568-7d8e-4db9-870f-f9c6f668c17b</td>\n",
              "      <td>The Impact of Dual Enrollment on College Degre...</td>\n",
              "      <td>National Education Longitudinal Study</td>\n",
              "      <td>National Education Longitudinal Study</td>\n",
              "      <td>national education longitudinal study</td>\n",
              "    </tr>\n",
              "    <tr>\n",
              "      <th>1</th>\n",
              "      <td>2f26f645-3dec-485d-b68d-f013c9e05e60</td>\n",
              "      <td>Educational Attainment of High School Dropouts...</td>\n",
              "      <td>National Education Longitudinal Study</td>\n",
              "      <td>National Education Longitudinal Study</td>\n",
              "      <td>national education longitudinal study</td>\n",
              "    </tr>\n",
              "    <tr>\n",
              "      <th>2</th>\n",
              "      <td>c5d5cd2c-59de-4f29-bbb1-6a88c7b52f29</td>\n",
              "      <td>Differences in Outcomes for Female and Male St...</td>\n",
              "      <td>National Education Longitudinal Study</td>\n",
              "      <td>National Education Longitudinal Study</td>\n",
              "      <td>national education longitudinal study</td>\n",
              "    </tr>\n",
              "    <tr>\n",
              "      <th>3</th>\n",
              "      <td>5c9a3bc9-41ba-4574-ad71-e25c1442c8af</td>\n",
              "      <td>Stepping Stone and Option Value in a Model of ...</td>\n",
              "      <td>National Education Longitudinal Study</td>\n",
              "      <td>National Education Longitudinal Study</td>\n",
              "      <td>national education longitudinal study</td>\n",
              "    </tr>\n",
              "    <tr>\n",
              "      <th>4</th>\n",
              "      <td>c754dec7-c5a3-4337-9892-c02158475064</td>\n",
              "      <td>Parental Effort, School Resources, and Student...</td>\n",
              "      <td>National Education Longitudinal Study</td>\n",
              "      <td>National Education Longitudinal Study</td>\n",
              "      <td>national education longitudinal study</td>\n",
              "    </tr>\n",
              "    <tr>\n",
              "      <th>...</th>\n",
              "      <td>...</td>\n",
              "      <td>...</td>\n",
              "      <td>...</td>\n",
              "      <td>...</td>\n",
              "      <td>...</td>\n",
              "    </tr>\n",
              "    <tr>\n",
              "      <th>19656</th>\n",
              "      <td>b3498176-8832-4033-aea6-b5ea85ea04c4</td>\n",
              "      <td>RSNA International Trends: A Global Perspectiv...</td>\n",
              "      <td>RSNA International COVID-19 Open Radiology Dat...</td>\n",
              "      <td>RSNA International COVID Open Radiology Database</td>\n",
              "      <td>rsna international covid open radiology database</td>\n",
              "    </tr>\n",
              "    <tr>\n",
              "      <th>19657</th>\n",
              "      <td>f77eb51f-c3ac-420b-9586-cb187849c321</td>\n",
              "      <td>MCCS: a novel recognition pattern-based method...</td>\n",
              "      <td>CAS COVID-19 antiviral candidate compounds dat...</td>\n",
              "      <td>CAS COVID-19 antiviral candidate compounds dat...</td>\n",
              "      <td>cas covid 19 antiviral candidate compounds dat...</td>\n",
              "    </tr>\n",
              "    <tr>\n",
              "      <th>19658</th>\n",
              "      <td>ab59bcdd-7b7c-4107-93f5-0ccaf749236c</td>\n",
              "      <td>Quantitative Structure–Activity Relationship M...</td>\n",
              "      <td>CAS COVID-19 antiviral candidate compounds dat...</td>\n",
              "      <td>CAS COVID-19 antiviral candidate compounds dat...</td>\n",
              "      <td>cas covid 19 antiviral candidate compounds dat...</td>\n",
              "    </tr>\n",
              "    <tr>\n",
              "      <th>19659</th>\n",
              "      <td>fd23e7e0-a5d2-4f98-992d-9209c85153bb</td>\n",
              "      <td>A ligand-based computational drug repurposing ...</td>\n",
              "      <td>CAS COVID-19 antiviral candidate compounds dat...</td>\n",
              "      <td>CAS COVID-19 antiviral candidate compounds dat...</td>\n",
              "      <td>cas covid 19 antiviral candidate compounds dat...</td>\n",
              "    </tr>\n",
              "    <tr>\n",
              "      <th>19660</th>\n",
              "      <td>fd23e7e0-a5d2-4f98-992d-9209c85153bb</td>\n",
              "      <td>A ligand-based computational drug repurposing ...</td>\n",
              "      <td>CAS COVID-19 antiviral candidate compounds dat...</td>\n",
              "      <td>CAS COVID-19 antiviral candidate compounds data</td>\n",
              "      <td>cas covid 19 antiviral candidate compounds data</td>\n",
              "    </tr>\n",
              "  </tbody>\n",
              "</table>\n",
              "<p>19661 rows × 5 columns</p>\n",
              "</div>"
            ],
            "text/plain": [
              "                                         Id  ...                                      cleaned_label\n",
              "0      d0fa7568-7d8e-4db9-870f-f9c6f668c17b  ...              national education longitudinal study\n",
              "1      2f26f645-3dec-485d-b68d-f013c9e05e60  ...              national education longitudinal study\n",
              "2      c5d5cd2c-59de-4f29-bbb1-6a88c7b52f29  ...              national education longitudinal study\n",
              "3      5c9a3bc9-41ba-4574-ad71-e25c1442c8af  ...              national education longitudinal study\n",
              "4      c754dec7-c5a3-4337-9892-c02158475064  ...              national education longitudinal study\n",
              "...                                     ...  ...                                                ...\n",
              "19656  b3498176-8832-4033-aea6-b5ea85ea04c4  ...   rsna international covid open radiology database\n",
              "19657  f77eb51f-c3ac-420b-9586-cb187849c321  ...  cas covid 19 antiviral candidate compounds dat...\n",
              "19658  ab59bcdd-7b7c-4107-93f5-0ccaf749236c  ...  cas covid 19 antiviral candidate compounds dat...\n",
              "19659  fd23e7e0-a5d2-4f98-992d-9209c85153bb  ...  cas covid 19 antiviral candidate compounds dat...\n",
              "19660  fd23e7e0-a5d2-4f98-992d-9209c85153bb  ...    cas covid 19 antiviral candidate compounds data\n",
              "\n",
              "[19661 rows x 5 columns]"
            ]
          },
          "metadata": {
            "tags": []
          },
          "execution_count": 39
        }
      ]
    },
    {
      "cell_type": "markdown",
      "metadata": {
        "id": "Y2vhBtKXJ1HQ"
      },
      "source": [
        "### **Data Exploration**"
      ]
    },
    {
      "cell_type": "code",
      "metadata": {
        "colab": {
          "base_uri": "https://localhost:8080/",
          "height": 111
        },
        "id": "3PJ54ohUJ0Je",
        "outputId": "908905b7-7d65-4aed-847b-9c257a693724"
      },
      "source": [
        "# start with a single file\n",
        "trainJSON = pd.read_json('./data/train/ef0a0fb9-5b60-4e79-90d0-6c8d71e6aa48.json')\n",
        "trainJSON"
      ],
      "execution_count": 40,
      "outputs": [
        {
          "output_type": "execute_result",
          "data": {
            "text/html": [
              "<div>\n",
              "<style scoped>\n",
              "    .dataframe tbody tr th:only-of-type {\n",
              "        vertical-align: middle;\n",
              "    }\n",
              "\n",
              "    .dataframe tbody tr th {\n",
              "        vertical-align: top;\n",
              "    }\n",
              "\n",
              "    .dataframe thead th {\n",
              "        text-align: right;\n",
              "    }\n",
              "</style>\n",
              "<table border=\"1\" class=\"dataframe\">\n",
              "  <thead>\n",
              "    <tr style=\"text-align: right;\">\n",
              "      <th></th>\n",
              "      <th>section_title</th>\n",
              "      <th>text</th>\n",
              "    </tr>\n",
              "  </thead>\n",
              "  <tbody>\n",
              "    <tr>\n",
              "      <th>0</th>\n",
              "      <td>Abstract</td>\n",
              "      <td>A number of recent studies have not replicated...</td>\n",
              "    </tr>\n",
              "    <tr>\n",
              "      <th>1</th>\n",
              "      <td></td>\n",
              "      <td>To replicate an experiment in human biology an...</td>\n",
              "    </tr>\n",
              "  </tbody>\n",
              "</table>\n",
              "</div>"
            ],
            "text/plain": [
              "  section_title                                               text\n",
              "0      Abstract  A number of recent studies have not replicated...\n",
              "1                To replicate an experiment in human biology an..."
            ]
          },
          "metadata": {
            "tags": []
          },
          "execution_count": 40
        }
      ]
    },
    {
      "cell_type": "code",
      "metadata": {
        "id": "fVsLVqizK8ly"
      },
      "source": [
        "# now get the pathnames of all of the JSON files into an array\n",
        "path_to_json = './data/train/'\n",
        "json_files = [pos_json for pos_json in os.listdir(path_to_json) if pos_json.endswith('.json')]\n"
      ],
      "execution_count": 41,
      "outputs": []
    },
    {
      "cell_type": "code",
      "metadata": {
        "id": "Zv-AMF3CHpeC",
        "colab": {
          "base_uri": "https://localhost:8080/",
          "height": 419
        },
        "outputId": "faff8f6f-ad47-460f-c239-3827d3a1905d"
      },
      "source": [
        "# create the arrays to be filled\n",
        "## will be filled with all of the pathnames names of each file\n",
        "filenames = []\n",
        "## will contain all of the text per file\n",
        "texts = []\n",
        "## will contain the title or id of each of the files\n",
        "titles = []\n",
        "## will contain the number of sections per document\n",
        "sections = []\n",
        "\n",
        "# for every file in the array...\n",
        "for file in json_files:\n",
        "  # create the path to the file\n",
        "  filepath = path_to_json + file\n",
        "  # read the file into a pandas dataframe\n",
        "  file_df = pd.read_json(filepath)\n",
        "  # extract and concate all of the text into a single varaible\n",
        "  text = file_df[\"text\"].str.cat()\n",
        "  # extract the title or id from the path\n",
        "  title = file.split(\".json\")[0]\n",
        "  # get the number of sections in the dataframe\n",
        "  section = len(file_df)\n",
        "  \n",
        "  # append to data to its respective array\n",
        "  sections.append(section)\n",
        "  titles.append(title)\n",
        "  filenames.append(file)\n",
        "  texts.append(text)\n",
        "  \n",
        "\n",
        "# create a new data frame and fill it with data from the arrays\n",
        "dtm_df = pd.DataFrame()\n",
        "dtm_df.insert(0, \"id\", titles)\n",
        "dtm_df.insert(1, \"sections\", sections)\n",
        "dtm_df.insert(2, \"text\", texts)\n",
        "  \n",
        "# show the dataframe\n",
        "dtm_df\n",
        "\n"
      ],
      "execution_count": 42,
      "outputs": [
        {
          "output_type": "execute_result",
          "data": {
            "text/html": [
              "<div>\n",
              "<style scoped>\n",
              "    .dataframe tbody tr th:only-of-type {\n",
              "        vertical-align: middle;\n",
              "    }\n",
              "\n",
              "    .dataframe tbody tr th {\n",
              "        vertical-align: top;\n",
              "    }\n",
              "\n",
              "    .dataframe thead th {\n",
              "        text-align: right;\n",
              "    }\n",
              "</style>\n",
              "<table border=\"1\" class=\"dataframe\">\n",
              "  <thead>\n",
              "    <tr style=\"text-align: right;\">\n",
              "      <th></th>\n",
              "      <th>id</th>\n",
              "      <th>sections</th>\n",
              "      <th>text</th>\n",
              "    </tr>\n",
              "  </thead>\n",
              "  <tbody>\n",
              "    <tr>\n",
              "      <th>0</th>\n",
              "      <td>ef0a0fb9-5b60-4e79-90d0-6c8d71e6aa48</td>\n",
              "      <td>2</td>\n",
              "      <td>A number of recent studies have not replicated...</td>\n",
              "    </tr>\n",
              "    <tr>\n",
              "      <th>1</th>\n",
              "      <td>ef1770e2-527a-4549-b345-ee002246af1f</td>\n",
              "      <td>36</td>\n",
              "      <td>Industrial policies that subsidize (often larg...</td>\n",
              "    </tr>\n",
              "    <tr>\n",
              "      <th>2</th>\n",
              "      <td>ef19c53d-899a-41ba-bb2a-6b03c9c97497</td>\n",
              "      <td>11</td>\n",
              "      <td>Obsessive-compulsive disorder (OCD) is a heter...</td>\n",
              "    </tr>\n",
              "    <tr>\n",
              "      <th>3</th>\n",
              "      <td>ef1a2ad5-73ea-42a6-839b-1092efa5e8ad</td>\n",
              "      <td>9</td>\n",
              "      <td>. Map Sprague's Pipits breed from north-centra...</td>\n",
              "    </tr>\n",
              "    <tr>\n",
              "      <th>4</th>\n",
              "      <td>ef228135-27af-4278-a225-57acd2ac0a82</td>\n",
              "      <td>7</td>\n",
              "      <td>most common observed substitutions in SARS-CoV...</td>\n",
              "    </tr>\n",
              "    <tr>\n",
              "      <th>...</th>\n",
              "      <td>...</td>\n",
              "      <td>...</td>\n",
              "      <td>...</td>\n",
              "    </tr>\n",
              "    <tr>\n",
              "      <th>14311</th>\n",
              "      <td>04e8222c-ff33-4881-9b80-7121063cde0c</td>\n",
              "      <td>9</td>\n",
              "      <td>Recent public health research documents geogra...</td>\n",
              "    </tr>\n",
              "    <tr>\n",
              "      <th>14312</th>\n",
              "      <td>04efcc82-9f89-4b40-a506-3a7cb34b5242</td>\n",
              "      <td>22</td>\n",
              "      <td>R epresentation by race and ethnicity is one o...</td>\n",
              "    </tr>\n",
              "    <tr>\n",
              "      <th>14313</th>\n",
              "      <td>04f0863b-54fa-4ae5-ad0e-a9b4d42e2a29</td>\n",
              "      <td>9</td>\n",
              "      <td>[1] Numerical model experiments are conducted ...</td>\n",
              "    </tr>\n",
              "    <tr>\n",
              "      <th>14314</th>\n",
              "      <td>04fd49ad-466e-4d07-8848-2158e4994515</td>\n",
              "      <td>10</td>\n",
              "      <td>Strong decadal variations in the oceanic uptak...</td>\n",
              "    </tr>\n",
              "    <tr>\n",
              "      <th>14315</th>\n",
              "      <td>05004e80-e1d2-414c-9473-5e7b4b3840ff</td>\n",
              "      <td>6</td>\n",
              "      <td>Cancer is a growth process and it is natural t...</td>\n",
              "    </tr>\n",
              "  </tbody>\n",
              "</table>\n",
              "<p>14316 rows × 3 columns</p>\n",
              "</div>"
            ],
            "text/plain": [
              "                                         id  ...                                               text\n",
              "0      ef0a0fb9-5b60-4e79-90d0-6c8d71e6aa48  ...  A number of recent studies have not replicated...\n",
              "1      ef1770e2-527a-4549-b345-ee002246af1f  ...  Industrial policies that subsidize (often larg...\n",
              "2      ef19c53d-899a-41ba-bb2a-6b03c9c97497  ...  Obsessive-compulsive disorder (OCD) is a heter...\n",
              "3      ef1a2ad5-73ea-42a6-839b-1092efa5e8ad  ...  . Map Sprague's Pipits breed from north-centra...\n",
              "4      ef228135-27af-4278-a225-57acd2ac0a82  ...  most common observed substitutions in SARS-CoV...\n",
              "...                                     ...  ...                                                ...\n",
              "14311  04e8222c-ff33-4881-9b80-7121063cde0c  ...  Recent public health research documents geogra...\n",
              "14312  04efcc82-9f89-4b40-a506-3a7cb34b5242  ...  R epresentation by race and ethnicity is one o...\n",
              "14313  04f0863b-54fa-4ae5-ad0e-a9b4d42e2a29  ...  [1] Numerical model experiments are conducted ...\n",
              "14314  04fd49ad-466e-4d07-8848-2158e4994515  ...  Strong decadal variations in the oceanic uptak...\n",
              "14315  05004e80-e1d2-414c-9473-5e7b4b3840ff  ...  Cancer is a growth process and it is natural t...\n",
              "\n",
              "[14316 rows x 3 columns]"
            ]
          },
          "metadata": {
            "tags": []
          },
          "execution_count": 42
        }
      ]
    },
    {
      "cell_type": "code",
      "metadata": {
        "id": "djLO7laQUvVv",
        "colab": {
          "base_uri": "https://localhost:8080/"
        },
        "outputId": "4e8f1e15-12f3-4956-9fe9-64586a1b75db"
      },
      "source": [
        "# create the arrays to be filled\n",
        "sentances = []\n",
        "words = []\n",
        "\n",
        "# for every row in the data frame\n",
        "for field, row in dtm_df.items():\n",
        "  # only work with the text column for each row\n",
        "  if(field == 'text'):\n",
        "    # for each row within the text column\n",
        "    for textbook in range(0, 14316):\n",
        "      # create an array of sentances\n",
        "      arrayOfSentances = row.get(textbook).split(\".\") \n",
        "      # add the number of sentances into respective array\n",
        "      sentances.append(len(arrayOfSentances))\n",
        "      # create word count variable\n",
        "      word = 0\n",
        "      # for each sentance in the text\n",
        "      for sentance in arrayOfSentances:\n",
        "        # get the number of words in the sentance\n",
        "        result = len(sentance.split())\n",
        "        # add to the running total of wordcount\n",
        "        word = word + result\n",
        "      # add the number of words into respective array\n",
        "      words.append(word)\n",
        "\n",
        "# Print data \n",
        "print(\"The number of sentances per article are: \")\n",
        "print(sentances)\n",
        "print(\"The number of words per article are: \")\n",
        "print(words)"
      ],
      "execution_count": 43,
      "outputs": [
        {
          "output_type": "stream",
          "text": [
            "The number of sentances per article are: \n",
            "[141, 640, 377, 370, 66, 176, 311, 340, 201, 264, 257, 229, 480, 399, 15, 266, 1050, 195, 151, 356, 118, 445, 453, 225, 1033, 268, 175, 549, 290, 208, 502, 210, 548, 206, 1369, 388, 132, 190, 626, 296, 247, 63, 90, 318, 533, 247, 314, 276, 223, 270, 189, 163, 167, 58, 244, 186, 108, 521, 308, 103, 371, 114, 278, 607, 94, 23, 408, 533, 111, 311, 191, 502, 200, 355, 200, 323, 1403, 235, 67, 147, 329, 354, 249, 250, 425, 317, 411, 539, 192, 191, 229, 258, 348, 190, 717, 490, 141, 282, 229, 296, 518, 212, 242, 451, 438, 212, 130, 307, 172, 146, 243, 322, 309, 241, 243, 198, 355, 90, 203, 383, 204, 274, 241, 222, 60, 313, 159, 1248, 411, 2443, 515, 233, 349, 408, 235, 283, 598, 233, 640, 392, 194, 181, 130, 364, 356, 1453, 30, 271, 1112, 155, 74, 190, 161, 103, 162, 230, 344, 192, 200, 1361, 144, 237, 627, 181, 75, 1265, 285, 354, 530, 86, 174, 497, 231, 96, 476, 446, 351, 184, 526, 232, 294, 70, 273, 52, 556, 196, 156, 557, 304, 128, 308, 119, 658, 256, 220, 1466, 2306, 44, 134, 310, 335, 348, 266, 167, 514, 274, 460, 132, 2301, 349, 184, 33, 363, 338, 290, 187, 408, 303, 416, 310, 340, 200, 401, 226, 184, 363, 359, 299, 56, 71, 424, 368, 225, 306, 350, 176, 129, 429, 49, 237, 513, 403, 17778, 122, 220, 384, 453, 213, 91, 673, 598, 2156, 265, 1101, 241, 215, 279, 205, 187, 203, 190, 200, 236, 362, 330, 1256, 89, 452, 238, 266, 523, 339, 388, 505, 250, 263, 307, 161, 177, 446, 214, 265, 534, 202, 252, 224, 371, 178, 702, 1462, 298, 254, 294, 144, 244, 356, 365, 1186, 434, 69, 128, 125, 289, 446, 358, 345, 275, 956, 174, 766, 192, 171, 234, 231, 293, 471, 233, 291, 148, 428, 140, 225, 151, 114, 289, 200, 501, 296, 356, 674, 264, 670, 388, 215, 126, 346, 323, 289, 63, 216, 1471, 480, 216, 160, 759, 545, 520, 359, 145, 740, 228, 229, 410, 208, 508, 559, 384, 211, 568, 246, 149, 294, 344, 144, 111, 160, 330, 221, 249, 346, 680, 171, 285, 610, 484, 85, 995, 892, 137, 229, 222, 129, 416, 362, 92, 566, 235, 139, 264, 238, 413, 125, 187, 180, 232, 364, 268, 375, 134, 308, 209, 323, 355, 508, 258, 2539, 866, 175, 662, 464, 81043, 132, 335, 216, 450, 769, 328, 74, 303, 146, 239, 690, 68, 161, 258, 78, 340, 864, 541, 606, 152, 207, 201, 395, 477, 203, 151, 141, 614, 336, 221, 200, 427, 514, 3162, 588, 876, 605, 116, 108, 237, 153, 163, 345, 125, 149, 168, 353, 122, 233, 126, 141, 518, 196, 656, 260, 291, 482, 265, 125, 523, 502, 230, 118, 143, 166, 689, 382, 373, 280, 296, 131, 214, 149, 386, 380, 404, 273, 155, 143, 609, 300, 826, 289, 180, 408, 255, 481, 499, 193, 271, 454, 239, 221, 236, 130, 810, 431, 492, 715, 523, 315, 257, 658, 167, 432, 201, 179, 369, 105, 270, 284, 194, 226, 209, 186, 241, 166, 288, 270, 70, 267, 186, 1143, 42, 445, 216, 119, 346, 299, 395, 763, 282, 685, 282, 178, 229, 196, 162, 182, 283, 251, 427, 419, 348, 314, 223, 173, 236, 140, 253, 428, 722, 183, 220, 1044, 528, 299, 303, 213, 152, 453, 538, 214, 318, 184, 54, 286, 355, 356, 245, 385, 416, 217, 111, 945, 192, 181, 315, 204, 286, 313, 1395, 273, 511, 232, 275, 82, 383, 558, 205, 184, 282, 308, 639, 137, 355, 332, 99, 299, 544, 75, 324, 250, 257, 446, 234, 357, 238, 156, 193, 360, 281, 232, 21795, 2233, 102, 313, 351, 255, 195, 269, 31, 279, 337, 354, 231, 395, 290, 170, 300, 219, 398, 195, 217, 211, 227, 224, 321, 219, 499, 291, 139, 288, 324, 192, 477, 187, 2443, 166, 178, 368, 449, 33, 275, 338, 225, 381, 15, 278, 325, 941, 203, 113, 632, 258, 259, 533, 317, 207, 472, 648, 222, 1642, 224, 360, 175, 203, 1699, 234, 281, 240, 189, 218, 94, 94, 65, 196, 270, 377, 210, 61, 523, 151, 990, 162, 166, 177, 250, 91, 366, 232, 230, 253, 580, 452, 619, 303, 341, 319, 117, 326, 305, 552, 242, 134, 91, 78, 302, 343, 277, 245, 238, 1390, 182, 41, 212, 690, 128, 967, 249, 552, 434, 146, 446, 269, 316, 350, 358, 216, 2217, 289, 465, 396, 511, 714, 438, 4290, 102, 168, 374, 214, 462, 165, 72, 672, 310, 122, 106, 150, 361, 535, 329, 126, 346, 190, 102, 165, 161, 455, 255, 1876, 595, 219, 482, 399, 187, 182, 352, 430, 322, 366, 162, 342, 273, 566, 138, 180, 128, 198, 281, 250, 184, 104, 198, 135, 157, 125, 274, 105, 299, 312, 132, 2190, 71, 47, 521, 138, 736, 529, 421, 346, 321, 159, 186, 203, 344, 492, 343, 211, 339, 214, 1499, 49, 312, 420, 339, 360, 165, 40, 294, 317, 563, 203, 149, 380, 397, 282, 149, 220, 205, 217, 196, 157, 382, 182, 984, 183, 329, 276, 406, 294, 331, 182, 120, 934, 520, 256, 467, 311, 223, 245, 126, 192, 307, 347, 315, 476, 424, 627, 278, 207, 192, 478, 45, 338, 243, 414, 280, 204, 127, 393, 248, 186, 465, 319, 288, 135, 202, 130, 855, 570, 189, 70, 247, 628, 228, 445, 420, 261, 76, 213, 181, 213, 341, 114, 331, 891, 204, 293, 384, 588, 269, 195, 331, 395, 130, 337, 210, 121, 584, 199, 552, 137, 174, 385, 498, 325, 318, 154, 195, 490, 333, 305, 362, 245, 231, 127, 303, 344, 427, 124, 191, 178, 52, 150, 302, 369, 165, 598, 273, 191, 215, 4352, 227, 97, 1057, 580, 478, 988, 281, 762, 201, 258, 41, 316, 274, 287, 794, 205, 280, 158, 283, 138, 404, 506, 106, 520, 180, 291, 484, 536, 298, 128, 498, 518, 296, 318, 280, 143, 71, 979, 253, 311, 206, 303, 176, 360, 301, 633, 62, 169, 129, 171, 422, 208, 303, 1420, 546, 443, 49, 387, 145, 155, 175, 655, 420, 244, 229, 476, 265, 54, 206, 113, 250, 428, 117, 676, 149, 284, 475, 248, 366, 545, 2380, 324, 90, 441, 88, 206, 113, 236, 331, 255, 161, 579, 167, 167, 92, 195, 213, 310, 1768, 149, 311, 105, 131, 142, 260, 215, 380, 38, 197, 200, 525, 33, 43, 582, 823, 208, 37, 409, 278, 374, 320, 156, 288, 289, 671, 579, 129, 422, 196, 368, 109, 382, 621, 207, 339, 509, 376, 384, 304, 43, 319, 180, 199, 219, 99, 221, 171, 167, 206, 10, 346, 364, 798, 85, 290, 842, 105, 359, 133, 274, 262, 454, 226, 798, 150, 172, 375, 703, 320, 272, 281, 147, 629, 354, 229, 729, 163, 304, 395, 43, 206, 406, 130, 207, 244, 181, 214, 242, 235, 436, 250, 196, 635, 319, 271, 207, 362, 264, 265, 45, 190, 243, 191, 305, 36, 196, 179, 197, 203, 397, 183, 303, 138, 244, 279, 606, 188, 268, 260, 441, 274, 94, 345, 170, 270, 607, 322, 226, 190, 355, 198, 342, 194, 550, 334, 556, 458, 663, 442, 395, 404, 40, 185, 333, 446, 358, 590, 64, 385, 290, 110, 183, 279, 210, 33, 210, 195, 205, 224, 165, 267, 70, 539, 396, 112, 342, 176, 240, 217, 342, 625, 269, 319, 209, 141, 89, 401, 269, 79, 270, 609, 208, 1110, 150, 303, 114, 220, 169, 181, 406, 195, 422, 267, 241, 395, 535, 251, 2298, 265, 574, 219, 272, 275, 345, 128, 338, 361, 235, 119, 256, 292, 501, 601, 233, 289, 242, 306, 257, 198, 464, 463, 176, 301, 160, 174, 217, 360, 296, 343, 279, 198, 340, 612, 351, 215, 246, 488, 305, 215, 171, 146, 193, 321, 95, 315, 97, 435, 746, 318, 370, 551, 585, 258, 189, 260, 243, 78, 459, 243, 257, 175, 361, 172, 121, 288, 74, 201, 1475, 2196, 123, 770, 652, 36, 138, 300, 130, 301, 279, 260, 245, 463, 422, 295, 99, 167, 351, 228, 209, 37, 361, 162, 268, 199, 204, 45, 166, 227, 474, 209, 276, 501, 302, 407, 361, 106, 722, 182, 407, 1564, 320, 194, 239, 176, 401, 155, 307, 644, 194, 416, 82, 388, 254, 326, 145, 143, 240, 329, 460, 433, 205, 44, 416, 236, 222, 426, 388, 501, 160, 407, 947, 633, 287, 317, 217, 439, 533, 167, 339, 286, 80, 148, 140, 112, 480, 385, 346, 127, 452, 223, 196, 266, 71, 1705, 314, 230, 157, 483, 174, 417, 280, 259, 256, 245, 187, 266, 283, 381, 306, 116, 480, 156, 156, 2809, 552, 894, 164, 630, 183, 173, 214, 324, 234, 148, 277, 274, 51, 208, 39, 160, 229, 599, 178, 187, 589, 226, 341, 481, 303, 637, 272, 494, 480, 1876, 920, 330, 276, 132, 252, 275, 233, 853, 387, 389, 224, 686, 180, 120, 509, 178, 208, 500, 188, 247, 281, 93, 494, 593, 133, 816, 582, 1533, 403, 132, 277, 356, 120, 227, 266, 171, 123, 38, 28, 125, 137, 150, 54, 284, 524, 234, 163, 166, 284, 138, 242, 440, 211, 618, 777, 1045, 108, 473, 467, 583, 323, 138, 191, 293, 492, 422, 3039, 157, 298, 140, 1931, 249, 150, 695, 204, 276, 267, 926, 222, 390, 294, 330, 225, 114, 350, 618, 50, 395, 112, 347, 394, 60, 451, 367, 530, 677, 272, 261, 276, 409, 300, 239, 295, 1063, 352, 290, 391, 201, 50, 594, 331, 582, 479, 235, 116, 165, 523, 199, 577, 186, 564, 371, 283, 128, 197, 425, 196, 268, 279, 178, 303, 18, 577, 453, 142, 179, 112, 130, 363, 118, 395, 271, 250, 313, 424, 42, 1447, 205, 297, 334, 512, 223, 213, 390, 81, 717, 618, 160, 281, 103, 386, 378, 165, 389, 303, 472, 54, 191, 695, 406, 308, 732, 344, 173, 208, 149, 967, 299, 267, 199, 162, 28, 421, 214, 202, 232, 338, 107, 401, 297, 105, 451, 224, 151, 343, 187, 433, 214, 240, 423, 603, 410, 676, 275, 254, 2914, 227, 216, 356, 601, 152, 295, 261, 705, 251, 72, 206, 247, 18, 281, 129, 140, 722, 100, 239, 313, 607, 218, 765, 173, 99, 541, 435, 169, 229, 270, 356, 3818, 311, 260, 34, 113, 215, 33, 336, 446, 186, 332, 53, 122, 69, 449, 2417, 162, 488, 177, 345, 157, 716, 292, 509, 266, 310, 3065, 275, 131, 150, 171, 225, 700, 299, 340, 214, 276, 90, 137, 72, 350, 106, 352, 32, 170, 251, 134, 171, 296, 136, 411, 476, 427, 1078, 351, 196, 413, 364, 307, 183, 319, 72, 2520, 194, 238, 391, 3287, 267, 422, 294, 190, 200, 156, 307, 158, 2284, 334, 444, 206, 1191, 254, 361, 151, 196, 1015, 362, 495, 199, 1021, 751, 161, 204, 845, 42, 273, 264, 130, 215, 636, 457, 23, 345, 205, 627, 310, 574, 259, 583, 259, 344, 321, 199, 316, 2056, 84, 268, 293, 329, 227, 169, 409, 151, 182, 223, 145, 259, 318, 78, 200, 343, 332, 628, 406, 832, 170, 78, 339, 238, 545, 177, 209, 33, 649, 765, 402, 222, 1204, 340, 461, 1031, 109, 275, 496, 248, 314, 166, 160, 377, 855, 173, 107, 283, 401, 404, 208, 767, 445, 133, 171, 155, 321, 30, 456, 437, 447, 238, 151, 260, 73, 2669, 107, 155, 136, 397, 152, 483, 231, 462, 540, 411, 794, 212, 196, 203, 260, 437, 580, 340, 267, 252, 159, 215, 264, 355, 111, 611, 248, 178, 290, 55, 35, 312, 459, 258, 544, 283, 263, 571, 159, 133, 726, 288, 437, 492, 278, 113, 220, 294, 142, 269, 364, 533, 638, 138, 202, 191, 490, 510, 366, 507, 48, 214, 364, 412, 675, 282, 131, 159, 269, 404, 539, 174, 286, 368, 293, 168, 212, 99, 4125, 139, 213, 876, 543, 873, 263, 321, 1196, 348, 316, 360, 218, 307, 1590, 482, 194, 1374, 150, 501, 246, 186, 765, 275, 267, 285, 572, 206, 342, 210, 1120, 276, 248, 337, 290, 215, 403, 2571, 291, 321, 753, 272, 390, 83, 217, 224, 156, 527, 199, 17, 288, 396, 243, 306, 242, 252, 211, 477, 117, 108, 357, 492, 125, 408, 152, 184, 497, 214, 163, 253, 245, 187, 304, 411, 90, 355, 395, 216, 206, 188, 376, 144, 146, 370, 477, 569, 252, 182, 279, 145, 270, 491, 87, 41, 157, 245, 270, 654, 123, 62, 99, 143, 58, 461, 323, 289, 128, 200, 239, 1338, 625, 188, 423, 203, 317, 157, 283, 225, 256, 165, 229, 235, 130, 170, 133, 503, 371, 221, 154, 126, 101, 335, 449, 238, 51, 112, 453, 239, 257, 148, 420, 124, 511, 387, 265, 210, 418, 439, 230, 230, 374, 277, 722, 6, 75, 195, 347, 118, 182, 322, 505, 426, 458, 281, 542, 347, 250, 323, 1048, 235, 323, 410, 169, 408, 348, 12, 224, 187, 261, 143, 936, 93, 593, 448, 152, 668, 178, 166, 392, 1049, 218, 507, 185, 194, 88, 276, 196, 168, 566, 269, 133, 241, 34, 364, 188, 400, 138, 411, 67, 219, 372, 301, 227, 69, 118, 796, 440, 168, 273, 554, 263, 3664, 404, 452, 181, 209, 78, 199, 323, 190, 181, 212, 473, 205, 239, 561, 315, 193, 431, 79, 296, 281, 63413, 168, 369, 128, 250, 282, 263, 168, 262, 196, 1108, 275, 160, 208, 318, 393, 60, 493, 305, 111, 324, 192, 258, 132, 226, 638, 510, 2155, 113, 242, 241, 150, 361, 481, 104, 149, 293, 214, 128, 320, 747, 428, 237, 679, 182, 275, 292, 69, 398, 389, 235, 316, 141, 360, 216, 213, 92, 45, 680, 482, 265, 117, 195, 133, 760, 52, 436, 223, 274, 198, 302, 200, 197, 170, 277, 336, 344, 169, 78, 187, 433, 406, 81, 613, 145, 199, 252, 340, 1198, 168, 79, 152, 150, 287, 15, 291, 442, 656, 340, 190, 618, 348, 115, 555, 278, 271, 204, 381, 86, 540, 231, 183, 129, 525, 171, 145, 615, 262, 93, 233, 417, 377, 4, 118, 378, 140, 460, 148, 132, 314, 64, 282, 179, 603, 91, 213, 347, 316, 1944, 266, 196, 454, 62, 359, 284, 356, 120, 578, 195, 165, 124, 11, 164, 273, 92, 90, 98, 1955, 189, 287, 270, 213, 360, 306, 165, 64, 131, 442, 372, 163, 317, 198, 322, 177, 113, 1866, 246, 199, 3443, 452, 32, 288, 213, 318, 268, 278, 192, 122, 379, 537, 127, 259, 435, 280, 412, 402, 286, 248, 58, 240, 219, 173, 325, 42989, 62, 208, 433, 216, 366, 299, 515, 214, 660, 287, 192, 214, 172, 213, 295, 312, 1434, 294, 207, 717, 473, 274, 316, 198, 197, 231, 361, 331, 3712, 343, 613, 228, 2098, 416, 178, 488, 243, 40, 409, 151, 418, 231, 359, 289, 346, 162, 221, 397, 223, 179, 401, 661, 199, 231, 179, 285, 58, 148, 405, 293, 355, 382, 46, 440, 196, 151, 252, 403, 350, 193, 269, 297, 170, 431, 108, 284, 237, 271, 187, 353, 1049, 334, 139, 218, 196, 321, 470, 223, 402, 331, 452, 99, 330, 210, 192, 258, 198, 2435, 88, 266, 209, 2002, 555, 330, 281, 374, 258, 426, 336, 124, 341, 306, 334, 349, 148, 289, 341, 171, 569, 202, 463, 336, 141, 137, 190, 220, 299, 169, 267, 175, 370, 256, 294, 41, 269, 605, 1016, 142, 127, 196, 561, 116, 539, 191, 241, 669, 293, 422, 386, 125, 209, 431, 8528, 245, 592, 244, 557, 454, 200, 70, 248, 166, 204, 319, 47, 313, 406, 420, 182, 250, 40, 380, 221, 187, 407, 130, 189, 237, 77, 114, 102, 51, 301, 285, 304, 156, 159, 416, 213, 373, 424, 3878, 238, 304, 406, 634, 159, 1852, 526, 255, 1027, 285, 450, 190, 447, 325, 226, 326, 40, 146, 214, 188, 313, 329, 289, 205, 368, 517, 592, 231, 274, 445, 124, 251, 1603, 332, 162, 165, 182, 137, 1253, 1669, 182, 392, 234, 553, 222, 197, 402, 2051, 5915, 91, 141, 139, 129, 378, 1133, 306, 2470, 331, 376, 352, 104, 234, 125, 364, 74, 612, 610, 661, 231, 233, 276, 407, 301, 173, 252, 194, 873, 531, 161, 358, 162, 297, 113, 436, 295, 112, 599, 891, 101, 146, 129, 81, 443, 350, 9, 246, 193, 198, 282, 331, 216, 300, 506, 256, 1109, 303, 280, 97, 495, 264, 129, 327, 354, 299, 55, 205, 312, 382, 219, 357, 672, 350, 386, 175, 612, 287, 394, 441, 239, 226, 222, 78, 623, 143, 676, 588, 229, 94, 444, 267, 49, 379, 441, 323, 130, 317, 246, 476, 700, 401, 134, 364, 193, 190, 233, 424, 200, 84, 266, 206, 155, 83, 143, 111, 358, 224, 416, 291, 244, 456, 280, 520, 150, 770, 225, 774, 189, 238, 554, 477, 147, 148, 128, 454, 171, 147, 135, 1681, 112, 200, 188, 62, 324, 222, 203, 286, 255, 197, 48, 188, 1182, 118, 336, 251, 289, 303, 187, 610, 213, 129, 162, 1068, 390, 180, 169, 294, 449, 125, 257, 400, 170, 387, 375, 207, 134, 335, 786, 248, 260, 112, 270, 323, 795, 199, 68, 165, 310, 380, 288, 580, 139, 429, 1094, 366, 216, 295, 332, 271, 690, 330, 198, 430, 1000, 126, 152, 315, 135, 506, 388, 239, 781, 327, 189, 622, 547, 257, 270, 219, 36, 179, 353, 588, 223, 431, 383, 483, 343, 257, 776, 233, 278, 104, 130, 216, 207, 382, 334, 911, 224, 426, 276, 175, 36, 130, 93, 388, 338, 735, 428, 505, 277, 235, 227, 91, 840, 275, 3816, 331, 295, 770, 155, 70, 349, 494, 338, 123, 581, 277, 470, 837, 267, 184, 466, 223, 436, 271, 392, 26, 255, 316, 341, 232, 345, 1102, 314, 394, 234, 314, 1570, 471, 702, 154, 226, 291, 217, 213, 349, 334, 281, 581, 815, 82, 199, 249, 254, 140, 346, 193, 492, 228, 94, 573, 135, 174, 1954, 2262, 434, 1676, 239, 234, 442, 498, 811, 227, 559, 245, 130, 397, 966, 209, 249, 742, 336, 228, 630, 406, 268, 91, 249, 239, 294, 259, 389, 223, 186, 451, 512, 343, 864, 163, 200, 224, 940, 423, 62, 269, 173, 301, 127, 481, 127, 227, 677, 56, 492, 157, 57, 227, 391, 1588, 251, 754, 254, 293, 121, 182, 199, 567, 193, 547, 536, 214, 240, 133, 427, 90, 261, 225, 83, 199, 262, 104, 387, 167, 221, 220, 220, 186, 214, 299, 42, 22, 345, 417, 305, 47, 166, 143, 142, 269, 171, 516, 457, 548, 209, 39, 88, 702, 282, 137, 292, 457, 42, 279, 957, 375, 185, 316, 294, 180, 599, 413, 186, 305, 338, 129, 458, 259, 1878, 189, 54, 153, 287, 246, 126, 130, 203, 264, 208, 138, 539, 351, 254, 158, 155, 309, 200, 147, 298, 88, 247, 169, 140, 289, 462, 318, 187, 386, 155, 321, 102, 271, 552, 648, 753, 442, 136, 157, 59, 368, 407, 539, 348, 410, 213, 173, 322, 189, 120, 410, 146, 546, 635, 387, 526, 272, 110, 1912, 267, 330, 330, 418, 459, 250, 516, 179, 121, 100, 297, 380, 101, 234, 232, 262, 353, 2810, 193, 307, 245, 250, 189, 131, 548, 270, 283, 433, 455, 469, 156, 245, 207, 232, 159, 708, 144, 48, 230, 331, 122, 232, 385, 398, 136, 417, 275, 122, 119, 285, 356, 422, 254, 942, 288, 343, 1569, 123, 181, 84, 86, 14776, 58, 268, 303, 490, 344, 382, 281, 47, 153, 430, 233, 289, 394, 67, 266, 134, 409, 307, 227, 208, 250, 220, 134, 659, 122, 267, 218, 492, 851, 357, 214, 118, 259, 71, 129, 217, 403, 208, 327, 471, 151, 502, 282, 119, 331, 166, 332, 441, 1059, 108, 336, 294, 238, 500, 533, 39, 313, 335, 142, 245, 327, 72, 400, 360, 272, 316, 395, 358, 180, 247, 365, 196, 209, 131, 187, 287, 213, 188, 160, 541, 88, 487, 466, 574, 196, 255, 101, 404, 516, 942, 83, 395, 309, 246, 161, 670, 253, 169, 300, 216, 778, 132, 478, 260, 517, 325, 173, 93, 255, 503, 448, 594, 393, 268, 307, 264, 173, 277, 249, 380, 37, 556, 178, 577, 336, 331, 397, 373, 559, 369, 181, 614, 170, 139, 245, 545, 3253, 143, 466, 1587, 420, 71, 329, 302, 337, 275, 191, 1199, 247, 457, 445, 121, 283, 193, 371, 196, 136, 413, 390, 215, 289, 280, 1898, 76, 301, 157, 375, 465, 345, 486, 519, 831, 131, 380, 289, 509, 271, 253, 174, 357, 91, 421, 538, 178, 307, 84, 397, 391, 233, 184, 260, 255, 334, 76, 498, 2570, 219, 41, 410, 186, 183, 252, 117, 176674, 390, 211, 151, 113, 195, 1239, 339, 2211, 336, 379, 642, 134, 270, 249, 127, 201, 275, 241, 413, 365, 177, 379, 319, 327, 195, 374, 505, 218, 296, 121, 244, 405, 401, 380, 171, 249, 285, 331, 286, 215, 197, 1562, 296, 262, 270, 314, 134, 138, 358, 148, 89, 208, 111, 109, 320, 328, 540, 320, 271, 258, 158, 298, 149, 252, 305, 230, 109, 222, 364, 237, 344, 288, 277, 297, 277, 397, 408, 227, 155, 206, 282, 152, 258, 376, 143, 1447, 1708, 124, 64, 235, 348, 192, 404, 401, 147, 141, 324, 563, 291, 1322, 187, 261, 114, 320, 80, 493, 192, 206, 410, 290, 523, 427, 270, 233, 131, 961, 156, 231, 433, 228, 269, 127, 3308, 234, 36, 300, 156, 350, 276, 466, 623, 82, 583, 192, 414, 200, 187, 559, 457, 122, 193, 123, 88, 66, 302, 443, 296, 299, 135, 196, 236, 189, 398, 1151, 152, 285, 34, 457, 585, 312, 292, 274, 247, 345, 135, 417, 226, 562, 577, 166, 576, 345, 229, 332, 307, 160, 464, 336, 257, 150, 325, 241, 457, 480, 557, 403, 347, 171, 165, 252, 496, 167, 239, 320, 183, 542, 1445, 176, 185, 488, 226, 485, 186, 349, 164, 445, 271, 189, 128, 241, 243, 342, 360, 241, 459, 258, 225, 312, 304, 425, 399, 184, 249, 211, 270, 69, 254, 317, 287, 229, 1774, 217, 181, 197, 486, 1198, 250, 146, 284, 378, 11, 157, 506, 247, 104, 96, 246, 424, 206, 672, 698, 212, 24, 60, 1081, 190, 661, 918, 153, 197, 429, 373, 784, 256, 1581, 1843, 219, 184, 527, 145, 838, 405, 105, 220, 120, 317, 67, 327, 202, 166, 275, 228, 163, 475, 141, 139, 420, 159, 187, 96, 170, 49, 392, 410, 151, 543, 252, 225, 498, 208, 362, 76, 533, 260, 299, 291, 391, 542, 282, 396, 59, 362, 289, 179, 224, 78, 288, 361, 177, 243, 2762, 484, 496, 394, 234, 186, 141, 315, 400, 132, 1658, 482, 233, 177, 653, 241, 581, 172, 494, 351, 515, 686, 681, 1195, 341, 254, 394, 379, 85, 318, 93, 99, 315, 253, 355, 628, 237, 104, 521, 108, 400, 325, 215, 407, 1321, 569, 78, 300, 244, 159, 352, 224, 209, 307, 242, 370, 224, 497, 210, 139, 371, 382, 347, 107, 248, 467, 566, 385, 305, 246, 258, 191, 581, 223, 221, 94, 412, 341, 240, 327, 527, 214, 270, 597, 116, 315, 423, 154, 1229, 283, 166, 245, 313, 194, 232, 2531, 307, 216, 299, 350, 322, 65, 308, 121, 2057, 234, 32, 302, 93, 114, 275, 207, 147, 223, 396, 190, 183, 96, 448, 2554, 161, 147, 459, 222, 625, 1196, 262, 727, 440, 515, 964, 549, 1108, 174, 184, 313, 161, 267, 156, 542, 351, 453, 410, 2601, 63, 349, 124, 248, 287, 288, 172, 115, 90, 377, 461, 360, 79, 1063, 358, 162, 304, 193, 593, 245, 335, 362, 263, 526, 317, 433, 189, 640, 287, 326, 146, 380, 457, 213, 295, 663, 384, 121, 208, 286, 283, 272, 157, 418, 203, 332, 461, 444, 423, 360, 401, 406, 269, 238, 271, 331, 233, 258, 43, 481, 182, 331, 397, 242, 458, 281, 342, 174, 108, 214, 262, 190, 358, 274, 143, 934, 181, 251, 302, 196, 641, 296, 302, 416, 213, 363, 137, 33, 164, 125, 369, 382, 132, 214, 208, 319, 144, 211, 600, 108, 836, 77, 20, 353, 279, 263, 263, 90, 276, 323, 862, 165, 198, 131, 242, 217, 218, 354, 451, 462, 245, 319, 551, 337, 284, 440, 430, 237, 200, 145, 519, 233, 423, 342, 260, 415, 131, 273, 268, 368, 157, 175, 1311, 200, 486, 722, 216, 415, 205, 32, 319, 138, 261, 379, 358, 449, 212, 197, 153, 327, 98, 61, 357, 152, 338, 297, 199, 517, 221, 180, 412, 326, 261, 217, 143, 495, 504, 573, 213, 155, 425, 187, 201, 318, 3082, 150, 189, 166, 474, 326, 184, 232, 458, 63, 334, 443, 132, 194, 82, 152, 662, 94, 1932, 250, 395, 147, 548, 549, 299, 167, 552, 628, 291, 179, 46, 443, 238, 272, 267, 195, 464, 337, 268, 304, 135, 86, 276, 350, 299, 443, 223, 208, 139, 210, 81, 263, 136, 450, 329, 226, 244, 329, 259, 938, 305, 895, 473, 436, 77, 163, 260, 40, 237, 322, 175, 466, 230, 331, 255, 211, 107, 616, 257, 252, 210, 453, 1393, 335, 386, 134, 197, 206, 438, 369, 651, 267, 186, 303, 148, 153, 320, 258, 568, 457, 293, 268, 150, 393, 254, 239, 465, 1117, 147, 149, 199, 237, 211, 389, 236, 138, 201, 309, 238, 252, 184, 170, 197, 237, 167, 2417, 199, 145, 198, 587, 966, 317, 181, 179, 74, 272, 654, 290, 548, 195, 239, 331, 222, 254, 321, 236, 429, 471, 311, 348, 179, 308, 158, 101, 301, 276, 469, 304, 290, 2528, 497, 86, 579, 240, 159, 396, 320, 132, 357, 252, 85, 181, 209, 240, 102, 177, 46, 76, 494, 441, 352, 349, 115, 286, 188, 306, 340, 174, 478, 191, 217, 264, 501, 978, 465, 331, 202, 149, 272, 550, 582, 393, 311, 229, 104, 291, 273, 673, 95, 545, 235, 163, 230, 120, 123, 129, 217, 358, 426, 436, 335, 252, 59, 375, 212, 91, 247, 420, 273, 129, 383, 489, 367, 456, 312, 276, 359, 107, 291, 109, 279, 366, 207, 67, 215, 828, 150, 355, 294, 265, 242, 389, 453, 62, 461, 449, 461, 334, 402, 117, 111, 115, 246, 338, 389, 221, 410, 194, 226, 71, 100, 408, 401, 414, 256, 877, 423, 312, 203, 204, 644, 354, 656, 151, 259, 200, 134, 206, 321, 411, 125, 205, 216, 251, 1171, 197, 1072, 141, 230, 492, 367, 602, 2601, 148, 354, 157, 75, 467, 326, 209, 266, 199, 316, 536, 663, 586, 381, 458, 336, 563, 129, 221, 19, 136, 322, 198, 381, 169, 98, 382, 165, 282, 203, 291, 42, 73, 684, 229, 378, 198, 362, 305, 287, 168, 437, 2823, 127, 93, 298, 486, 457, 233, 692, 254, 146, 287, 396, 318, 251, 299, 158, 802, 267, 562, 402, 175, 70, 235, 146, 273, 425, 462, 355, 23, 258, 313, 36, 314, 349, 230, 354, 231, 154, 186, 377, 112, 162, 376, 177, 261, 1348, 197, 285, 315, 334, 83, 293, 466, 186, 565, 201, 150, 151, 343, 519, 153, 74, 532, 291, 259, 45, 364, 922, 330, 329, 381, 363, 534, 293, 193, 179, 148, 93, 671, 490, 438, 1605, 48, 254, 187, 198, 180, 200, 491, 540, 978, 2057, 177, 199, 216, 131, 179, 208, 326, 220, 198, 2616, 588, 376, 353, 346, 639, 256, 343, 129, 383, 91, 115, 343, 492, 248, 435, 122, 354, 402, 332, 188, 1225, 157, 200, 929, 196, 601, 287, 369, 467, 264, 332, 309, 651, 161, 264, 116, 295, 1024, 311, 474, 382, 485, 237, 332, 202, 242, 372, 246, 70, 369, 211, 93, 329, 671, 36, 618, 177, 131, 272, 162, 499, 89, 314, 401, 91, 159, 973, 215, 179, 203, 192, 436, 105, 325, 454, 263, 362, 106, 240, 225, 196, 36, 508, 193, 263, 133, 134, 354, 400, 257, 169, 1133, 609, 380, 505, 264, 518, 462, 91, 73, 312, 1248, 280, 270, 500, 540, 170, 545, 260, 224, 327, 506, 435, 97, 153, 255, 216, 276, 519, 260, 632, 322, 290, 375, 454, 315, 76, 407, 241, 482, 156, 445, 314, 39, 230, 356, 717, 612, 195, 250, 273, 553, 110, 146, 190, 337, 295, 468, 243, 414, 207, 221, 238, 172, 264, 53, 173, 189, 517, 117, 611, 210, 508, 248, 289, 541, 139, 384, 315, 138, 162, 221, 225, 56, 185, 859, 457, 204, 283, 91, 256, 133, 209, 360, 278, 17, 370, 129, 225, 105, 459, 108, 200, 140, 190, 853, 189, 544, 340, 194, 235, 199, 394, 433, 189, 190, 309, 419, 394, 301, 763, 233, 396, 283, 251, 157, 362, 186, 60, 406, 305, 275, 331, 233, 294, 323, 278, 195, 149, 268, 236, 216, 615, 47, 351, 147, 118, 68, 158, 37, 279, 218, 100, 658, 155, 340, 174, 193, 359, 91, 233, 565, 238, 264, 195, 158, 228, 289, 592, 635, 128, 283, 154, 213, 284, 158, 407, 156, 155, 468, 131, 321, 405, 215, 866, 67, 293, 413, 381, 125, 413, 1230, 273, 109, 271, 166, 371, 269, 146, 218, 99, 109, 358, 181, 298, 350, 461, 121, 411, 383, 66, 292, 518, 238, 276, 302, 174, 3235, 542, 329, 361, 163, 163, 655, 398, 196, 200, 469, 414, 248, 180, 430, 252, 155, 500, 378, 283, 241, 301, 617, 147, 233, 350, 98, 281, 196, 187, 518, 369, 32, 241, 189, 735, 1154, 392, 254, 683, 304, 195, 230, 475, 471, 348, 200, 193, 175, 226, 167, 152, 480, 174, 35, 327, 410, 113, 376, 190, 556, 403, 137, 94, 297, 399, 313, 271, 257, 353, 373, 176, 315, 112, 183, 1517, 185, 439, 501, 399, 245, 192, 365, 334, 359, 803, 503, 176, 452, 377, 281, 292, 37, 393, 340, 154, 262, 239, 115, 312, 142, 311, 248, 592, 154, 179, 211, 193, 1142, 204, 159, 47, 174, 268, 168, 472, 596, 246, 1463, 293, 124, 419, 864, 227, 214, 614, 118, 1906, 187, 199, 208, 1413, 360, 21, 217, 341, 278, 576, 184, 259, 45, 369, 292, 146, 166, 298, 1184, 1308, 53, 255, 209, 532, 501, 438, 169, 134, 1056, 168, 299, 542, 290, 266, 515, 161, 609, 469, 121, 153, 279, 859, 188, 605, 290, 515, 116, 331, 354, 227, 243, 347, 357, 258, 484, 1927, 553, 398, 466, 477, 175, 304, 128, 397, 5491, 202, 139, 248, 1129, 264, 167, 2377, 373, 656, 438, 297, 137, 445, 181, 546, 218, 141, 291, 181, 206, 229, 340, 533, 235, 550, 215, 143, 608, 397, 429, 205, 281, 392, 80, 97, 184, 113, 319, 241, 177, 270, 250, 400, 375, 248, 749, 121, 421, 220, 67, 287, 164, 295, 361, 313, 98, 19, 69, 284, 450, 257, 210, 383, 360, 355, 451, 485, 611, 283, 244, 249, 570, 370, 1412, 166, 493, 261, 178, 142, 298, 134, 287, 220, 217, 350, 151, 964, 333, 383, 126, 204, 225, 325, 533, 588, 397, 383, 534, 602, 346, 331, 241, 419, 2, 51, 114, 9862, 355, 501, 230, 176, 275, 162, 161, 568, 215, 182, 275, 376, 206, 112, 323, 202, 277, 425, 279, 359, 211, 219, 277, 218, 172, 487, 196, 3470, 522, 523, 503, 173, 378, 188, 67, 226, 110, 435, 275, 341, 244, 312, 227, 128, 180, 138, 1427, 492, 387, 81, 390, 101, 364, 171, 54, 396, 94, 193, 411, 524, 292, 132, 548, 328, 470, 269, 104, 267, 365, 235, 193, 368, 361, 391, 401, 181, 449, 27, 98, 414, 202, 215, 240, 208, 288, 304, 274, 231, 219, 242, 502, 293, 725, 259, 156, 159, 167, 31, 322, 380, 365, 313, 123, 187, 126, 56, 390, 240, 556, 1847, 456, 231, 133, 217, 364, 157, 95, 309, 1875, 371, 263, 682, 308, 385, 517, 426, 605, 403, 192, 261, 56, 160, 182, 320, 386, 1250, 14, 383, 124, 190, 35, 258, 211, 186, 321, 257, 185, 308, 13, 187, 468, 261, 262, 308, 286, 310, 213, 233, 293, 155, 214, 121, 204, 297, 320, 376, 467, 314, 123, 563, 381, 237, 385, 1986, 2251, 534, 334, 377, 11, 191, 163, 230, 469, 247, 540, 247, 414, 265, 156, 229, 191, 283, 317, 513, 274, 232, 151, 580, 216, 124, 253, 372, 377, 203, 606, 339, 230, 236, 293, 464, 428, 559, 122, 345, 275, 555, 325, 126, 134, 363, 311, 230, 183, 238, 232, 1739, 228, 440, 240, 797, 258, 644, 309, 80, 248, 308, 319, 132, 112, 294, 356, 289, 289, 328, 159, 396, 220, 2038, 247, 309, 199, 495, 241, 253, 319, 478, 328, 311, 57, 311, 183, 150, 192, 470, 399, 289, 197, 182, 237, 144, 331, 59, 172, 384, 143, 146, 257, 145, 333, 226, 636, 261, 312, 560, 632, 126, 377, 491, 146, 623, 321, 540, 260, 240, 362, 208, 244, 281, 190, 283, 259, 286, 371, 187, 245, 271, 249, 30, 302, 279, 128, 224, 110, 423, 142, 319, 505, 90, 219, 283, 150, 329, 223, 174, 160, 1375, 303, 552, 166, 561, 173, 114, 111, 401, 183, 572, 331, 196, 342, 171, 370, 234, 369, 310, 444, 549, 8936, 130, 337, 102, 252, 381, 195, 583, 174, 75, 338, 668, 189, 161, 212, 1190, 814, 357, 219, 389, 159, 393, 150, 950, 149, 180, 250, 318, 689, 321, 529, 220, 155, 347, 392, 225, 105, 417, 120, 392, 157, 337, 167, 536, 507, 1143, 142, 219, 63, 787, 195, 480, 404, 264, 294, 254, 365, 282, 157, 556, 569, 71, 223, 377, 140, 249, 185, 323, 330, 197, 227, 526, 184, 235, 328, 161, 175, 67, 76, 262, 280, 56, 714, 342, 78, 185, 252, 164, 111, 314, 833, 27, 297, 282, 383, 748, 30, 269, 541, 178, 167, 366, 277, 133, 329, 361, 301, 1343, 366, 402, 2278, 436, 209, 190, 151, 309, 360, 373, 604, 353, 236, 419, 348, 255, 156, 248, 117, 215, 211, 229, 2101, 209, 293, 156, 323, 154, 444, 154, 162, 267, 447, 358, 163, 86, 218, 789, 415, 452, 338, 539, 861, 791, 571, 89, 343, 304, 354, 1448, 300, 315, 318, 268, 333, 163, 301, 216, 206, 108, 323, 226, 294, 177, 429, 605, 221, 594, 26, 265, 181, 209, 465, 123, 579, 927, 276, 179, 71, 52, 369, 290, 430, 238, 170, 174, 247, 338, 350, 185, 165, 80, 297, 222, 652, 199, 348, 172, 374, 268, 466, 587, 296, 547, 266, 237, 259, 145, 139, 423, 269, 221, 256, 370, 179, 259, 208, 283, 325, 150, 192, 322, 387, 1465, 971, 226, 231, 529, 381, 167, 275, 116, 88, 179, 1071, 471, 160, 3491, 222, 442, 201, 111, 180, 375, 247, 289, 255, 146, 435, 331, 413, 113, 172, 474, 313, 232, 512, 202, 575, 275, 284, 212, 141, 289, 304, 401, 452, 396, 204, 415, 288, 414, 302, 351, 2076, 1017, 229, 361, 411, 784, 289, 138, 167, 173, 233, 272, 1920, 106, 1964, 39, 336, 245, 224, 517, 230, 954, 297, 1180, 171, 289, 410, 239, 33, 373, 241, 597, 451, 595, 643, 398, 230, 73, 549, 48, 381, 153, 470, 443, 58, 246, 67, 49, 307, 459, 172, 450, 378, 273, 246, 1040, 168, 308, 501, 156, 399, 324, 215, 78, 475, 615, 175, 322, 270, 187, 346, 164, 329, 122, 173, 30, 210, 259, 97, 565, 110, 122, 15, 528, 37, 106, 304, 321, 108, 472, 368, 288, 641, 113, 536, 407, 224, 341, 723, 31, 311, 323, 54, 319, 140, 168, 194, 116, 350, 245, 11294, 223, 237, 95, 312, 137, 202, 272, 335, 380, 302, 396, 93, 262, 145, 435, 451, 214, 3422, 283, 98, 154, 406, 1462, 260, 270, 110, 469, 428, 302, 90, 633, 289, 118, 312, 405, 57, 499, 260, 476, 265, 446, 289, 267, 281, 471, 454, 313, 230, 295, 159, 237, 213, 499, 586, 335, 319, 549, 118, 199, 218, 285, 161, 169, 261, 188, 502, 137, 55, 403, 532, 239, 68, 180, 326, 141, 8812, 1222, 197, 47, 304, 215, 189, 259, 483, 2599, 316, 281, 114, 376, 409, 122, 482, 418, 764, 418, 456, 324, 210, 183, 203, 146, 76, 446, 192, 184, 163, 65, 660, 602, 443, 204, 489, 303, 347, 106, 320, 349, 229, 98, 338, 416, 219, 453, 199, 458, 392, 277, 212, 611, 247, 131, 255, 112, 1129, 277, 193, 367, 184, 246, 277, 293, 219, 292, 187, 218, 190, 276, 327, 143, 451, 520, 262, 123, 63, 96, 316, 188, 259, 345, 276, 324, 425, 438, 467, 252, 435, 231, 308, 208, 746, 205, 496, 313, 59, 363, 117, 238, 692, 314, 245, 80, 137, 419, 50, 98, 353, 171, 269, 148, 329, 314, 160, 247, 855, 359, 164, 445, 103, 212, 48, 183, 1531, 158, 351, 216, 165, 238, 204, 582, 125, 109, 426, 141, 522, 248, 245, 270, 328, 313, 137, 236, 316, 264, 182, 156, 49, 283, 288, 544, 720, 554, 225, 381, 166, 163, 1308, 135, 366, 443, 325, 635, 116, 107, 113, 82, 336, 171, 688, 356, 255, 417, 33, 224, 254, 190, 197, 179, 547, 465, 608, 246, 298, 574, 292, 181, 127, 126, 327, 248, 260, 313, 346, 170, 483, 101, 248, 7623, 1880, 219, 432, 166, 511, 135, 217, 504, 672, 27, 234, 406, 2904, 290, 254, 275, 410, 244, 375, 174, 82, 289, 238, 541, 137, 135, 229, 320, 233, 229, 503, 177, 1805, 360, 433, 952, 282, 239, 137, 231, 721, 147, 194, 537, 472, 357, 189, 320, 164, 184, 212, 235, 219, 524, 147, 341, 300, 215, 142, 177, 405, 435, 121, 107, 300, 132, 1144, 162, 723, 646, 306, 338, 240, 197, 172, 286, 359, 255, 171, 230, 278, 185, 318, 246, 315, 500, 337, 356, 240, 404, 899, 360, 387, 305, 1079, 236, 100, 191, 4244, 378, 235, 260, 268, 177, 22, 160, 248, 463, 223, 261, 503, 253, 272, 161, 216, 256, 359, 725, 169, 167, 801, 569, 225, 256, 38, 157, 467, 688, 347, 131, 382, 230, 209, 580, 260, 208, 329, 117, 428, 269, 209, 3657, 233, 126, 87, 233, 459, 155, 188, 232, 471, 262, 337, 341, 354, 333, 565, 352, 420, 288, 54, 731, 318, 318, 757, 34, 307, 250, 212, 234, 269, 137, 467, 225, 123, 107, 152, 645, 487, 1176, 345, 236, 285, 171, 163, 388, 368, 120, 158, 241, 47, 321, 2723, 177, 290, 408, 571, 128, 358, 628, 173, 369, 133, 176, 280, 329, 118, 239, 226, 167, 191, 321, 571, 2571, 406, 337, 418, 134, 306, 245, 171, 365, 502, 193, 132, 132, 1951, 488, 189, 83, 439, 1128, 202, 192, 380, 96, 159, 271, 307, 679, 300, 36, 50, 316, 269, 268, 241, 263, 226, 48, 677, 425, 114, 251, 294, 283, 511, 120, 457, 151, 221, 291, 307, 279, 216, 250, 227, 328, 238, 275, 260, 642, 200, 305, 261, 169, 226, 332, 249, 148, 288, 376, 430, 32, 115, 292, 223, 246, 82, 203, 356, 309, 154, 224, 452, 554, 316, 287, 230, 270, 88, 331, 68, 308, 167, 4344, 197, 148, 389, 189, 205, 758, 411, 303, 174, 265, 270, 254, 463, 458, 46, 312, 377, 245, 374, 190, 50, 122, 233, 208, 221, 290, 363, 2110, 257, 388, 362, 455, 151, 325, 164, 241, 87, 105, 515, 455, 284, 249, 2277, 385, 366, 58, 127, 489, 232, 177, 360, 101, 501, 209, 139, 385, 689, 269, 148, 732, 1975, 425, 102, 198, 102, 308, 214, 731, 279, 239, 768, 1397, 168, 155, 221, 314, 521, 370, 170, 176, 263, 20, 314, 261, 117, 467, 99, 326, 228, 295, 1079, 99, 380, 1070, 106, 262, 74, 446, 588, 260, 223, 191, 184, 323, 326, 471, 137, 332, 303, 190, 394, 428, 124, 1772, 347, 480, 404, 172, 451, 552, 313, 465, 181, 208, 396, 640, 258, 451, 180, 109, 212, 379, 264, 235, 354, 327, 368, 350, 322, 55, 394, 327, 283, 156, 69, 137, 139, 487, 371, 502, 530, 244, 240, 293, 263, 548, 264, 336, 268, 139, 251, 55, 372, 2498, 300, 302, 214, 128, 333, 213, 164, 283, 1823, 354, 173, 265, 312, 56, 296, 69, 217, 273, 450, 294, 313, 66, 566, 1162, 138, 298, 251, 215, 226, 609, 358, 111, 84, 385, 384, 113, 284, 500, 206, 595, 496, 351, 344, 235, 101, 92, 402, 387, 205, 1635, 3119, 335, 117, 283, 428, 711, 319, 238, 242, 5163, 395, 343, 146, 52, 288, 237, 298, 222, 1401, 329, 221, 181, 183, 169, 134, 480, 298, 124, 280, 130, 109, 274, 285, 648, 410, 449, 315, 193, 138, 221, 212, 235, 73, 1115, 184, 437, 226, 415, 261, 190, 464, 659, 209, 228, 297, 248, 326, 174, 312, 272, 407, 266, 2576, 541, 367, 174, 268, 271, 327, 399, 744, 187, 227, 76, 146, 362, 344, 345, 494, 537, 123, 183, 170, 304, 93, 507, 322, 439, 2070, 280, 578, 212, 121, 232, 402, 53, 205, 311, 168, 131, 149, 1216, 292, 395, 593, 213, 104, 376, 395, 345, 342, 210, 256, 295, 221, 560, 404, 142, 318, 55, 237, 1614, 55, 373, 638, 440, 1328, 262, 293, 378, 429, 383, 264, 307, 504, 460, 140, 134, 227, 411, 265, 180, 580, 210, 178, 292, 265, 2890, 387, 220, 237, 303, 212, 558, 486, 360, 400, 264, 707, 342, 594, 313, 203, 305, 182, 3107, 295, 363, 372, 172, 501, 116, 147, 616, 532, 635, 847, 268, 279, 408, 819, 177, 583, 355, 672, 389, 153, 413, 215, 272, 239, 298, 158, 198, 507, 171, 116, 452, 107, 150, 241, 47, 254, 62, 190, 236, 275, 126, 196, 422, 371, 224, 1488, 373, 242, 192, 308, 335, 608, 436, 113, 283, 516, 264, 479, 10665, 426, 173, 293, 484, 374, 371, 376, 130, 436, 107, 299, 210, 1586, 378, 2153, 256, 410, 289, 208, 308, 214, 431, 38, 116, 434, 254, 8583, 468, 131, 226, 125, 183, 440, 266, 203, 295, 486, 3030, 747, 205, 322, 63, 401, 340, 264, 208, 511, 170, 236, 255, 34, 327, 63, 117, 251, 400, 1053, 446, 704, 298, 205, 365, 205, 123, 611, 611, 49, 493, 463, 713, 456, 243, 212, 208, 364, 121, 347, 377, 464, 269, 273, 134, 247, 346, 336, 81, 332, 154, 309, 169, 277, 248, 201, 351, 312, 287, 221, 697, 414, 368, 247, 133, 337, 139, 161, 62, 332, 53, 146, 164, 99, 261, 392, 435, 99, 422, 302, 679, 1091, 527, 200, 465, 392, 147, 245, 167, 288, 851, 371, 256, 280, 680, 355, 293, 242, 274, 112, 200, 398, 294, 422, 188, 164, 109, 80, 104, 498, 294, 293, 194, 537, 207, 120, 516, 207, 906, 233, 584, 258, 304, 397, 362, 299, 315, 173, 358, 498, 391, 177, 329, 254, 383, 517, 375, 334, 310, 348, 428, 724, 267, 1845, 1407, 45, 418, 222, 508, 542, 185, 116, 524, 1722, 558, 544, 121, 320, 1653, 235, 475, 229, 566, 220, 151, 2956, 278, 416, 476, 357, 209, 517, 589, 374, 763, 259, 113, 256, 529, 262, 523, 601, 223, 555, 234, 174, 93, 337, 579, 464, 480, 275, 127, 141, 303, 318, 623, 1126, 338, 740, 344, 2878, 113, 276, 176, 65, 125, 254, 1089, 210, 285, 218, 340, 398, 224, 104, 337, 317, 406, 119, 230, 376, 138, 183, 239, 209, 240, 265, 250, 257, 352, 361, 196, 55, 176, 183, 242, 160, 108, 308, 141, 342, 258, 827, 324, 185, 205, 595, 203, 232, 157, 51, 297, 528, 138, 233, 321, 240, 375, 495, 536, 202, 376, 120, 734, 3292, 220, 198, 294, 210, 481, 74, 811, 105, 210, 179, 118, 1818, 496, 255, 168, 207, 185, 299, 318, 154, 135, 174, 514, 216, 493, 44, 358, 291, 225, 637, 551, 618, 403, 358, 94, 746, 263, 377, 83, 264, 319, 259, 814, 203, 469, 405, 952, 614, 297, 306, 60160, 192, 347, 409, 512, 525, 125, 399, 235, 227, 73, 445, 362, 274, 115, 66, 387, 288, 135, 1965, 458, 1573, 305, 224, 116, 551, 554, 523, 174, 220, 633, 519, 200, 261, 589, 188, 112, 324, 339, 320, 299, 55, 228, 201, 223, 131, 197, 418, 158, 122, 118, 370, 136, 890, 133, 89, 314, 306, 7766, 310, 312, 367, 475, 242, 227, 216, 362, 245, 313, 474, 163, 331, 320, 317, 183, 1348, 7753, 346, 101, 189, 560, 174, 222, 179, 483, 649, 311, 170, 299, 48, 652, 243, 147, 364, 374, 361, 229, 640, 323, 98, 526, 265, 29, 293, 337, 232, 442, 342, 671, 408, 115, 238, 319, 128, 267, 103, 112, 275, 313, 207, 73, 415, 163, 206, 207, 35, 222, 1497, 330, 3768, 273, 199, 245, 103, 690, 260, 531, 79, 292, 350, 239, 373, 191, 186, 111, 228, 348, 127, 313, 152, 719, 541, 682, 97, 507, 219, 419, 408, 183, 339, 299, 195, 298, 130, 157, 177, 525, 100, 279, 345, 227, 301, 357, 73, 245, 1257, 140, 363, 109, 235, 350, 200, 460, 228, 442, 113, 431, 192, 1166, 532, 450, 320, 211, 161, 191, 384, 561, 197, 221, 447, 401, 338, 519, 318, 478, 53, 629, 296, 39, 243, 304, 233, 345, 173, 3057, 364, 481, 228, 199, 387, 287, 310, 155, 284, 139, 574, 141, 367, 271, 152, 133, 263, 394, 403, 177, 842, 659, 1413, 145, 241, 170, 230, 138, 235, 361, 328, 176, 183, 515, 815, 342, 412, 264, 145, 366, 265, 332, 283, 71, 1022, 287, 2088, 404, 93, 179, 166, 646, 721, 345, 177, 192, 294, 2919, 282, 58, 152, 232, 728, 332, 326, 128, 372, 244, 501, 112, 418, 110, 370, 257, 466, 298, 285, 762, 401, 270, 569, 886, 189, 356, 588, 589, 41, 558, 254, 417, 354, 190, 293, 302, 255, 124, 313, 190, 262, 142, 248, 212, 134, 543, 152, 352, 288, 247, 312, 463, 699, 119, 125, 115, 123, 233, 46, 233, 470, 280, 284, 182, 416, 104, 209, 211, 308, 225, 438, 232, 338, 351, 273, 236, 347, 374, 176, 203, 316, 161, 230, 64, 190, 1276, 402, 261, 14, 146, 188, 48, 164, 360, 65, 313, 323, 131, 464, 165, 196, 488, 341, 232, 224, 501, 177, 562, 146, 408, 86, 358, 167, 507, 1759, 286, 990, 257, 398, 262, 397, 296, 221, 156, 59, 434, 254, 221, 422, 146, 310, 232, 256, 284, 132, 94, 203, 192, 543, 524, 255, 130, 58, 235, 94, 175, 496, 94, 270, 355, 59, 81, 539, 122, 1483, 368, 822, 123, 165, 388, 371, 154, 144, 473, 561, 323, 275, 222, 249, 300, 428, 221, 421, 246, 587, 343, 391, 229, 405, 470, 191, 57, 367, 217, 359, 250, 411, 508, 413, 297, 505, 39, 311, 272, 430, 195, 426, 294, 497, 364, 158, 180, 473, 570, 48, 147, 245, 547, 543, 25, 293, 397, 222, 212, 449, 145, 269, 317, 178, 233, 164, 197, 333, 13, 242, 239, 278, 87, 651, 564, 2296, 360, 195, 370, 227, 16, 703, 438, 353, 358, 230, 136, 277, 429, 447, 235, 763, 277, 586, 126, 301, 393, 180, 186, 723, 280, 300, 632, 317, 486, 5, 524, 46, 98, 155, 172, 75, 160, 323, 338, 316, 538, 360, 138, 220, 236, 317, 556, 1507, 321, 356, 687, 464, 262, 91, 139, 69, 188, 215, 378, 567, 390, 298, 93, 185, 286, 255, 232, 262, 280, 252, 453, 394, 51, 628, 275, 1868, 314, 480, 734, 260, 169, 79, 325, 226, 280, 454, 159, 167, 255, 215, 766, 182, 387, 430, 410, 302, 61, 251, 454, 150, 1044, 469, 181, 92, 185, 126, 144, 533, 506, 164, 312, 219, 510, 225, 371, 295, 238, 31, 454, 465, 194, 434, 269, 396, 327, 942, 420, 326, 230, 901, 252, 252, 271, 365, 307, 116, 315, 6176, 163, 329, 182, 281, 265, 109, 168, 153, 312, 230, 315, 347, 190, 287, 163, 386, 214, 326, 507, 225, 291, 649, 525, 1535, 1074, 41, 403, 45, 43, 175, 283, 49, 558, 262, 62, 21, 180, 201, 287, 207, 246, 344, 687, 90, 307, 355, 73, 172, 410, 443, 302, 416, 210, 358, 322, 203, 134, 259, 412, 290, 325, 41, 89, 201, 798, 1903, 73, 498, 233, 263, 407, 112, 213, 293, 323, 289, 424, 224, 1249, 138, 184, 470, 758, 237, 176, 716, 302, 410, 255, 491, 385, 123, 13, 334, 105, 410, 345, 209, 252, 324, 120, 369, 432, 60, 194, 803, 1047, 246, 593, 224, 719, 605, 264, 209, 504, 357, 266, 210, 288, 305, 356, 192, 38, 361, 1826, 211, 201, 214, 198, 2354, 479, 310, 657, 125, 198, 224, 159, 150, 183, 967, 220, 197, 384, 245, 294, 309, 434, 220, 106, 212, 378, 327, 313, 83, 362, 268, 64, 162, 518, 143, 348, 188, 350, 209, 568, 143, 227, 250, 221, 2101, 44, 278, 293, 142, 298, 180, 167, 187, 83, 267, 174, 188, 223, 333, 253, 146, 525, 148, 137, 320, 226, 356, 261, 179, 249, 653, 401, 255, 191, 690, 281, 326, 507, 257, 181, 274, 274, 168, 139, 114, 352, 218, 268, 298, 194, 239, 154, 141, 223, 220, 123, 215, 172, 149, 77, 240, 330, 664, 440, 365, 284, 91, 315, 285, 204, 198, 344, 159, 440, 230, 207, 214, 328, 549, 522, 272, 97, 1009, 1185422, 362, 193, 198, 3197, 234, 228, 30, 188, 323, 224, 242, 650, 337, 237, 369, 87, 286, 390, 491, 425, 6380, 323, 422, 194, 313, 193, 421, 71, 134, 169, 74, 2994, 407, 206, 868, 138, 129, 255, 1523, 451, 309, 335, 163, 85, 128, 319, 289, 179, 566, 511, 566, 253, 540, 194, 358, 330, 605, 288, 425, 2344, 451, 366, 217, 117, 217, 243, 4225, 273, 212, 247, 469, 285, 643, 149, 302, 454, 110, 40, 160, 106, 101, 219, 210, 256, 402, 291, 431, 261, 450, 235, 180, 265, 241, 299, 205, 249, 104, 247, 1518, 218, 234, 155, 308, 240, 489, 421, 92, 211, 405, 415, 265, 169, 204, 207, 249, 552, 85, 236, 222, 57, 217, 374, 262, 340, 359, 385, 325, 171, 203, 322, 201, 372, 337, 272, 362, 91, 208, 359, 6, 40, 517, 458, 233, 439, 416, 297, 86, 181, 335, 454, 437, 232, 364, 1269, 230, 172, 292, 29, 243, 472, 281, 699, 1210, 123, 383, 177, 226, 139, 170, 265, 436, 495, 355, 257, 375, 397, 197, 144, 895, 206, 249, 701, 411, 269, 115, 189, 329, 97, 173, 175, 121, 221, 484, 297, 203, 311, 104, 6, 143, 609, 105, 394, 78, 175, 353, 278, 217, 191, 230, 147, 422, 268, 371, 87, 233, 343, 689, 215, 265, 286, 207, 167, 180, 207, 210, 363, 149, 273, 112, 255, 292, 360, 235, 236, 509, 164, 471, 372, 206, 125, 272, 689, 738, 127, 145080, 425, 575, 315, 228, 176, 251, 249, 73, 276, 187, 165, 485, 220, 296, 152, 93, 352, 361, 145, 237, 282, 528, 276, 56, 271, 153, 92, 432, 401, 334, 324, 212, 343, 126, 110, 577, 213, 647, 264, 452, 263, 499, 217, 296, 152, 54, 849, 243, 179, 359, 3775, 233, 435, 434, 186, 157, 243, 550, 3142, 307, 130, 239, 153, 144, 278, 380, 295, 434, 374, 216, 142, 426, 523, 412, 353, 247, 308, 249, 312, 1196, 342, 414, 210, 221, 344, 133, 345, 2216, 295, 226, 161, 193, 296, 244, 290, 344, 288, 814, 299, 1538, 71, 116, 69, 222, 206, 221, 460, 249, 441, 270, 288, 468, 204, 203, 324, 165, 260, 438, 206, 321, 1000, 246, 270, 500, 266, 293, 133, 258, 305, 348, 165, 367, 144, 208, 1410, 376, 369, 99, 104, 255, 245, 402, 446, 213, 348, 241, 260, 423, 272, 466, 396, 157, 112, 142, 550, 208, 352, 130, 254, 95, 370, 359, 78, 367, 265, 288, 75, 311, 90, 475, 396, 421, 367, 259, 109, 105, 187, 248, 200, 164, 638, 3293, 306, 370, 365, 842, 253, 523, 193, 117, 184, 154, 215, 132, 463, 228, 260, 399, 139, 954, 145, 348, 309, 468, 369, 357, 118, 141, 2262, 396, 1396, 266, 287, 412, 209, 250, 484, 126, 208, 271, 1136, 468, 266, 360, 297, 143, 179, 34, 386, 143, 286, 125, 102, 229, 306, 60, 328, 184, 257, 423, 241, 1701, 1993, 135, 393, 586, 502, 1453, 294, 549, 152, 149, 471, 1631, 517, 179, 121, 259, 484, 355, 283, 267, 42, 426, 507, 286, 59, 325, 228, 99, 113, 372, 223, 307, 260, 258, 380, 463, 706, 193, 116, 77, 345, 173, 620, 48, 48, 296, 182, 337, 367, 469, 232, 208, 128, 244, 180, 277, 287, 109, 260, 336, 361, 124, 47, 397, 241, 757, 361, 266, 288, 356, 421, 107, 99, 39, 351, 313, 211, 483, 222, 356, 329, 228, 101, 1077, 531, 83, 318, 262, 547, 161, 1353, 115, 357, 950, 147, 275, 305, 640, 140, 89, 200, 149, 485, 180, 259, 278, 254, 184, 234, 152, 382, 406, 126, 677, 1288, 221, 533, 147, 597, 364, 104, 274, 209, 319, 346, 256, 421, 83, 374, 139, 154, 521, 461, 426, 269, 238, 218, 557, 159, 297, 311, 272, 396, 252, 215, 465, 216, 226, 534, 198, 340, 273, 570, 149, 553, 169, 412, 238, 583, 334, 324, 150, 335, 638, 459, 210, 81, 219, 426, 1396, 218, 146, 429, 568, 190, 306, 437, 118, 148, 581, 323, 246, 156, 338, 180, 212, 266, 509, 2111, 171, 233, 241, 339, 122, 229, 176, 409, 197, 35, 262, 369, 891, 229, 506, 306, 200, 376, 245, 523, 419, 252, 579, 346, 67, 141, 316, 103, 373, 218, 271, 261, 314, 191, 447, 286, 2466, 140, 366, 94, 1008, 325, 361, 60, 235, 162, 830, 846, 24, 402, 485, 166, 239, 220, 346, 195, 287, 75, 415, 155, 548, 771, 277, 173, 280, 90, 244, 162, 85, 178, 219, 190, 204, 349, 54, 253, 152, 347, 903, 169, 311, 469, 377, 345, 312, 227, 318, 308, 164, 185, 441, 140, 241, 418, 184, 418, 130, 69, 377, 185, 227, 178, 214, 927, 296, 96, 83, 317, 324, 312, 391, 653, 143, 425, 194, 293, 196, 310, 430, 537, 530, 843, 1212, 469, 1762, 10491, 322, 253, 834, 159, 3801, 269, 382, 202, 214, 280, 300, 276, 274, 206, 93, 150, 446, 425, 681, 234, 177, 165, 253, 324, 253, 605, 268, 82, 159, 27, 195, 150, 225, 664, 300, 460, 449, 193, 221, 491, 579, 300, 224, 207, 527, 266, 208, 568, 486, 27, 754, 209, 324, 317, 379, 440, 966, 477, 239, 344, 341, 220, 64, 346, 109, 183, 600, 228, 224, 424, 439, 267, 466, 377, 319, 316, 415, 536, 176, 175, 164, 337, 226, 197, 66, 418, 365, 112, 185, 72, 280, 990, 349, 226, 160, 218, 232, 127, 343, 263, 166, 359, 317, 225, 366, 163, 636, 140, 104, 715, 235, 519, 178, 1173, 271, 222, 267, 149, 422, 260, 354, 334, 370, 246, 268, 285, 234, 459, 199, 175, 234, 84, 138, 314, 252, 96, 169, 88, 573, 264, 348, 243, 414, 160, 313, 738, 88, 327, 143, 259, 21, 294, 73520, 259, 200, 679, 487, 378, 155, 251, 154, 363, 227, 370, 1026, 221, 59, 299, 242, 182, 231, 169, 426, 735, 110, 581, 1052, 209, 474, 1139, 387, 255, 293, 257, 308, 154, 393, 134, 466, 346, 478, 147, 449, 363, 190, 325, 232, 249, 292, 277, 280, 277, 318, 753, 4450, 665, 319, 195, 229, 190, 200, 276, 260, 1587, 220, 376, 477, 123, 431, 271, 414, 205, 103, 625, 210, 241, 281, 315, 94, 258, 481, 324, 301, 342, 189, 1797, 230, 892, 215, 251, 276, 259, 317, 369, 198, 354, 276, 152, 113, 255, 565, 184, 401, 261, 430, 267, 308, 142, 138, 28, 307, 223, 267, 2213, 843, 292, 187, 172, 426, 363, 1166, 141, 266, 140, 305, 469, 663, 161, 186, 507, 221, 276, 229, 271, 275, 251, 263, 199, 142, 80, 4471, 276, 124, 676, 373, 50, 454, 482, 349, 304, 279, 196, 656, 354, 511, 574, 181, 376, 362, 509, 457, 121, 329, 147, 221, 387, 281, 237, 270, 111, 206, 200, 252, 264, 189, 1109, 144, 303, 371, 236, 253, 181, 652, 239, 190, 153, 169, 246, 2876, 3735, 132, 196, 1170, 586, 289, 373, 263, 253, 205, 155, 294, 299, 242, 221, 287, 286, 184, 187, 226, 259, 253, 164, 383, 194, 205, 190, 246, 214, 59, 146, 497, 223, 125, 373, 583, 458, 20, 152, 250, 354, 257, 255, 291, 294, 510, 551, 39, 175, 231, 117, 139, 112, 384, 164, 373, 277, 85, 280, 462, 280, 135, 252, 435, 135, 232, 269, 203, 151, 2048, 241, 160, 251, 226, 418, 106, 223, 465, 382, 67, 38, 465, 628, 595, 197, 245, 360, 196, 360, 291, 445, 3081, 183, 287, 669, 162, 103, 327, 420, 493, 469, 165, 395, 272, 180, 288, 402, 297, 518, 119, 78, 353, 6360, 45, 408, 406, 71, 339, 1501, 201, 65, 363, 254, 186, 421, 383, 248, 381, 183, 270, 251, 444, 212, 177, 332, 362, 461, 259, 228, 36, 379, 363, 219, 148, 361, 139, 223, 100, 241, 424, 282, 178, 146, 377, 291, 187, 267, 687, 124, 233, 199, 176, 334, 434, 20, 234, 177, 214, 217, 129, 18, 269, 268, 226, 220, 250, 357, 252, 198, 249, 149, 478, 402, 362, 282, 241, 212, 178, 339, 307, 150, 286, 250, 226, 378, 140, 152, 172, 247, 289, 300, 248, 253, 366, 274, 240, 118, 103, 167, 241, 144, 187, 342, 518, 56, 231, 138, 408, 256, 189, 258, 110, 109, 433, 145, 167, 197, 92, 298, 311, 403, 241, 100, 98, 63, 372, 616, 570, 287, 158, 137, 299, 186, 244, 718, 210, 63, 114, 90, 2266, 312, 227, 170, 221, 302, 231, 130, 201, 195, 549, 352, 1496, 404, 162, 3323, 609, 786, 293, 235, 385, 158, 399, 841, 291, 201, 132, 227, 178, 128, 281, 350, 260, 232, 396, 238, 1290, 659, 275, 532, 295, 270, 213, 279, 202, 272, 135, 172, 177, 374, 595, 337, 153, 320, 148, 351, 270, 153, 135, 182, 327, 265, 242, 372, 198, 82, 318, 137, 199, 303, 519, 283, 205, 152, 450, 125, 268, 219, 99, 220, 207, 337, 756, 148, 210, 214, 873, 687, 301, 745, 287, 2524, 252, 454, 465, 900, 280, 184, 169, 302, 530, 133, 90, 375, 225, 344, 298, 4775, 288, 369, 391, 223, 2299, 381, 211, 274, 92, 298, 97, 161, 213, 215, 690, 311, 113, 196, 304, 224, 386, 1553, 165, 114, 340, 210, 1003, 88, 541, 49, 222, 214, 189, 258, 491, 293, 242, 173, 154, 1136, 451, 80, 148, 186, 321, 174, 434, 440, 324, 252, 183, 2084, 213, 280, 622, 271, 412, 166, 196, 400, 286, 142, 311, 180, 247, 274, 242, 137, 256, 1146, 65, 775, 176, 171, 1010, 140, 209, 283, 219, 192, 254, 251, 620, 350, 486, 121, 242, 327, 288, 391, 253, 259, 193, 508, 770, 158, 473, 96, 648, 225, 153, 184, 237, 415, 228, 614, 78, 360, 265, 407, 144, 612, 185, 175, 108, 433, 406, 265, 199, 129, 262, 231, 307, 587, 237, 1778, 828, 384, 153, 418, 79, 226, 190, 160, 55, 279, 265, 795, 268, 515, 330, 168, 410, 369, 686, 201, 89, 283, 494, 50, 97, 382, 364, 567, 705, 494, 200, 519, 86, 255, 262, 454, 240, 560, 336, 504, 290, 657, 1391, 190, 521, 181, 114, 509, 282, 234, 175, 1546, 253, 51, 382, 276, 331, 510, 372, 93, 152, 372, 216, 247, 303, 354, 271, 252, 230, 258, 928, 531, 259, 247, 462, 248, 44, 252, 162, 179, 362, 350, 187, 150, 440, 215, 97, 193, 491, 88, 185, 1756, 382, 271, 441, 166, 130, 810, 451, 232, 331, 1681, 337, 130, 197, 148, 207, 370, 210, 509, 311, 444, 271, 1202, 205, 253, 262, 180, 156, 377, 196, 293, 202, 333, 278, 516, 251, 238, 106, 125, 204, 215, 239, 410, 260, 239, 270, 328, 201, 359, 422, 208, 231, 363, 454, 257, 786, 284, 248, 164, 191, 195, 108, 189, 477, 511, 120, 48523, 127, 318, 330, 356, 739, 284, 1006, 163, 186, 1958, 162, 266, 232, 211, 262, 354, 251, 235, 316, 311, 394, 234, 619, 99, 316, 105, 769, 399, 473, 368, 249, 150, 482, 377, 277, 181, 216, 539, 139, 271, 44, 255, 203, 302, 657, 188, 389, 87, 274, 453, 167, 172, 230, 68, 57, 228, 335, 259, 1392, 384, 320, 59, 409, 211, 174, 418, 216, 279, 132, 398, 942, 255, 328, 281, 253, 673, 585, 84, 50, 79, 388, 138, 282, 145, 156, 195, 334, 163, 124, 427, 254, 190, 252, 130, 237, 261, 467, 349, 302, 280, 207, 504, 3390, 744, 340, 210, 392, 203, 155, 202, 69, 224, 440, 188, 417, 232, 117, 271, 454, 336, 79, 733, 18, 387, 233, 589, 308, 150, 271, 325, 428, 95, 480, 415, 388, 208, 341, 395, 344, 127, 329, 102, 244, 189, 113, 256, 219, 420, 221, 272, 502, 225, 371, 340, 272, 133, 608, 132, 1822, 94, 391, 236, 102, 1030, 174, 213, 81, 316, 221, 277, 236, 490, 145, 215, 519, 181, 340, 99, 247, 285, 242, 155, 342, 209, 169, 175, 146, 343, 151, 313, 261, 316, 133, 392, 171, 240, 142, 238, 452, 351, 204, 305, 189, 311, 274, 83, 490, 317, 247, 304, 598, 172, 93, 258, 7254, 256, 106, 140, 382, 221, 463, 181, 673, 493, 410, 135, 374, 212, 112, 201, 455, 59, 306, 873, 192, 686, 187, 356, 4755, 378, 27, 1941, 24, 327, 193, 305, 451, 271, 281, 573, 388, 728, 415, 348, 282, 663, 186, 175, 173, 583, 109, 127, 186, 205, 202, 179, 221, 204, 294, 504, 25, 1115, 92, 437, 110, 1105, 324, 331, 614, 179, 364, 469, 521, 335, 1169, 398, 107, 145, 229, 130, 241, 1315, 950, 325, 22, 291, 405, 642, 1287, 440, 264, 287, 528, 353, 296, 343, 432, 270, 540, 341, 424, 263, 261, 219, 142, 164, 1268, 223, 264, 325, 422, 251, 594, 364, 389, 151, 159, 357, 246, 247, 279, 183, 2575, 110, 270, 225, 480, 461, 558, 98, 92, 169, 229, 489, 199, 133, 497, 383, 301, 130, 183, 504, 201, 95, 450, 216, 261, 324, 189, 349, 204, 392, 132, 188, 217, 337, 265, 120, 198, 194, 482, 474, 399, 418, 590, 283, 195, 305, 392, 230, 193, 136, 652, 221, 314, 187, 255, 151, 294, 670, 159, 145, 121, 186, 442, 243, 81, 351, 242, 181, 277, 433, 235, 220, 186, 139, 149, 456, 136, 2650, 268, 476, 373, 88, 172, 334, 439, 429, 236, 273, 245, 352, 285, 187, 385, 338, 415, 236, 164, 424, 313, 124, 421, 436, 632, 189, 723, 588, 34, 720, 171, 2555, 215, 586, 208, 383, 156, 341, 529, 439, 138, 178, 24, 423, 310, 94, 289, 290966, 485, 310, 354, 250, 124, 551, 493, 186, 395, 1210, 268, 288, 173, 70, 102, 268, 308, 479, 323, 292, 253, 138, 734, 295, 380, 400, 302, 226, 301, 308, 168, 202, 1092, 119, 103, 212, 257, 176, 124, 160, 230, 161, 192, 370, 230, 232, 244, 565, 382, 161, 301, 221, 617, 501, 229, 305, 372, 95, 197, 149, 209, 64, 150, 166, 113, 159, 2565, 486, 219, 154, 207, 622, 313, 599, 489, 333, 383, 278, 99, 113, 462, 171, 255, 529, 726, 1254, 163, 230, 399, 268, 285, 552, 126, 243, 143, 236, 237, 42, 108, 451, 346, 121, 538, 119, 409, 154, 68, 95, 288, 349, 333, 296, 284, 227, 267, 118, 210, 186, 107, 214, 192, 47, 425, 140, 215, 260, 41, 322, 194, 307, 54, 228, 185, 356, 209, 323, 540, 95, 117, 203, 108, 338, 353, 373, 231, 346, 168, 1033, 283, 637, 198, 2188, 1747, 236, 439, 233, 569, 356, 179, 593, 936, 209, 132, 82, 120, 213, 253, 777, 275, 503, 381, 309, 43, 188, 126, 516, 111, 340, 227, 123, 488, 144, 170, 288, 156, 747, 555, 542, 237, 256, 1080, 164, 548, 424, 434, 1063, 261, 345, 409, 329, 377, 216, 251, 163, 1010, 339, 109, 309, 196, 186, 252, 300, 543, 286, 349, 383, 116, 283, 344, 185, 350, 442, 128, 342, 97, 365, 372, 176, 134, 178, 2229, 273, 364, 612, 387, 291, 160, 57, 240, 393, 159, 145, 367, 98, 247, 244, 263, 251, 280, 127, 162, 371, 224, 402, 334, 367, 245, 121, 251, 385, 303, 317, 372, 387, 153, 321, 416, 409, 302, 317, 199, 60, 680, 320, 204, 224, 274, 695, 235, 315, 237, 423, 134, 334, 17, 216, 390, 458, 1025, 294, 184, 380, 519, 265, 307, 27, 466, 373, 1636, 286, 319, 364, 530, 259, 294, 156, 292, 263, 268, 18900, 352, 141, 528, 129, 359, 40, 305, 415, 156, 169, 319, 218, 74, 293, 473, 330, 358, 351, 279, 364, 168, 458, 245, 309, 310, 408, 116, 271, 250, 363, 255, 295, 346, 262, 298, 351, 278, 525, 123, 1375, 2429, 158, 171, 183, 208, 379, 413, 279, 1252, 322, 170, 1184, 200, 468, 328, 382, 230, 419, 586, 43, 984, 270, 407, 351, 626, 156, 294, 374, 369, 239, 477, 201, 595, 275, 269, 438, 130, 521, 141, 19, 131, 235, 109, 402, 227, 399, 322, 200, 1670, 226, 96, 266, 340, 446, 291, 164, 192, 203, 243, 262, 232, 256, 472, 185, 193, 302, 181, 370, 241, 380, 190, 384, 489, 270, 346, 581, 361, 157, 340, 402, 253, 333, 509, 254, 125, 242, 75, 720, 148, 496, 517, 786, 355, 284, 273, 192, 928, 271, 157, 411, 257, 292, 106, 7063, 300, 1094, 421, 279, 145, 379, 253, 81, 482, 245, 347, 584, 248, 159, 68, 422, 221, 235, 437, 276, 308, 225, 602, 136, 1293, 263, 281, 517, 139, 204, 211, 238, 187, 273, 167, 106, 144, 61, 578, 199, 25, 464, 567, 579, 209, 137, 201, 1030, 117, 175, 487, 224, 160, 288, 146, 139, 170, 127, 33, 166, 117, 455, 397, 475, 175, 219, 676, 76, 158, 185, 543, 129, 272, 153, 279, 229, 276, 197, 220, 2779, 138, 226, 438, 316, 118, 473, 188, 452, 262, 212, 358, 432, 385, 84, 269, 292, 451, 675, 154, 190, 573, 306, 289, 601, 232, 246, 252, 450, 673, 266, 774, 484, 419, 419, 272, 174, 304, 222, 589, 293, 191, 247, 419, 511, 160, 126, 255, 351, 1099, 603, 122, 662, 160, 350, 242, 230, 148, 131, 216, 146, 551, 420, 185, 315, 590, 196, 444, 227, 803, 362, 188, 274, 396, 230, 200, 242, 42, 67, 349, 282, 291, 698, 225, 517, 213, 497, 417, 93, 90, 126, 393, 190, 749, 360, 387, 3027, 186, 282, 441, 228, 150, 294, 148, 159, 94, 304, 164, 287, 485, 283, 196, 312, 329, 414, 175, 206, 381, 205, 410, 283, 158, 180, 124, 410, 482, 679, 373, 113, 221, 176, 371, 425, 1712, 361, 1286, 191, 240, 152, 203, 632, 207, 173, 146, 119, 189, 588, 320, 577, 484, 240, 234, 210, 173, 225, 160, 256, 192, 196, 715, 142, 107, 641, 184, 235, 343, 398, 496, 222, 199, 232, 73, 1125, 1207, 237, 427, 375, 416, 372, 238, 232, 202, 116, 223, 433, 1483, 241, 456, 324, 217, 280, 510, 448, 194, 46, 855, 416, 159, 396, 123, 142, 329, 357, 215, 573, 162, 709, 245, 374, 182, 313, 224, 402, 428, 114, 2375, 691, 276, 359, 203, 149, 321, 341, 138, 72, 323, 223, 95, 135, 139, 61, 341, 159, 420, 195, 132, 642, 887, 329, 124, 156, 698, 837, 273, 307, 151, 289, 199, 192, 1033, 215, 312, 1630, 1138, 296, 107, 189, 173, 412, 592, 362, 463, 213, 372, 198, 213, 270, 202, 150, 375, 146, 269, 351, 429, 284, 174, 336, 313, 133, 410, 4697, 165, 312, 287, 329, 253, 324, 409, 221, 506, 636, 1208, 231, 280, 490, 183, 258, 482, 318, 309, 372, 291, 79, 338, 232, 484, 629, 354, 372, 320, 394, 1088, 537, 253, 370, 259, 837, 320, 442, 255, 274, 319, 478, 187, 167, 246, 86, 284, 217, 312, 269, 304, 56, 148, 336, 423, 70, 964, 288, 216, 164, 155, 375, 269, 705, 481, 493, 285, 614, 187, 96, 521, 579, 253, 297, 489, 203, 389, 153, 348, 399, 212, 638, 130, 686, 107, 235, 249, 164, 423, 1412, 764, 363, 521, 262, 451, 140, 365, 44, 239, 236, 295, 306, 605, 104, 3371, 369, 148, 175, 318, 266, 422, 214, 213, 43, 390, 413, 240, 325, 62, 324, 273, 206, 1525, 440, 126, 248, 81, 225, 294, 533, 109, 202, 313, 458, 170, 121, 247, 212, 244, 28, 332, 477, 587, 289, 137, 190, 377, 249, 138, 111, 295, 183, 62, 128, 348, 260, 314, 42, 1200, 334, 403, 218, 209, 329, 141, 584, 112, 238, 128, 3216, 343, 520, 184, 831, 269, 351, 215, 100, 315, 180, 16, 432, 434, 114, 61, 169, 314, 354, 107, 165, 283, 154, 160, 498, 300, 313, 546, 486, 211, 302, 417, 865, 302, 286, 512, 193, 127, 444, 362, 477, 185, 261, 74, 40, 294, 288, 177, 206, 969, 4191, 8, 163, 75, 389, 185, 351, 407, 263, 239, 707, 235, 242, 470, 426, 253, 258, 96, 124, 226, 180, 394, 380, 706, 488, 94, 372, 292, 207, 299, 379, 296, 497, 673, 143, 181, 296, 570, 245, 583, 37, 113, 1940, 393, 455, 121, 341, 1165, 54, 286, 224, 380, 231, 385, 559, 167, 323, 422, 344, 425, 367, 404, 2995, 814, 84, 457, 69, 245, 57, 128, 182, 305, 279, 204, 464, 365, 154, 106, 360, 32, 615, 476, 140, 332, 437, 269, 279, 561, 667, 203, 236, 238, 307, 144, 335, 184, 89, 887, 164, 247, 29, 431, 153, 293, 162, 204, 276, 594, 318, 292, 200, 177, 198, 153, 298, 586, 201, 565, 325, 351, 451, 2, 230, 159, 645, 169, 146, 116, 195, 413, 553, 428, 379, 314, 172, 583, 332, 124, 185, 185, 2874, 139, 423, 631, 275, 185, 167, 213, 250, 226, 170, 398, 520, 261, 65, 688, 305, 219, 135, 399, 219, 563, 291, 292, 163, 113, 236, 286, 370, 384, 405, 240, 440, 239, 443, 265, 512, 172, 477, 3144, 480, 154, 289, 259, 316, 573, 212, 88, 1738, 108, 373, 353, 343, 357, 579, 584, 256, 144, 767, 123, 232, 367, 197, 207, 237, 114, 210, 190, 316, 209, 216, 175, 166, 325, 430, 641, 268, 785, 349, 562, 277, 81, 242, 316, 319, 746, 117, 145, 164, 1355, 322, 373, 158, 226, 371, 202, 278, 594, 107, 69, 573, 624, 296, 295, 220, 569, 392, 176, 165, 445, 654, 177, 170, 154, 346, 114, 373, 534, 313, 387, 1073, 373, 252, 210, 306, 56, 227, 294, 113, 318, 84, 91, 306, 389, 183, 108, 507, 173, 261, 253, 283, 334, 200, 235, 490, 449, 4241, 83, 226, 153, 413, 175, 143, 897, 172, 31, 757, 178, 338, 417, 218, 296, 230, 312, 109, 507, 254, 184, 40, 269, 493, 406, 99, 227, 3529, 55, 503, 473, 335, 200, 192, 244, 421, 125, 189, 376, 159, 323, 108, 332, 190, 204, 413, 382, 215, 151, 672, 457, 241, 544, 153, 235, 135, 406, 190, 613, 150, 910, 341, 349, 197, 419, 153, 151, 299, 160, 42, 196, 243, 488, 368, 543, 233, 191, 182, 365, 1240, 578, 260, 199, 251, 77, 467, 138, 143, 126, 523, 359, 264, 263, 517, 634, 375, 518, 301, 626, 248, 205, 382, 594, 2280, 171, 200, 117, 155, 192, 363, 514, 374, 244, 420, 300, 220, 268, 136, 360, 224, 243, 226, 162, 380, 332, 264, 184, 185, 264, 479, 37, 281, 210, 216, 54, 165, 335, 123, 291, 302, 237, 375, 264, 926, 31, 1858, 317, 510, 324, 148, 700, 506, 315, 207, 213, 183, 123, 144, 322, 885, 333, 112, 268, 544, 276, 296, 404, 161, 422, 1094, 143, 364, 155, 685, 327, 225, 59, 498, 61, 515, 69, 1314, 296, 336, 265, 472, 555, 351, 1203, 129, 436, 184, 210, 287, 441, 53, 286, 264, 69, 412, 151, 498, 364, 179, 183, 321, 264, 216, 419, 1784, 186, 271, 291, 150, 282, 237, 738, 201, 445, 299, 244, 605, 293, 426, 364, 439, 131, 371, 206, 469, 294, 291, 147, 248, 300, 68, 748, 951, 374, 188, 250, 324, 306, 435, 147, 336, 496, 763, 755, 284, 410, 232, 40, 585, 463, 105, 190, 529, 280, 529, 492, 489, 260, 307, 186, 259, 411, 325, 149, 56, 204, 195, 172, 289, 620, 325, 329, 354, 129, 201, 591, 165, 227, 357, 239, 82, 214, 459, 1605, 28, 214, 158, 418, 206, 148, 264, 335, 966, 439, 357, 559, 193, 338, 202, 268, 155, 181, 95, 131, 354, 275, 169, 231, 83, 338, 346, 275, 589, 365, 1958, 147, 106, 292, 135, 348, 391, 359, 427, 137, 441, 362, 266, 409, 244, 391, 348, 404, 113, 189, 279, 572, 679, 220, 446, 126, 345, 221, 138, 486, 407, 354, 386, 240, 367, 122, 2694, 127, 294, 269, 242, 289, 177, 466, 230, 318, 264, 56, 208, 606, 157, 1116, 2223, 437, 445, 443, 240, 175, 2329, 169, 336, 256, 149, 139, 95, 187, 344, 295, 180, 573, 156, 416, 180, 278, 441, 305, 193, 371, 172, 325, 176, 288, 222, 92, 802, 355, 344, 208, 234, 1401, 186, 50, 222, 209, 390, 103, 252, 482, 507, 431, 835, 332, 92, 213, 145, 141, 309, 271, 324, 453, 337, 685, 358, 119, 481, 408, 56, 275, 6873, 43, 50, 217, 299, 52, 127, 485, 59, 134, 238, 442, 142, 278, 198, 342, 240, 572, 384, 87, 117, 169, 116, 162, 300, 298, 96, 219, 247, 261, 163, 110, 421, 303, 287, 177, 639, 178, 105, 135, 256, 402, 52, 292, 99, 301, 153, 99, 262, 232, 226, 128, 248, 50, 315, 87, 218, 242, 175, 175, 1486, 986, 151, 159, 550, 212, 170, 252, 775, 269, 722, 230, 274, 191, 219, 138, 161, 160, 420, 317, 474, 127, 198, 497, 218, 524, 270, 213, 194, 557, 336, 631, 330, 195, 374, 339, 75, 56, 289, 125, 350, 470, 494, 303, 3479, 471, 380, 206, 223, 386, 103, 670, 484, 211, 509, 382, 244, 152, 684, 136, 249, 157, 278, 145, 196, 316, 311, 156, 152, 110, 89, 340, 287, 194, 355, 273, 198, 181, 2353, 225, 379, 419, 296, 240, 181, 154, 451, 267, 319, 122, 316, 304, 127, 297, 257, 193, 148, 278, 372, 50, 66, 509, 356, 632, 425, 231, 297, 94, 235, 318, 296, 254, 212, 376, 793, 37, 178, 231, 173, 272, 355, 327, 350, 173, 448, 83, 41329, 139, 223, 156, 323, 554, 47, 324, 45, 164, 183, 148, 444, 60, 500, 53, 19, 26, 259, 318, 243, 205, 161, 465, 392, 403, 120, 335, 179, 220, 192, 455, 239, 195, 414, 220, 192, 110, 368, 275, 382, 181, 361, 230, 444, 183, 277, 213, 312, 135, 457, 479, 317, 424, 19, 269, 312, 639, 303, 243, 365, 144, 259, 628, 65, 293, 302, 449, 196, 327, 260, 182, 187, 50, 296, 300, 738, 216, 74, 151, 243, 135, 211, 289, 528, 274, 277, 88, 32, 284, 479, 197, 307, 222, 300, 218, 597, 3328, 310, 945, 181, 259, 193, 109, 459, 367, 235, 252, 381, 187, 1151, 410, 248, 447, 56, 85, 388, 352, 372, 134, 443, 93, 60, 167, 179, 428, 410, 168, 428, 316, 558, 353, 529, 336, 387, 58, 204, 167, 950, 255, 602, 174, 396, 251, 193, 137, 145, 337, 321, 171, 214, 249, 866, 120, 296, 41, 516, 367, 119, 317, 351, 483, 232, 189, 200, 177, 276, 149, 309, 306, 274, 474, 190, 273, 420, 225, 211, 362, 270, 128, 284, 231, 39, 45, 491, 229, 464, 289, 22, 494, 285, 328, 20, 98, 235, 225, 354, 320, 168, 600, 171, 276, 1077, 198, 231, 34, 383, 134, 210, 577, 228, 311, 536, 232, 901, 240, 356, 153, 51, 1518, 103, 934, 487, 259, 192, 186, 164, 308, 345, 718, 337, 354, 203, 94, 190, 316, 235, 397, 261, 157, 213, 192, 480, 180, 227, 269, 142, 557, 66, 49, 331, 429, 207, 187, 190, 313, 40, 298, 201, 455, 322, 241, 46, 354, 111, 245, 710, 215, 448, 452, 76, 304, 357, 230, 243, 619, 326, 488, 40, 327, 294, 519, 535, 161, 1920, 625, 475, 344, 116, 559, 205, 121, 119, 134, 448, 621, 232, 134, 226, 352, 323, 173, 89, 262, 133, 601, 65, 168, 230, 165, 234, 169, 404, 205, 31, 371, 184, 208, 336, 142, 178, 237, 209, 369, 182, 257, 292, 327, 485, 333, 218, 316, 124, 140, 347, 235, 1299, 238, 179, 348, 243, 325, 261, 175, 293, 1454, 396, 146, 94, 371, 339, 304, 138, 187, 365, 41, 193, 433, 460, 432, 67, 121, 256, 202, 274, 91, 275, 366, 495, 380, 201, 233, 1076, 556, 434, 183, 195, 289, 139, 163, 198, 242, 690, 218, 204, 201, 179, 235, 315, 194, 334, 487, 242, 289, 158, 71, 307, 49, 155, 321, 287, 172, 484, 232, 239, 656, 204, 755, 334, 319, 103, 159, 354, 748, 222, 182, 96, 284, 1107, 49, 890, 341, 298, 278, 302, 439, 431, 301, 271, 207, 271, 356, 67, 213, 113, 164, 276, 248, 343, 204, 237, 123, 317, 199, 217, 253, 200, 254, 667, 170, 103, 237, 440, 265, 95, 160, 244, 444, 180, 114, 215, 70, 729, 176, 171, 296, 232, 412, 163, 275, 306, 229, 394, 624, 225, 376, 322, 276, 119, 254, 404, 216, 151, 179, 246, 206, 198, 265, 437, 142, 2322, 90, 199, 389, 178, 227, 4483, 379, 48, 293, 224, 421, 244, 128, 282, 397, 150, 324, 256, 291, 239, 301, 641, 465, 263, 311, 270, 115, 217, 386, 294, 175, 209, 213, 271, 618, 184, 337, 154, 218, 119, 616, 360, 140, 491, 392, 135, 649, 234, 172, 297, 333, 40, 83, 184, 364, 137, 306, 220, 431, 153, 165, 487, 2642, 274, 110, 239, 342, 260, 182, 271, 290, 604, 226, 132, 303, 228, 175, 192, 411, 242, 3427, 493, 468, 260, 98, 506, 167, 129, 230, 323, 342, 303, 1177, 149, 194, 173, 162, 467, 477, 641, 464, 40, 885, 319, 272, 457, 240, 419, 277, 742, 846, 281, 188, 47, 487, 162, 226, 322, 650, 233, 250, 3939, 397, 26, 269, 459, 2547, 319, 344, 261, 158, 202, 527, 575, 189, 257, 297, 393, 228, 379, 186, 96, 190, 289, 423, 329, 228, 134, 294, 132, 669, 135, 240, 419, 189, 207, 482, 182, 417, 219, 212, 384, 624, 359, 353, 163, 142, 1050, 65, 104, 180, 164, 333, 315, 502, 52, 1077, 129, 333, 299, 309, 405, 28, 98, 210, 125, 268, 81, 739, 309, 422, 168, 82, 477, 255, 244, 169, 189, 465, 217, 574, 506, 400, 175, 142, 232, 204, 387, 150, 157, 284, 161, 162, 202, 372, 409, 454, 312, 312, 191, 251, 405, 614, 174, 267, 2042, 193, 513, 305, 495, 638, 378, 258, 188, 656, 794, 233, 334, 64, 314, 180, 453, 217, 155, 375, 308, 427, 10191, 639, 849, 654, 489, 303, 21, 453, 143, 377, 360, 1775, 501, 184, 279, 269, 192, 317, 395, 1112, 257, 152, 49, 281, 985, 243, 281, 160, 528, 315, 68, 232, 207, 454, 183, 159, 216, 172, 196, 164, 315, 227, 308, 225, 155, 338, 238, 467, 285, 118, 364, 199, 266, 403, 162, 229, 234, 474, 464, 810, 311, 170, 251, 400, 654, 277, 287, 106, 284, 275, 424, 160, 166, 201, 187, 147, 296, 595, 442, 172, 790, 803, 337, 489, 171, 219, 179, 286, 246, 311, 155, 327, 524, 248, 227, 602, 159, 271, 304, 132, 217, 435, 264, 162, 288, 276, 226, 869, 105, 61, 146, 208, 358, 250, 2835, 239, 201, 190, 684, 208, 73, 788, 218, 470, 423, 225, 254, 252, 248, 483, 320, 258, 189, 176, 9644, 376, 262, 850, 220, 448, 571, 324, 239, 183, 537, 163, 137, 268, 131, 188, 250, 135205, 211, 239, 79, 115, 87, 243, 135, 372, 274, 601, 265, 59, 363, 95, 107, 446, 111, 2023, 174, 272, 494, 159, 107, 389, 56, 764, 377, 136, 225, 134, 451, 160, 126, 294, 236, 179, 233, 340, 245, 249, 381, 234, 191, 738, 226, 138, 334, 582, 349, 377, 45, 137, 219, 213, 399, 376, 158, 231, 94, 240, 203, 120, 181, 259, 231, 158, 466, 206, 180, 292, 276, 371, 223, 481, 7570, 206, 188, 450, 512, 1227, 793, 204, 374, 151, 289, 284, 486, 237, 271, 73, 369, 270, 384, 301, 305, 181, 367, 593, 233, 156, 323, 62, 372, 375, 1635, 239, 194, 372, 419, 367, 256, 428, 378, 778, 215, 196, 242, 222, 23, 123, 522, 169, 249, 206, 199, 407, 134, 297, 443, 193, 252, 373, 240, 295, 271, 451, 185, 382, 302, 279, 205, 364, 246, 59, 10204, 148, 757, 890, 1174, 290, 270, 257, 361, 336, 210, 81, 461, 261, 88, 288, 542, 287, 11, 404, 405, 284, 204, 1872, 1234, 230, 341, 197, 147, 316, 285, 93, 474, 1415, 117, 156, 1370, 355, 480, 170, 241, 346, 385, 315, 456, 417, 1233, 148, 377, 337, 284, 255, 140, 314, 292, 1672, 556, 287, 577, 232, 61, 1186, 66, 396, 641, 152, 221, 142, 315, 71, 174, 247, 498, 404, 144, 316, 368, 410, 98, 329, 182, 292, 122, 149, 344, 224, 264, 165, 665, 201, 186, 104, 114, 1815, 330, 239, 145, 203, 164, 305, 324, 354, 318, 227, 275908, 246, 594, 153, 236, 866, 211, 173, 292, 453, 152, 568, 422, 154, 74, 249, 232, 218, 280, 209, 243, 112, 256, 42, 190, 140, 197, 433, 161, 334, 408, 204, 2253, 109, 227, 108, 457, 134, 308, 354, 233, 336, 214, 279, 244, 217, 418, 29, 779, 118, 53, 803, 236, 275, 111, 162, 181, 287, 255, 512, 595, 903, 1491, 236, 425, 322, 263, 206, 385, 127, 419, 287, 582, 178, 363, 208, 476, 417, 587, 304, 152, 498, 220, 279, 481, 311, 216, 530, 216, 118, 79, 351, 157, 379, 2753, 229, 251, 499, 210, 289, 520, 275, 175, 76, 290, 148, 169, 322, 433, 149, 120, 390, 291, 391, 353, 374, 341, 76, 433, 250, 128, 388, 154, 311, 216, 109, 850, 282, 497, 121, 268, 1386, 228, 239, 125, 167, 114, 183, 376, 139, 81, 354, 358, 286, 378, 279, 461, 124, 206, 1276, 1289, 490, 212, 76, 958, 313, 235, 392, 364, 465, 115, 384, 366, 46, 462, 175, 226, 357, 239, 484, 100, 77, 287, 242, 480, 368, 233, 397, 147, 188, 139, 292, 502, 94223, 246, 128, 687, 505, 431, 157, 115, 197, 340, 154, 176, 306, 126, 341, 441, 429, 309, 228, 305, 350, 1073, 368, 212, 500, 675, 236, 315, 208, 300, 144, 546, 745, 403, 161, 279, 539, 201, 136, 253, 192, 461, 1113, 159, 526, 109, 156, 139, 206, 143, 194, 107, 195, 10735, 1749, 608, 274, 345, 119, 172, 169, 227, 281, 320, 189, 359, 187, 158, 278, 231, 97, 1271, 256, 443, 147, 363, 284, 176, 242, 146, 192, 407, 167, 42, 357, 305, 233, 109, 3098, 225, 1163, 165, 95, 496, 383, 104, 66, 236, 194, 372, 157, 207, 482, 203, 335, 130, 446, 242, 463, 99, 241, 427, 261, 575, 367, 206, 224, 290, 463, 235, 95, 291, 313, 590, 217, 81, 246, 259, 119, 1515, 204, 279, 199, 407, 183, 162, 67, 234, 129, 698, 300, 341, 677, 178, 397, 345, 231, 278, 442, 191, 357, 118, 290, 372, 361, 240, 246, 57, 316, 423, 204, 249, 158, 130, 226, 444, 307, 209, 177, 204, 191, 398, 380, 192, 270, 184, 424, 310, 219, 198, 317, 132, 117, 513, 330, 235, 208, 714, 113, 273, 184, 161, 156, 550, 412, 96, 189, 214, 327, 409, 342, 260, 334, 228, 218, 474, 169, 469, 263, 112, 352, 528, 88, 415, 261, 418, 218, 174, 1306, 120, 439, 345, 278, 395, 319, 212, 188, 191, 171, 431, 248, 175, 184, 192, 323, 175, 454, 542, 261, 585, 122, 399, 228, 365, 244, 412, 507, 544, 586, 219, 345, 2868, 172, 427, 328, 1065, 314, 964, 137, 249, 257, 140, 331, 461, 300, 130, 332, 223, 371, 230, 171, 329, 482, 363, 272, 569, 294, 351, 168, 384, 353, 137, 287, 200, 88, 217, 350, 321, 1802, 411, 454, 887, 412, 162, 216, 378, 230, 311, 713, 312, 184, 196, 426, 491, 270, 1316, 795, 413, 483, 49, 147, 272, 233, 257, 299, 187, 234, 311, 144, 234, 257, 470, 232, 158, 678, 147, 715, 422, 301, 399, 90, 720, 193, 605, 139, 172, 324, 128, 384, 213, 98, 673, 157, 162, 271, 304, 111, 280, 264, 209, 538, 272, 561, 132, 167, 380, 896, 423, 269, 289796, 330, 137, 115, 421, 175, 286, 262, 250, 56, 348, 531, 245, 272, 170, 285, 376, 205, 327, 140, 403, 376, 301, 734, 554, 141, 490, 133, 519, 434, 114, 332, 430, 178, 247, 268, 328, 286, 92, 653, 371, 212, 172, 357, 238, 80, 240, 111, 401, 647, 258, 494, 194, 254, 447, 1696, 291, 475, 167, 125, 334, 124, 285, 323, 139, 481, 28, 165, 478, 544, 551, 236, 365, 221, 339, 252, 126, 144, 212, 97, 210, 347, 268, 290, 262, 260, 202, 128, 94, 229, 34, 158, 389, 203, 121, 308, 403, 144, 372, 144, 215, 140, 322, 220, 322, 303, 195, 137, 304, 246, 407, 246, 208, 199, 225, 207, 539, 169, 190, 408, 308, 175, 189, 415, 207, 189, 709, 124, 510, 103, 310, 201, 248, 287, 53, 231, 1492, 215, 151, 63, 400, 335, 157, 921, 382, 120, 104, 356, 246, 507, 279, 621, 189, 229, 85, 263, 357, 379, 700, 380, 112, 142, 232, 422, 577, 175, 282, 200, 411, 257, 202, 504, 157, 476, 109, 314, 320, 671, 2713, 467, 508, 153, 27, 226, 167, 418, 305, 134, 317, 448, 1197, 346, 111, 202, 133, 206, 193, 320, 85, 173, 192, 450, 171, 226, 333, 2100, 123, 474, 1199, 232, 101, 372, 346, 261, 86, 394, 287, 301, 249, 110, 290, 281, 461, 177, 273, 128, 1909, 414, 177, 174, 257, 485, 45, 469, 98, 246, 415, 123, 788, 266, 463, 126, 103, 150, 215, 228, 87, 245, 43, 316, 475, 241, 289, 124, 514, 529, 480, 233, 196, 290, 95, 793, 658, 198, 182, 751, 461, 257, 154, 317, 415, 341, 60, 430, 152, 294, 264, 72, 209, 429, 471, 2841, 452, 152, 378, 255, 177, 2541, 433, 110, 443, 528, 178, 203, 291, 354, 242, 201, 360, 445, 67, 83, 89, 254, 373, 133, 214, 209, 399, 304, 64, 457, 166, 190, 274, 131, 123, 263, 121, 197, 182]\n",
            "The number of words per article are: \n",
            "[3699, 14151, 5483, 9503, 1490, 3446, 5223, 7187, 3502, 4294, 4159, 4685, 8819, 8602, 329, 4033, 8801, 3997, 3481, 6442, 1292, 7455, 5274, 3877, 10318, 4695, 2569, 8779, 6760, 4846, 6982, 3830, 9868, 3999, 21104, 7194, 3082, 4417, 11470, 4633, 5635, 1706, 2113, 7943, 8603, 6134, 6259, 5019, 3422, 5962, 3170, 4343, 4119, 860, 4578, 3787, 1908, 10463, 4488, 2554, 8413, 2093, 4428, 13005, 2304, 514, 8962, 9964, 2507, 4773, 2324, 7098, 3556, 5926, 3753, 5144, 15533, 4916, 1592, 3743, 5803, 5924, 6203, 3863, 6505, 5876, 9174, 11883, 3383, 4227, 4754, 4133, 6770, 3471, 9852, 6629, 2213, 4846, 3875, 5884, 9167, 4193, 3257, 8282, 7638, 3984, 2597, 6396, 3279, 2753, 5466, 4616, 4794, 4857, 5336, 3802, 4966, 1534, 3861, 6000, 3282, 4076, 6002, 4113, 1077, 6846, 2457, 18007, 10873, 52998, 8913, 3983, 6044, 8568, 4355, 4799, 11468, 4401, 12459, 6344, 3704, 3802, 1775, 4933, 8833, 20987, 414, 4477, 21700, 3151, 1846, 4914, 3982, 2174, 3938, 5579, 6962, 3564, 4327, 26176, 3073, 3427, 12189, 4948, 1930, 31849, 5492, 7115, 11571, 1352, 5174, 10408, 4788, 1715, 9565, 9296, 6613, 3013, 10399, 4083, 4908, 1187, 5757, 1244, 8756, 3685, 2419, 8021, 5808, 2552, 7211, 2756, 9640, 5014, 3455, 33898, 46667, 766, 2534, 5952, 5800, 5306, 6286, 2837, 7577, 4248, 8216, 3300, 38752, 6994, 5123, 485, 6861, 6937, 4937, 5416, 6050, 6508, 9728, 4862, 6162, 4178, 8384, 3923, 3568, 4923, 5563, 6603, 955, 2019, 7413, 5998, 3888, 6448, 5404, 2877, 1730, 6641, 826, 5463, 7384, 6531, 36733, 2809, 2492, 8076, 10325, 4812, 2309, 11504, 12458, 19155, 4594, 22287, 4351, 4337, 3408, 3339, 2841, 3311, 3428, 3367, 3141, 7268, 6528, 23221, 2218, 8945, 4446, 5641, 12452, 8448, 9607, 9478, 5369, 4264, 8146, 4057, 3484, 10861, 6308, 5391, 11668, 3621, 4322, 4104, 8931, 4044, 9207, 15979, 6078, 5277, 6077, 2540, 4929, 7004, 9858, 32734, 7524, 1137, 2299, 2598, 5288, 8888, 9942, 6784, 5134, 16564, 3511, 12538, 3652, 3809, 4310, 4025, 6499, 9370, 5184, 7702, 3582, 6385, 2735, 5974, 2610, 2108, 4511, 3684, 7469, 5729, 4186, 14846, 4810, 13171, 5463, 3396, 2878, 7279, 7542, 7679, 1327, 3653, 25884, 8409, 4305, 2380, 11673, 8073, 8986, 5350, 2320, 10888, 4286, 6683, 6366, 4089, 9224, 11453, 8123, 2455, 10404, 4178, 4754, 4543, 7813, 3533, 1845, 3478, 7515, 3474, 5610, 6207, 11061, 3086, 4462, 11811, 9503, 1764, 9782, 17409, 2327, 3284, 4855, 6670, 10781, 6794, 2035, 12005, 5263, 3008, 4980, 5439, 7554, 1976, 3966, 4071, 4918, 7649, 4195, 7154, 4072, 5294, 4898, 6967, 5615, 10231, 5237, 28558, 12469, 3212, 13943, 7920, 394165, 2394, 6511, 3900, 10047, 14279, 5977, 2396, 4895, 3139, 4115, 13019, 1392, 2282, 6168, 1520, 6582, 16864, 10874, 9877, 3667, 4390, 3776, 8294, 10502, 4023, 2466, 2601, 11594, 6047, 5485, 4258, 7738, 10899, 54928, 7638, 15866, 10997, 1969, 1958, 4466, 2816, 2817, 6392, 2178, 3139, 3492, 6854, 2748, 5045, 3251, 4300, 7701, 3823, 11468, 5920, 5738, 8474, 5140, 2108, 9804, 7401, 3679, 2095, 3318, 4081, 13632, 7684, 6431, 5824, 7447, 2959, 3914, 2611, 5461, 6586, 5430, 3798, 3524, 2848, 11526, 3553, 14192, 7176, 3820, 10065, 4681, 7996, 7708, 3512, 5289, 7601, 4405, 5706, 3882, 2192, 4990, 8452, 7820, 15035, 4813, 6626, 4409, 9578, 3332, 8240, 2872, 4135, 5796, 2109, 7642, 4848, 4491, 3898, 3389, 3654, 5257, 3099, 4711, 4883, 1696, 4451, 3734, 24656, 696, 9833, 3967, 2235, 6652, 7354, 6790, 14021, 6333, 12603, 4124, 4316, 5630, 4294, 3118, 3707, 5148, 4788, 6856, 9234, 6476, 5493, 4991, 3152, 5253, 2562, 3492, 7453, 16963, 3210, 5613, 6633, 9048, 8206, 5398, 4570, 2863, 8066, 8413, 4737, 6112, 3713, 1450, 4949, 4646, 6728, 3447, 5553, 8132, 3179, 1838, 18219, 5126, 4385, 5398, 3808, 4680, 5907, 20573, 4144, 7443, 4262, 5057, 1922, 7841, 12140, 3804, 4745, 5937, 5564, 11376, 3000, 6472, 6498, 2115, 3815, 10578, 1632, 5419, 5762, 4652, 10003, 4666, 6938, 4154, 1907, 3522, 5558, 7556, 4677, 203259, 11047, 2023, 9877, 5350, 5277, 4138, 5408, 725, 5626, 5924, 6904, 4544, 7767, 5276, 2748, 5348, 4116, 4595, 3917, 5972, 3707, 5150, 4588, 9001, 4949, 8080, 5170, 3041, 4396, 4721, 3113, 7443, 2800, 18138, 3303, 2649, 6651, 9811, 563, 7073, 6320, 4608, 8878, 383, 6622, 5546, 15485, 4343, 2410, 10950, 7098, 5875, 8185, 5421, 3405, 8285, 12405, 4177, 35797, 4811, 7155, 2578, 4439, 26941, 4899, 5014, 4755, 3210, 4276, 1756, 1437, 1330, 3681, 5101, 8303, 3736, 1346, 7482, 2553, 16973, 3567, 3868, 2954, 5026, 1770, 6516, 4665, 3545, 6101, 10602, 7060, 9315, 4831, 5873, 6627, 2500, 7367, 4958, 8411, 5314, 3052, 2548, 2450, 6163, 6400, 5961, 4759, 3204, 27062, 2884, 754, 3724, 7542, 2791, 15318, 4754, 11015, 8173, 2757, 9705, 5965, 4296, 7816, 7058, 4442, 45687, 6264, 10352, 6682, 9956, 12908, 8132, 86970, 1906, 2893, 5754, 2875, 7581, 3804, 1922, 12575, 5173, 2026, 2520, 3162, 10066, 9766, 5282, 3160, 7387, 3019, 2359, 3406, 4098, 7986, 4231, 40972, 8478, 5349, 7585, 7068, 4060, 2862, 5712, 6494, 6483, 6030, 3161, 7571, 7179, 10819, 2681, 4143, 2583, 4354, 6305, 4493, 3477, 2282, 3465, 2652, 4000, 2177, 5894, 1753, 5156, 4664, 3132, 41365, 1621, 773, 8049, 3709, 11793, 12137, 7467, 4118, 5743, 2724, 4070, 4123, 5185, 9675, 7940, 4344, 5953, 3946, 7981, 677, 4617, 7136, 5025, 7335, 3191, 495, 5285, 7350, 10451, 3079, 2624, 8426, 7139, 7210, 2283, 3521, 4104, 3869, 3997, 2643, 7894, 3219, 21161, 2994, 5820, 5658, 8909, 5583, 7700, 3099, 2926, 15562, 12536, 3496, 10178, 5677, 4596, 3015, 2545, 2906, 5900, 5618, 6002, 8633, 9707, 13315, 6043, 3433, 3602, 6471, 941, 5908, 4783, 7053, 4586, 2764, 2338, 7358, 4966, 2759, 8239, 6845, 5593, 2613, 4802, 1982, 13586, 14605, 4614, 899, 4948, 10548, 3901, 10376, 9103, 4491, 1971, 4363, 3807, 3909, 5394, 2304, 4401, 19827, 3682, 6123, 6874, 10333, 5142, 3745, 6943, 7052, 2447, 5914, 4239, 2498, 17096, 4552, 9938, 2068, 3036, 7288, 7200, 6864, 7185, 3965, 3173, 6865, 4375, 6272, 5232, 3766, 3697, 2217, 5365, 5187, 7537, 3321, 3839, 2987, 855, 4989, 7839, 7957, 4151, 10940, 5253, 4922, 5085, 86543, 4570, 1663, 20552, 8740, 6250, 17478, 5606, 13238, 2717, 3589, 662, 6955, 4627, 5605, 11543, 3856, 5862, 2542, 5204, 2193, 10153, 8255, 2747, 7431, 2441, 5151, 8863, 6957, 7318, 3325, 8352, 9213, 5672, 7982, 6108, 2867, 1246, 18825, 3497, 6054, 2932, 7653, 4308, 5594, 7738, 12894, 942, 2594, 3220, 2980, 8892, 4781, 6672, 27300, 9304, 7260, 1133, 9113, 2871, 4081, 5148, 9283, 9778, 5637, 3770, 8306, 5255, 1730, 3430, 2601, 4537, 9501, 3136, 16727, 2882, 7370, 6802, 4745, 7748, 10071, 42734, 6494, 2370, 10464, 1570, 4444, 3036, 3691, 5686, 3627, 2316, 9753, 2804, 4253, 1973, 3528, 4183, 6705, 17454, 3187, 5040, 2018, 2507, 2309, 4602, 4153, 6242, 443, 3641, 4856, 7111, 873, 898, 7947, 17877, 5442, 474, 8206, 6877, 6777, 5602, 3407, 4936, 5222, 17111, 12589, 2275, 7742, 4384, 9321, 2709, 6647, 11023, 2981, 6404, 10180, 6532, 6456, 6918, 978, 6011, 3906, 3527, 4235, 2341, 4248, 3400, 3339, 3987, 63, 6327, 9109, 7421, 1376, 4791, 13221, 2321, 5579, 2821, 6360, 7736, 10909, 4281, 15822, 4083, 3863, 5858, 13292, 6384, 5362, 4363, 2867, 12072, 5941, 4518, 11678, 3362, 5096, 5629, 561, 4248, 6491, 2242, 5200, 3999, 3817, 3396, 5203, 3716, 6234, 4581, 2883, 10552, 5196, 4307, 4331, 6638, 6104, 4440, 927, 2838, 4846, 4093, 6104, 539, 3429, 3170, 4541, 4647, 10421, 3436, 6628, 3081, 4254, 5717, 12511, 4372, 7057, 5052, 6507, 5157, 1337, 5510, 2779, 4605, 12278, 7034, 4643, 3245, 6873, 3738, 7542, 3446, 10133, 6744, 8392, 7516, 8721, 7476, 9236, 6057, 937, 3587, 7576, 6866, 6564, 9181, 1292, 6342, 5448, 2042, 2980, 8223, 3544, 768, 3470, 3546, 4736, 5195, 4238, 6993, 1661, 9605, 6195, 2761, 6871, 57104, 5331, 4272, 5458, 12744, 4674, 5616, 4315, 3505, 1533, 7961, 5669, 1649, 6240, 9758, 4709, 20967, 3224, 6066, 1874, 5079, 3371, 2785, 9146, 4358, 7461, 6028, 3329, 9363, 10637, 5486, 43225, 9211, 13678, 3626, 4420, 4554, 4824, 2898, 8484, 7407, 4714, 3274, 4210, 5015, 6960, 8384, 4167, 5559, 6155, 5780, 5607, 2466, 7223, 7943, 3222, 4978, 3478, 3614, 2640, 5064, 5873, 8389, 5683, 4093, 7106, 11955, 8590, 4065, 3379, 12456, 5145, 4507, 3727, 2381, 3858, 6301, 1759, 5457, 2184, 8740, 13565, 5800, 6614, 8006, 12217, 5148, 3514, 4150, 4202, 1452, 8302, 5960, 4616, 2781, 6289, 3853, 3077, 5090, 1371, 3022, 28505, 47832, 2657, 13956, 8960, 359, 3199, 5485, 3035, 4866, 4269, 4134, 5416, 7382, 7074, 5436, 1715, 4619, 4323, 3380, 3964, 797, 7714, 3319, 6191, 3867, 3760, 777, 4027, 3609, 8529, 3532, 5888, 8975, 5255, 6463, 7746, 2603, 16203, 3792, 5205, 12837, 6801, 2525, 7505, 3709, 5603, 3337, 4132, 10719, 3752, 6272, 620, 7679, 4210, 8726, 2447, 2241, 4082, 5871, 7515, 7134, 5094, 866, 4656, 3898, 3489, 6455, 6127, 7796, 3036, 8050, 19529, 14037, 4426, 4835, 4344, 8435, 13760, 3395, 5406, 6004, 1537, 2462, 2877, 2076, 9301, 6795, 7445, 2205, 8529, 4952, 3393, 3578, 1036, 32245, 5600, 4192, 2808, 7938, 4587, 8302, 5962, 4985, 3756, 4972, 3413, 5916, 4331, 5354, 5530, 3053, 8697, 3936, 2841, 45068, 6002, 11580, 3992, 13450, 3454, 3538, 4148, 5837, 4310, 3569, 4131, 5735, 1025, 4533, 787, 3204, 4579, 13795, 3413, 3855, 13147, 5133, 7023, 5637, 7425, 11658, 6334, 11293, 7920, 31293, 14286, 5696, 6059, 2484, 2462, 4824, 4051, 11515, 6074, 4585, 5405, 13702, 3787, 2515, 11909, 3798, 3851, 9757, 5288, 3908, 4859, 1897, 8750, 9114, 2794, 9975, 11931, 28682, 3119, 3166, 5541, 5586, 2802, 5309, 6252, 3441, 2894, 780, 725, 3035, 2081, 2885, 1023, 5551, 10262, 3999, 3523, 3707, 4690, 3111, 5339, 13219, 4031, 11006, 13793, 12233, 3428, 7818, 7958, 9998, 6585, 3183, 3059, 5738, 9187, 6753, 63080, 2455, 5525, 2255, 15850, 3274, 2325, 14437, 3726, 4428, 5306, 19252, 5009, 6447, 6063, 7183, 5986, 1736, 7922, 8949, 1333, 5318, 1916, 6377, 7047, 1084, 12214, 7334, 10385, 14112, 4992, 5450, 4903, 7303, 8668, 4359, 5479, 14768, 7067, 4495, 6339, 5790, 1063, 8687, 5250, 11603, 10515, 3902, 2724, 3261, 9605, 5489, 10343, 3723, 9949, 6467, 5462, 2108, 3504, 8025, 3922, 4090, 5401, 3490, 3787, 354, 9243, 8660, 2083, 3141, 2409, 2744, 5654, 2793, 8359, 4966, 5750, 6056, 8500, 924, 24633, 3204, 2829, 4952, 8284, 3861, 4254, 7279, 1589, 14605, 15297, 3048, 6233, 2555, 5722, 5908, 3130, 6026, 5544, 9199, 1021, 4436, 8240, 8715, 4974, 14644, 5536, 3003, 3594, 2866, 9316, 4476, 3475, 2939, 1845, 535, 6721, 3558, 3994, 3937, 5507, 1917, 10114, 5167, 2297, 8661, 3179, 3449, 5542, 2136, 8491, 3034, 5349, 9070, 12774, 6587, 14271, 5934, 3809, 56034, 3613, 5074, 5312, 10595, 3007, 6219, 6081, 9673, 5191, 1615, 4451, 5276, 402, 5828, 3164, 3276, 10700, 1898, 4949, 7225, 14564, 3508, 19675, 3826, 2023, 8763, 10659, 2639, 3961, 5142, 7061, 46966, 5387, 5177, 706, 2200, 5058, 455, 6197, 9484, 3707, 5457, 703, 2191, 962, 7565, 45646, 4903, 8132, 5303, 5455, 2451, 14927, 3890, 6449, 4063, 5507, 27890, 3846, 2305, 1993, 3804, 4088, 13483, 4852, 5167, 4669, 3663, 1667, 2576, 1388, 5877, 2082, 6746, 952, 2347, 3646, 1459, 3759, 6250, 2346, 7915, 9071, 7384, 23829, 7160, 4001, 7455, 7638, 4544, 3693, 7507, 1264, 60712, 3473, 3208, 6233, 43488, 5567, 7378, 7513, 4020, 3622, 2633, 5656, 3536, 8459, 4780, 7869, 2967, 13895, 5545, 5809, 3621, 2981, 24530, 7469, 9560, 4719, 17537, 11349, 3468, 4291, 14149, 565, 5189, 4358, 2510, 4047, 10304, 9013, 236, 7036, 3670, 12220, 8207, 12028, 5049, 8260, 5780, 7797, 6325, 3458, 5498, 12830, 1392, 5321, 6672, 5148, 3690, 3839, 7612, 2829, 2765, 4515, 2738, 4169, 8259, 1381, 3114, 4884, 7207, 12918, 6338, 17163, 2919, 747, 6788, 4490, 9169, 3656, 4917, 496, 9491, 12802, 6596, 3880, 15059, 5686, 8058, 17320, 3248, 4349, 7745, 4109, 4968, 3941, 3465, 7888, 16665, 3859, 2088, 5145, 7666, 4654, 3825, 15406, 9576, 2373, 3530, 3546, 5728, 870, 9711, 11102, 7406, 3481, 2091, 4643, 1819, 56949, 2011, 3068, 2258, 9030, 2966, 8286, 3667, 7856, 9346, 6382, 4396, 6371, 3450, 4170, 4643, 8052, 8800, 6759, 5280, 4012, 2878, 5048, 6300, 9205, 2826, 10367, 3759, 3295, 4909, 1310, 614, 5045, 8011, 5402, 9490, 5334, 5031, 11438, 3245, 2839, 16485, 5150, 8296, 9988, 5577, 2040, 3455, 4976, 3850, 3601, 6443, 9757, 9470, 2923, 3246, 4203, 10460, 4795, 7430, 8854, 1284, 3982, 7987, 5294, 10576, 3991, 2766, 3020, 6079, 7983, 14355, 3406, 5406, 8756, 5199, 2647, 4576, 1710, 96936, 2844, 3585, 18603, 11239, 16865, 4909, 7135, 22969, 7047, 6517, 4913, 4559, 6340, 16688, 11348, 4988, 22231, 2467, 6757, 5359, 3282, 12892, 5463, 6845, 5400, 8486, 4975, 7125, 3939, 11974, 4815, 4720, 7354, 4000, 4320, 8530, 53734, 5102, 6743, 17128, 4218, 7741, 1550, 4831, 6149, 2620, 9762, 3674, 320, 5205, 5135, 7089, 7794, 4670, 3376, 3998, 6898, 3010, 2573, 5672, 11928, 2084, 7583, 2754, 3644, 10888, 5218, 4811, 5104, 5296, 4836, 6590, 6678, 2085, 7431, 7737, 3860, 4044, 3459, 6351, 2742, 3304, 6977, 8798, 5983, 5732, 3524, 5171, 2636, 4203, 8350, 1907, 636, 2961, 6038, 3876, 9907, 1836, 1228, 1930, 3115, 1414, 8019, 5612, 5386, 2402, 3097, 5242, 5878, 9091, 3609, 8541, 3844, 3814, 2939, 5071, 4611, 4939, 3366, 3302, 5628, 2305, 3997, 2166, 8576, 8758, 4815, 4187, 2621, 1744, 5800, 6367, 5505, 1101, 1716, 9095, 5570, 4403, 2970, 5350, 2061, 7818, 10650, 5802, 3843, 6747, 8520, 4238, 6696, 10155, 2723, 12604, 231, 1973, 3257, 6658, 1242, 2796, 5513, 10600, 8178, 9426, 5150, 7628, 7856, 3839, 5514, 11647, 3854, 6544, 9022, 3424, 8837, 5345, 268, 5233, 2694, 5436, 3156, 10838, 2041, 11580, 7514, 2439, 12090, 2454, 2655, 7706, 20600, 4075, 10220, 3168, 4359, 2192, 4893, 4364, 3517, 9754, 4727, 2631, 4829, 543, 5299, 3225, 7095, 2117, 8438, 884, 4001, 5308, 4622, 3729, 1654, 2650, 16726, 7936, 3637, 6735, 8905, 4242, 21164, 6406, 8809, 4042, 3093, 1833, 3504, 3993, 3434, 3018, 4451, 8774, 3325, 4607, 13528, 4690, 2308, 7793, 1152, 5301, 5671, 215545, 3794, 5506, 2233, 4597, 4909, 5655, 3520, 4114, 3655, 18586, 4328, 2622, 7702, 5077, 6817, 1173, 6759, 4288, 2130, 6405, 3887, 4079, 2300, 3634, 13096, 8362, 37925, 2283, 2160, 4583, 3695, 5572, 10679, 1538, 3163, 2807, 4436, 2281, 7221, 17057, 6404, 3819, 15287, 4213, 4173, 6748, 1384, 6703, 7696, 4817, 4847, 2502, 7072, 3257, 4011, 1968, 925, 12329, 7086, 6845, 1195, 3254, 2249, 11607, 1249, 8606, 5261, 6956, 3346, 5094, 5015, 3718, 3104, 3680, 8252, 5818, 2673, 1483, 4124, 6407, 6437, 1592, 9988, 2875, 4129, 5445, 5428, 4396, 2546, 1929, 2746, 3309, 5100, 583, 6288, 6706, 11746, 5288, 3197, 13383, 7293, 2010, 8076, 4308, 5791, 3197, 6194, 1724, 7109, 4140, 3614, 2432, 8331, 3257, 3266, 13041, 4895, 1308, 4283, 7334, 6373, 94, 2493, 6189, 3760, 7340, 2932, 2372, 6833, 920, 5707, 3828, 7868, 1951, 4532, 6734, 5158, 38384, 6051, 4651, 10712, 1094, 5997, 7125, 7862, 1892, 8479, 3533, 2678, 3208, 70, 3793, 4418, 1928, 1774, 2014, 38276, 2585, 6600, 7806, 3255, 7244, 5070, 3120, 1575, 2587, 8438, 6918, 3209, 5072, 4461, 4308, 3987, 1592, 12553, 3914, 4115, 69982, 7039, 871, 5099, 3473, 4218, 5198, 5682, 3712, 2305, 6593, 9964, 2605, 3384, 10272, 4145, 8277, 6010, 6883, 4462, 1101, 6026, 4113, 2473, 6676, 368613, 1295, 3803, 5843, 4740, 9100, 5692, 11771, 4423, 11127, 5204, 3937, 2912, 2935, 3672, 5186, 5570, 27103, 5511, 5883, 13645, 8876, 5219, 9608, 4282, 3365, 5016, 6577, 3945, 74506, 4935, 11650, 3630, 27664, 8809, 2508, 8565, 5386, 871, 7942, 2922, 7433, 4078, 5370, 6167, 5478, 3145, 5367, 6307, 4579, 3384, 3974, 13832, 3945, 5481, 3751, 4258, 1517, 3354, 7471, 4434, 5955, 5902, 1148, 7377, 3747, 3520, 4524, 5664, 5210, 2611, 6334, 4505, 2372, 9146, 2238, 5936, 4081, 4080, 3324, 7852, 18310, 6670, 3047, 4285, 3797, 7817, 10347, 4414, 8888, 7369, 8078, 2029, 5313, 3792, 3393, 3865, 3758, 32376, 1821, 4346, 3259, 34698, 10207, 5405, 5768, 7830, 4102, 9300, 5681, 3001, 6138, 4544, 6272, 8490, 2318, 5840, 7582, 2775, 11692, 4212, 6327, 6494, 2358, 2631, 3669, 4553, 3973, 2682, 6096, 3568, 5979, 4701, 5132, 567, 4184, 12180, 21084, 1869, 2363, 4119, 11736, 2630, 10151, 3414, 3787, 16351, 5621, 7976, 7574, 1797, 4332, 6625, 128717, 5054, 13632, 3697, 10632, 7757, 3089, 1317, 3609, 3034, 2944, 6377, 972, 7059, 7273, 6572, 3041, 4988, 1242, 6360, 3438, 3358, 6081, 2521, 3777, 5783, 2101, 1753, 1823, 881, 5985, 4746, 5087, 3180, 3411, 5931, 3621, 7271, 5479, 78767, 4937, 5287, 9921, 11414, 3035, 33330, 11531, 6725, 15605, 6468, 7372, 3702, 8239, 5724, 4492, 5621, 884, 3819, 3572, 3863, 5902, 6479, 6511, 3806, 8744, 10194, 9236, 4127, 9075, 7545, 2909, 4396, 32802, 9035, 4326, 3668, 3474, 3265, 19690, 24334, 3708, 6220, 2959, 9529, 5749, 5822, 7203, 42751, 80519, 1905, 3326, 2800, 2713, 6260, 19997, 6152, 57335, 6012, 7250, 6431, 1185, 4820, 3707, 7387, 1186, 9715, 8395, 10947, 5320, 4769, 5762, 6847, 4379, 4090, 3652, 4964, 15929, 9006, 4121, 7030, 3013, 6521, 2555, 8821, 5902, 2890, 8149, 9367, 3016, 2998, 3243, 1519, 6263, 4869, 210, 3853, 3623, 5596, 6012, 7109, 4873, 5433, 9561, 4825, 17026, 5180, 5978, 2135, 6922, 4682, 2848, 7186, 5409, 4569, 1274, 4580, 6232, 6425, 4741, 6537, 10089, 4434, 6190, 2912, 7789, 5322, 8989, 9968, 4820, 3499, 3563, 1276, 13995, 3657, 9758, 11576, 4642, 2472, 9368, 5092, 882, 6092, 6052, 5233, 2841, 7089, 3713, 8879, 11436, 8990, 2780, 6974, 3477, 4700, 5055, 8423, 4072, 2016, 6044, 4157, 3871, 1093, 2942, 1495, 6018, 3271, 8325, 5025, 5096, 7396, 4629, 7365, 2929, 16497, 4462, 15786, 3826, 5435, 11155, 9081, 3048, 2379, 2082, 6804, 3557, 3442, 3228, 33740, 2155, 3439, 4669, 1043, 4458, 3386, 3620, 6495, 5501, 4243, 1230, 3142, 17399, 2529, 6702, 3880, 5194, 4327, 3497, 13971, 4730, 3238, 3085, 18140, 8171, 4277, 2859, 5356, 7014, 2562, 4566, 5616, 3897, 6540, 7104, 3506, 2886, 4860, 12076, 4867, 4938, 2161, 4166, 7928, 11160, 2127, 2228, 2910, 5384, 5748, 4952, 10527, 3567, 7272, 15753, 7923, 4431, 5307, 5390, 3797, 11925, 5578, 3774, 7093, 18191, 2710, 3069, 5492, 2670, 7628, 6699, 5507, 12853, 7041, 3658, 9811, 7223, 6163, 5542, 4212, 1138, 3582, 6118, 10406, 3841, 11622, 8414, 5976, 6493, 5088, 14280, 3991, 5180, 2138, 2276, 3983, 5093, 5015, 4792, 12300, 5125, 6721, 5915, 2449, 804, 2017, 2013, 7151, 5710, 14763, 9240, 8793, 3581, 4285, 5925, 983, 9749, 5619, 77038, 7696, 4950, 18711, 3266, 1427, 8410, 7723, 5221, 1994, 12057, 6276, 9803, 12178, 5604, 3754, 7824, 3717, 7968, 6291, 5736, 397, 5379, 6457, 5327, 5437, 7428, 16486, 5298, 6298, 5263, 5626, 27244, 7502, 12103, 2562, 4709, 4517, 3669, 5187, 7125, 10298, 4288, 9956, 14206, 2197, 4858, 3722, 5501, 2907, 6507, 3377, 9274, 5678, 1823, 10438, 3658, 3444, 33975, 46399, 7918, 38538, 4338, 4606, 7851, 7176, 7523, 3328, 6762, 4287, 2105, 6693, 23365, 4511, 6443, 13467, 5227, 6569, 13708, 4886, 7015, 1383, 4225, 3917, 5951, 5923, 7472, 5115, 3718, 9762, 11332, 7048, 13333, 2132, 4552, 5976, 17911, 9094, 1481, 5681, 3011, 5445, 2755, 11122, 1864, 3976, 7219, 918, 8637, 3515, 815, 4177, 7864, 33272, 3898, 13417, 5516, 4849, 3319, 2859, 5335, 8936, 4139, 10578, 8519, 4441, 4101, 2489, 7113, 1142, 4700, 6367, 1402, 3060, 5196, 3154, 7536, 3776, 4512, 4771, 5587, 4157, 4835, 6180, 882, 739, 7864, 6650, 5686, 1207, 3437, 2512, 2253, 5293, 4112, 8676, 8264, 10470, 4574, 812, 1897, 9496, 4081, 2417, 4618, 11488, 895, 6167, 14034, 9778, 2783, 6659, 4167, 3856, 11302, 7072, 3400, 5931, 6037, 2637, 7458, 6426, 33725, 3240, 1244, 3464, 5863, 4323, 3206, 2229, 4143, 3724, 3836, 3257, 8011, 8049, 3853, 2939, 3910, 4791, 3561, 1791, 6081, 1838, 4594, 2738, 2476, 6068, 8239, 6177, 3349, 6740, 3209, 6517, 1996, 4589, 11503, 10990, 13811, 7437, 2424, 4075, 997, 4902, 8065, 7317, 6127, 7650, 4930, 2705, 6509, 3384, 2676, 7048, 2662, 9851, 10783, 7663, 8690, 4265, 2103, 31848, 4219, 5942, 8165, 7862, 12207, 6392, 11963, 4471, 2098, 1816, 6072, 6549, 1793, 6534, 2910, 4620, 7232, 37391, 4162, 6255, 4884, 5231, 3815, 2353, 11844, 6349, 4985, 7932, 6948, 8798, 3468, 5341, 4862, 3617, 2498, 8039, 3706, 919, 3707, 5545, 1867, 3435, 5909, 7106, 2296, 8450, 5811, 3983, 3048, 4524, 5880, 7012, 5678, 15784, 5261, 6662, 30059, 1364, 3291, 1714, 1469, 149068, 1263, 5353, 6612, 8033, 7586, 7968, 7455, 798, 2576, 5671, 4814, 4976, 5643, 1486, 3724, 2169, 5949, 5846, 4172, 3938, 5741, 3502, 3292, 11907, 3014, 8710, 3733, 5753, 6698, 5204, 4427, 2362, 4900, 1923, 3475, 2791, 6808, 4595, 8100, 10354, 2818, 8631, 6184, 1590, 6372, 3208, 5174, 8678, 24549, 1548, 7383, 4879, 3867, 10726, 12198, 367, 6562, 5547, 3496, 4144, 5717, 1365, 7112, 8510, 5637, 5091, 6221, 7171, 3093, 5923, 8555, 4005, 4916, 3708, 3767, 3991, 3727, 3864, 3314, 6517, 1775, 11130, 9219, 9603, 4133, 4040, 1729, 7066, 9204, 12772, 1945, 7422, 6805, 4622, 3454, 9926, 4713, 4095, 6786, 5429, 13597, 2099, 8324, 4524, 8467, 7868, 3229, 2284, 5210, 9254, 6934, 11086, 6159, 5104, 5385, 6557, 3592, 5066, 4803, 7635, 1002, 9951, 2778, 12909, 4735, 6131, 7447, 6031, 9760, 7164, 3607, 8799, 3749, 2724, 5734, 10721, 37811, 2465, 7071, 18909, 8114, 928, 6482, 7578, 5942, 4724, 2667, 28106, 3881, 7876, 7001, 2229, 5400, 3675, 7392, 4887, 3199, 6655, 7892, 3665, 6788, 4375, 15474, 1478, 5382, 2830, 7582, 7045, 4842, 9418, 7207, 13882, 2683, 5483, 4731, 10494, 5966, 4839, 5068, 6741, 1696, 9912, 10943, 3421, 5323, 2515, 6230, 9057, 4363, 3735, 3391, 5130, 6467, 1179, 7994, 25886, 3341, 734, 7125, 2885, 3650, 4452, 2802, 1722981, 7978, 3915, 2602, 1860, 3289, 21469, 6717, 34973, 6086, 5815, 9290, 3319, 6748, 4522, 2367, 3186, 5548, 3489, 7775, 9394, 3342, 5405, 7568, 7711, 3279, 4898, 9151, 4012, 5168, 2353, 3864, 7715, 7227, 9161, 2941, 6923, 6877, 6508, 6153, 3031, 3836, 26626, 4036, 4128, 3281, 5110, 3262, 2368, 5242, 3264, 1507, 4309, 2145, 2368, 6871, 5781, 11358, 6367, 5340, 5320, 3158, 4863, 3405, 4487, 5737, 3461, 2074, 4240, 6306, 4607, 7107, 3601, 6708, 6177, 5645, 8658, 18652, 4851, 3632, 3753, 5591, 3028, 5463, 7182, 2575, 26274, 33212, 2066, 1023, 3351, 6302, 4144, 6047, 4670, 3002, 1741, 4881, 11670, 4089, 12548, 3981, 6104, 2682, 4926, 1916, 6043, 3851, 4126, 10739, 6789, 7806, 8819, 3546, 4831, 2330, 12500, 2708, 4786, 7249, 5377, 6217, 2053, 13788, 4603, 675, 5231, 3498, 7448, 6785, 8696, 13395, 1279, 11321, 2266, 7816, 4787, 3737, 8131, 9490, 3209, 4317, 2500, 1766, 1439, 5682, 10658, 7282, 5700, 2145, 4399, 4372, 3363, 7733, 24317, 3504, 4115, 879, 7670, 13880, 5117, 4825, 7351, 6235, 5526, 1766, 9782, 4584, 7166, 11859, 3663, 6992, 6363, 3946, 6970, 6492, 3162, 9489, 5969, 4353, 3326, 4903, 6048, 7744, 7983, 11527, 7777, 6319, 3134, 5105, 6332, 7600, 4006, 4273, 5339, 3917, 9706, 22214, 4445, 3709, 8260, 4149, 8737, 3978, 4301, 4599, 9268, 7608, 5580, 2863, 5820, 6300, 9597, 6099, 4080, 6034, 5113, 4546, 7215, 3825, 10795, 5663, 3295, 5130, 4886, 5564, 1920, 5470, 4965, 4459, 5159, 37174, 4321, 3827, 4833, 9484, 23045, 4156, 3038, 5443, 7300, 339, 2868, 7275, 4845, 2124, 1645, 5202, 6978, 3452, 12309, 10057, 4638, 548, 1070, 25771, 3701, 9941, 15140, 2424, 4349, 8140, 8655, 9621, 3815, 33652, 33188, 4004, 3421, 10353, 3108, 16685, 6500, 2384, 3583, 2118, 7073, 1438, 5648, 4348, 3343, 4821, 4169, 3522, 7947, 2858, 2412, 6553, 4714, 4751, 1886, 3106, 1127, 6156, 7431, 4224, 7442, 4763, 3316, 6131, 3709, 6284, 1759, 10176, 4216, 3784, 5294, 11001, 10659, 5502, 8922, 823, 8166, 4444, 3552, 4544, 1900, 5415, 6626, 3136, 4626, 54117, 8322, 9143, 6573, 3732, 2980, 3043, 5802, 7828, 2201, 19889, 7612, 5446, 3866, 10941, 5351, 10227, 4399, 10001, 7854, 8152, 15237, 12573, 14179, 7171, 4545, 8411, 6889, 1569, 5910, 2189, 1736, 6138, 4973, 6281, 11106, 5428, 2185, 7460, 2216, 7181, 5217, 4059, 8717, 24630, 8774, 1303, 5002, 4518, 2746, 5902, 3454, 5611, 5509, 5101, 6639, 4778, 8999, 4119, 3226, 5528, 6899, 6038, 2556, 4631, 7264, 9502, 6217, 3856, 4998, 3199, 3572, 8874, 4587, 4059, 2030, 9482, 6148, 5465, 5721, 10128, 3750, 4850, 10941, 2283, 6746, 6022, 2857, 19664, 5545, 2470, 5133, 6722, 4301, 5773, 30966, 4909, 4494, 7157, 7295, 5592, 952, 5905, 3027, 42845, 3811, 582, 3819, 1841, 3130, 5698, 4187, 3052, 3411, 6558, 3293, 3182, 1808, 9636, 44108, 3349, 2599, 9109, 2809, 9923, 21744, 5906, 15001, 8107, 11211, 24787, 8131, 16245, 4206, 4441, 6363, 2305, 4870, 3673, 7926, 5032, 8675, 11732, 16358, 988, 6944, 2813, 4603, 5269, 4564, 2796, 1998, 2306, 7660, 8465, 5603, 2126, 15918, 5222, 4295, 4559, 2621, 10996, 4808, 9050, 7151, 4535, 8754, 6711, 7154, 3569, 8249, 5613, 6105, 3144, 7320, 8937, 3850, 4584, 8153, 7324, 2362, 4202, 7192, 5322, 6069, 2581, 7071, 3832, 5097, 8911, 11443, 9045, 6920, 7805, 10850, 3373, 4393, 3606, 7241, 3326, 4948, 1417, 8556, 3557, 5002, 5699, 5963, 8633, 5687, 6703, 3421, 1705, 5522, 4408, 4627, 7598, 5383, 3076, 13136, 2526, 5094, 5559, 3935, 11974, 7215, 5362, 8302, 4300, 8775, 2013, 886, 2536, 2503, 8194, 7403, 4384, 4330, 5891, 6114, 3067, 4784, 9001, 2006, 17232, 1416, 245, 7195, 5398, 4937, 4707, 2162, 5937, 5684, 17898, 2921, 4712, 2282, 4026, 3509, 4025, 4809, 8834, 9391, 3956, 6143, 10211, 5638, 3923, 8620, 8257, 4003, 2909, 3170, 11507, 1910, 7871, 7671, 4300, 11071, 2808, 5723, 5756, 8756, 3094, 2783, 22329, 3754, 9900, 12692, 3647, 7677, 1669, 515, 6327, 2712, 4619, 4970, 7311, 10602, 3112, 3615, 3774, 7352, 1848, 1624, 8398, 2783, 5580, 6574, 3473, 7108, 3288, 3356, 8398, 6724, 4914, 4840, 2636, 7822, 10841, 11913, 4450, 2862, 7037, 3751, 4066, 5329, 48329, 3245, 4586, 3376, 10393, 5660, 3606, 4539, 8161, 1686, 7250, 6419, 2418, 4487, 2735, 2664, 9826, 2694, 31082, 4063, 9338, 4168, 8623, 6514, 5700, 3810, 8591, 10710, 4911, 2516, 1109, 11611, 3742, 5301, 5030, 3942, 4008, 5679, 7007, 6125, 3000, 2093, 5797, 7766, 3824, 10265, 3491, 4069, 2288, 3528, 1386, 4301, 2691, 8323, 7113, 4827, 4842, 5331, 4935, 21196, 4509, 13383, 9519, 6636, 2126, 2501, 5314, 570, 4406, 5405, 3271, 7612, 5523, 7968, 4215, 3288, 2654, 9408, 5954, 4537, 3995, 8773, 23019, 5695, 6202, 3424, 5018, 3419, 6412, 7713, 10639, 4474, 3427, 5564, 3032, 2567, 6481, 6275, 9280, 8929, 5006, 6580, 3672, 6135, 4231, 4592, 7082, 24485, 2967, 2576, 4338, 4434, 4046, 7173, 4614, 3390, 3755, 5467, 5001, 4846, 4064, 3303, 3685, 3578, 3026, 40546, 4287, 2614, 4594, 10173, 7287, 5090, 4027, 3793, 1394, 5429, 12796, 4867, 7927, 3069, 4662, 7435, 5927, 3894, 6773, 3790, 6105, 9384, 7560, 7039, 4017, 6188, 3394, 2632, 5518, 6232, 8750, 6711, 6227, 61020, 2657, 2041, 10848, 4860, 3390, 8352, 5542, 2220, 5913, 4238, 2318, 3639, 4054, 5540, 1821, 3616, 1068, 1814, 3065, 4779, 7179, 7179, 1809, 5490, 3853, 5454, 7290, 3096, 8583, 3584, 5157, 6119, 9946, 14204, 9385, 8016, 5558, 3187, 4757, 11286, 7209, 5487, 7734, 3803, 1188, 5694, 5254, 11798, 1644, 7429, 4140, 3584, 5637, 2455, 2525, 2625, 5308, 5689, 7938, 7641, 5571, 4991, 1882, 7717, 3936, 2127, 4384, 10363, 5993, 3495, 6857, 11063, 6545, 5700, 5449, 6198, 5972, 1917, 5362, 2192, 5519, 7283, 4366, 1408, 5739, 9939, 2871, 5715, 4785, 4266, 3899, 6139, 14821, 1815, 8415, 9246, 9414, 6828, 6913, 2354, 2427, 2799, 4903, 5745, 8094, 4813, 8475, 4577, 4950, 1099, 2290, 6453, 6628, 6266, 4416, 13853, 6927, 5642, 2677, 4611, 12375, 5894, 10726, 3594, 4281, 4128, 2530, 4271, 5519, 7166, 2648, 4259, 3833, 5928, 18367, 3603, 15224, 2583, 4283, 8237, 9653, 13715, 61355, 3475, 5220, 2594, 1740, 6709, 5504, 3469, 3671, 4194, 5101, 11123, 11360, 10053, 8396, 10428, 5249, 14907, 2682, 3918, 320, 2617, 5081, 3632, 6562, 3951, 2180, 9326, 3594, 5273, 5080, 7618, 913, 1367, 12382, 3506, 6519, 4015, 6292, 3767, 5177, 3059, 7716, 59980, 2650, 2069, 5603, 4900, 10347, 5775, 11318, 4672, 3233, 5669, 7131, 4221, 3963, 6788, 3851, 10965, 5484, 8339, 7624, 3664, 1230, 4543, 2844, 4312, 8426, 6946, 5626, 324, 4921, 7151, 913, 5626, 6772, 4983, 5677, 5603, 2463, 3942, 8444, 1734, 3233, 7446, 4016, 5715, 22868, 3869, 5277, 4339, 6080, 1296, 5305, 9513, 4269, 9773, 3894, 2432, 2261, 6256, 10459, 3122, 1692, 10062, 5251, 6678, 667, 5904, 22160, 5066, 6531, 8252, 8031, 9337, 6034, 3505, 3775, 2054, 1824, 11475, 8436, 7758, 1613, 1484, 4477, 3374, 4719, 2471, 4537, 12057, 7950, 13661, 32019, 4314, 4837, 3914, 2587, 4166, 4721, 7522, 4222, 4695, 50616, 9007, 7936, 6497, 5983, 12431, 4396, 6490, 3296, 5445, 1962, 2230, 8003, 8252, 4559, 9191, 2169, 5595, 10124, 6892, 3586, 23343, 2859, 3474, 16445, 3335, 13311, 5221, 7530, 9609, 6266, 5324, 6850, 6905, 3927, 4933, 2445, 6876, 16170, 5113, 8880, 6240, 9113, 4614, 7631, 3516, 3487, 7461, 3259, 1370, 7028, 5612, 1861, 5015, 15508, 921, 11216, 2669, 3050, 4585, 2180, 8926, 2402, 6659, 5862, 2541, 2894, 24423, 5283, 4542, 4632, 3144, 6517, 1151, 4993, 9196, 4416, 7860, 2808, 4523, 5316, 4162, 917, 9773, 3996, 5666, 2203, 2639, 6133, 6601, 5441, 4468, 25241, 9822, 8180, 11103, 5426, 7623, 7186, 1626, 1500, 6495, 24396, 6062, 4729, 8359, 10753, 3342, 7996, 5886, 5471, 4745, 9282, 8150, 1836, 2438, 4503, 2998, 7605, 10232, 4350, 15916, 8224, 4578, 6318, 7645, 6508, 1736, 9019, 4362, 9690, 2717, 8701, 5020, 859, 4494, 8564, 13298, 8455, 4209, 5315, 5961, 10085, 2224, 2844, 4101, 6357, 7567, 7724, 5140, 7685, 4659, 3183, 3561, 3374, 4758, 1409, 3999, 2660, 8344, 2209, 9943, 4874, 8353, 4384, 5445, 11722, 2321, 7340, 7067, 2928, 3612, 3755, 3647, 929, 29108, 12902, 4843, 3833, 5182, 2112, 4443, 3491, 4138, 6483, 4758, 321, 7025, 3466, 3827, 1762, 7046, 2063, 5382, 2927, 3454, 20729, 3302, 10891, 5996, 4830, 5516, 3526, 7834, 6159, 3113, 4011, 8137, 8274, 6220, 6224, 15423, 3940, 8212, 5341, 6340, 2589, 5442, 3854, 1482, 10764, 7447, 6517, 7867, 4258, 8337, 8369, 5483, 3711, 2804, 4802, 3977, 4258, 7965, 1524, 5712, 2906, 1621, 1271, 2645, 797, 4937, 4975, 1768, 10615, 2576, 9037, 3631, 2856, 7898, 2146, 3579, 7387, 6552, 6661, 4176, 3051, 5115, 4491, 6466, 10295, 2348, 4803, 3221, 4320, 5696, 2992, 8602, 3137, 3151, 5415, 2900, 7089, 8167, 4633, 12577, 1196, 5832, 7748, 8465, 2103, 7253, 21788, 5897, 2131, 4936, 3234, 5753, 4673, 2863, 5074, 1853, 1829, 8407, 3223, 5499, 5807, 9221, 3795, 9009, 8128, 1269, 5633, 7532, 4373, 5789, 7904, 4261, 42309, 9666, 6339, 7338, 2344, 4270, 12067, 7035, 4007, 3937, 9851, 9659, 4808, 3898, 12539, 4301, 3289, 10184, 5601, 5836, 5157, 4257, 9936, 3588, 3555, 6294, 1620, 6275, 3268, 4148, 6318, 6850, 624, 6681, 4838, 10884, 24535, 9868, 5204, 14533, 5781, 4222, 4534, 9855, 8393, 6367, 3409, 3426, 3435, 3402, 3682, 2825, 10696, 2536, 795, 6208, 7371, 2426, 7158, 3735, 10212, 6881, 3542, 1714, 5255, 6249, 5144, 3787, 5813, 5588, 7994, 3448, 6368, 2409, 3946, 30082, 3808, 7964, 8071, 4935, 4370, 3106, 7692, 6343, 7142, 12949, 8371, 3068, 7030, 4986, 4337, 5188, 552, 7471, 6660, 2670, 5145, 5136, 2216, 5063, 2666, 4844, 4061, 10642, 2153, 3801, 3898, 3055, 18865, 4299, 3258, 696, 2863, 6719, 2718, 7674, 12699, 4865, 18109, 8264, 2861, 6994, 13707, 3909, 3823, 10166, 2094, 37608, 3994, 3387, 4977, 22068, 8359, 497, 4063, 9502, 6342, 9204, 3930, 4608, 786, 7179, 5792, 2864, 2773, 6438, 19692, 21809, 1328, 4032, 3212, 12295, 10034, 7542, 3461, 2349, 14691, 3415, 4697, 11709, 6383, 5507, 9943, 2885, 12249, 11061, 2965, 2316, 6450, 20890, 4609, 10885, 5585, 7431, 2268, 5958, 5856, 3705, 4616, 4683, 6694, 4933, 7949, 36253, 8962, 7318, 8795, 7913, 3814, 6882, 1545, 7652, 124522, 4705, 2637, 3515, 24138, 4904, 2922, 26848, 8802, 9831, 9584, 7518, 2630, 7042, 3763, 10363, 4803, 2867, 6193, 3814, 4323, 3917, 6569, 12132, 4610, 11979, 5755, 3364, 12200, 7755, 8150, 3875, 5198, 8710, 1440, 2018, 3997, 2455, 5329, 6326, 2692, 5740, 4550, 6963, 5035, 3550, 12256, 2502, 8354, 3850, 1823, 5727, 2684, 5102, 6969, 4518, 2045, 656, 2017, 4976, 9769, 3957, 3520, 5696, 7989, 5456, 10401, 6028, 11566, 5130, 4261, 3432, 11953, 5860, 25369, 3084, 10674, 3951, 4969, 2289, 6879, 2703, 5364, 2515, 3987, 6902, 3693, 13399, 7732, 6419, 3055, 2746, 4399, 5148, 10879, 11673, 7109, 8276, 10932, 10049, 8594, 4578, 4011, 8792, 17442, 680, 2548, 111610, 6386, 9687, 3539, 2710, 4736, 2851, 2958, 15112, 5140, 3941, 5993, 7570, 5492, 3276, 6762, 3308, 4941, 6921, 5316, 6211, 3150, 4329, 5522, 4429, 2913, 8755, 3477, 55361, 7348, 10489, 8403, 2890, 5806, 3548, 2155, 3071, 1692, 7666, 5121, 5364, 4912, 4735, 3193, 2827, 4865, 3737, 24962, 6589, 5954, 1572, 8896, 2396, 6460, 3271, 840, 6379, 2055, 3973, 7791, 9464, 7990, 2417, 8767, 6153, 8495, 6024, 2188, 5285, 7811, 3695, 3628, 6036, 4459, 6209, 7315, 4280, 6871, 490, 2323, 9373, 4116, 4024, 5013, 3996, 5301, 6199, 5685, 3476, 4489, 3897, 7577, 5775, 11712, 5365, 2935, 2002, 4546, 490, 6546, 6041, 6623, 6265, 2490, 3577, 2430, 1523, 7223, 5045, 10932, 37320, 8329, 3612, 2383, 4524, 7130, 3158, 1696, 5096, 30771, 8236, 5097, 10796, 7551, 10363, 8381, 8728, 10225, 8889, 4309, 4916, 1032, 2639, 2778, 4917, 7831, 28589, 153, 7493, 2776, 3408, 812, 4090, 5135, 4683, 4984, 3994, 3440, 5265, 328, 3607, 6591, 4332, 4425, 5275, 4938, 5142, 5796, 3388, 4588, 3066, 4290, 2132, 4615, 4220, 5796, 9161, 9174, 5997, 3000, 8844, 8862, 5399, 8154, 15959, 46667, 8067, 5545, 6697, 167, 2823, 2948, 4459, 8393, 5004, 11429, 4162, 7582, 4581, 3996, 4505, 4719, 5244, 7540, 12321, 5431, 3427, 2676, 13330, 3541, 1302, 4243, 7286, 6977, 3302, 12622, 5859, 4076, 4699, 4820, 8603, 7766, 8446, 2592, 7385, 4962, 11634, 5063, 1937, 3137, 5614, 5232, 3363, 3484, 5083, 5097, 34023, 4202, 6664, 5217, 13115, 4537, 8553, 4244, 1173, 5520, 4931, 6551, 2708, 2262, 4186, 8527, 5485, 5763, 6078, 3320, 7668, 3819, 41124, 3565, 8062, 3704, 12297, 6261, 4660, 8077, 7452, 5189, 5201, 1238, 8193, 3028, 3514, 3701, 11082, 9282, 4700, 3672, 4061, 4326, 2360, 6189, 1289, 3155, 5738, 2958, 2522, 4123, 2870, 6944, 5531, 12665, 5875, 6563, 9577, 12728, 2218, 7196, 7621, 3571, 10993, 6689, 12007, 4569, 4926, 8282, 4739, 4258, 5310, 3676, 4749, 5408, 5646, 7691, 3675, 5099, 5302, 4925, 614, 4898, 7971, 2598, 5048, 1461, 6172, 3561, 7698, 9100, 2057, 5072, 5400, 3015, 5538, 4066, 4232, 2541, 23492, 5416, 8853, 3604, 8929, 3858, 2738, 2513, 7378, 3102, 10884, 5835, 3916, 7044, 2835, 6437, 3303, 6146, 6606, 7720, 13487, 48923, 2928, 7481, 2067, 4868, 5677, 2666, 9322, 3440, 1402, 5978, 9807, 3677, 3191, 4646, 15183, 16666, 5454, 3991, 10489, 3123, 7966, 3041, 16334, 3508, 4142, 5849, 5827, 11690, 4701, 9155, 4222, 3641, 6782, 9092, 4016, 1780, 8487, 1936, 7606, 4102, 12238, 4080, 10491, 7969, 24795, 3457, 3349, 1078, 10161, 4368, 9447, 8212, 5101, 6061, 3628, 5406, 3602, 3223, 9072, 8403, 1404, 5454, 8939, 3751, 3859, 3856, 4945, 5144, 4381, 5663, 8566, 3575, 3557, 7656, 2651, 3904, 841, 1449, 5832, 5332, 545, 12512, 6529, 1259, 3635, 4801, 3793, 2605, 5438, 12481, 594, 4624, 4718, 5565, 12018, 417, 5495, 5679, 2684, 3237, 7734, 5027, 3535, 5207, 6702, 6055, 6745, 7355, 7622, 44069, 5658, 3544, 4648, 3810, 5477, 6238, 7636, 9526, 7020, 3767, 8840, 6735, 4684, 2962, 6061, 2725, 5033, 5192, 4239, 40695, 4588, 4837, 2105, 8050, 4013, 7469, 2836, 3139, 3818, 8975, 3878, 2970, 1613, 4370, 13032, 8740, 7814, 6172, 10573, 16153, 13809, 15116, 1866, 5271, 5602, 5473, 9818, 5242, 6698, 4832, 5281, 5731, 2398, 7797, 4436, 3762, 2339, 6507, 4973, 5852, 2802, 6632, 11616, 4035, 8871, 385, 5518, 3324, 4342, 6165, 2447, 11558, 3104, 5747, 3894, 1305, 1165, 5670, 6812, 7055, 3812, 3310, 3324, 4022, 6882, 6222, 3484, 3232, 1334, 6980, 3700, 8871, 3205, 6617, 3556, 6033, 4504, 8956, 6127, 5779, 9604, 4785, 4193, 4570, 1854, 2056, 9212, 5822, 2918, 4481, 7846, 4098, 6835, 3564, 6139, 7087, 2766, 2614, 8104, 7691, 20816, 17499, 3014, 4561, 8937, 6039, 2546, 4639, 3040, 2246, 3469, 13097, 8526, 5095, 36933, 4775, 10145, 6439, 1985, 3380, 6761, 5465, 4596, 4596, 3853, 10110, 4689, 7401, 1977, 3304, 7199, 5879, 5574, 9066, 3672, 9493, 4670, 5179, 3327, 2853, 7734, 5618, 7869, 11199, 7461, 5360, 5629, 7499, 7416, 4559, 7797, 48613, 21414, 5050, 6062, 7058, 15540, 5901, 2582, 2707, 2750, 3824, 5488, 43851, 2410, 34454, 812, 5649, 3832, 4213, 6584, 5861, 11354, 5388, 24866, 4042, 4959, 7798, 4849, 797, 5564, 3854, 13244, 8512, 12144, 7507, 8178, 5702, 1432, 9804, 857, 5833, 4185, 10046, 10898, 1529, 3924, 1670, 582, 6767, 6897, 3389, 9881, 9330, 5170, 4918, 22521, 2668, 5569, 5995, 3453, 9675, 5487, 4309, 1400, 8897, 6646, 4176, 6695, 5518, 2931, 5465, 2875, 5001, 1823, 3185, 673, 4471, 4047, 2047, 12159, 2052, 2362, 725, 11457, 630, 2182, 5018, 7147, 2767, 8893, 6916, 3887, 9679, 2526, 10803, 9336, 3771, 6369, 13080, 662, 5281, 5729, 990, 5185, 3250, 5354, 3764, 2848, 6980, 6304, 105412, 3615, 4186, 1004, 6554, 3475, 4211, 4452, 3691, 7525, 5174, 7409, 1767, 5097, 2815, 4749, 9762, 3732, 55075, 4663, 2259, 3356, 9045, 29020, 6103, 5840, 1802, 9089, 8181, 6156, 1260, 13494, 6420, 2098, 6838, 8414, 518, 7867, 2944, 7109, 5410, 6044, 4227, 4678, 4124, 7340, 6948, 7271, 4156, 4312, 3557, 4245, 3987, 7723, 11385, 5379, 5950, 11161, 2836, 3630, 3503, 6160, 3283, 2757, 5039, 3799, 7893, 3612, 862, 9101, 7466, 5129, 958, 3835, 5578, 3222, 109173, 9458, 4197, 1280, 5259, 4360, 3583, 4580, 9928, 17540, 7262, 4527, 2084, 6860, 6692, 2791, 6775, 7522, 13140, 6600, 8701, 8081, 5567, 5228, 2870, 3302, 1603, 8955, 3646, 3524, 3167, 1187, 10548, 13026, 7855, 3505, 10422, 5442, 7014, 2103, 6755, 6892, 4357, 2201, 8220, 9760, 4249, 6248, 3301, 9526, 7875, 7312, 1917, 13477, 5649, 3166, 4825, 2068, 24002, 5149, 4329, 7062, 3298, 3538, 4919, 5106, 4299, 4985, 3848, 3938, 3997, 5196, 5468, 3067, 8654, 10095, 4487, 3005, 1037, 2101, 6281, 3668, 5032, 7398, 6121, 6618, 4866, 8929, 11001, 6440, 8330, 4479, 5467, 3781, 12753, 3845, 8966, 6474, 1556, 5486, 7786, 5683, 9752, 4892, 4204, 1140, 2219, 8831, 887, 2000, 7312, 3913, 4235, 3085, 6048, 6863, 2781, 5026, 17533, 7005, 3079, 7952, 2873, 5573, 626, 3952, 21705, 4459, 6377, 4039, 3156, 4558, 3622, 10036, 2909, 2735, 8628, 3418, 8835, 5470, 3993, 3971, 4617, 5619, 2750, 4556, 5776, 4407, 3836, 3462, 1443, 4820, 6341, 9663, 16902, 12561, 4306, 6998, 3226, 3221, 8985, 1596, 9043, 8787, 6163, 15443, 1554, 1763, 2572, 1443, 6387, 2439, 12462, 7101, 5084, 8037, 448, 3976, 3739, 3170, 4874, 2711, 4654, 8207, 9160, 5727, 4626, 12058, 4944, 3240, 2705, 2002, 4443, 6379, 5375, 4594, 5581, 3148, 7648, 2638, 4363, 103393, 24410, 4234, 8432, 4495, 9656, 2930, 4942, 9889, 14695, 389, 4174, 7385, 49528, 3174, 6611, 7092, 7265, 3736, 7427, 3396, 1730, 5431, 5474, 11372, 2830, 2463, 3321, 6036, 5034, 4569, 7815, 4142, 27898, 8033, 9972, 18089, 4336, 3636, 2456, 2332, 10445, 2805, 4328, 10662, 10206, 6866, 3549, 5188, 3473, 3917, 2624, 4862, 5225, 10855, 3757, 7453, 6177, 4144, 2935, 2783, 6603, 8281, 2443, 2210, 7123, 2416, 21524, 4439, 14411, 11813, 4275, 4420, 4449, 4009, 3342, 7417, 6434, 4535, 4659, 6100, 5783, 4234, 7394, 5225, 6255, 8333, 6368, 7638, 6068, 6731, 6660, 6123, 6518, 7326, 27570, 4788, 1462, 3997, 36062, 8100, 3786, 5209, 6496, 2882, 322, 3449, 4391, 7537, 3940, 6094, 8381, 3602, 4251, 3546, 5468, 4440, 4172, 16862, 3164, 3391, 15687, 10744, 5120, 3861, 725, 2110, 7659, 12091, 7525, 2788, 8104, 5783, 2982, 10576, 5125, 3664, 6972, 1864, 5722, 4354, 4041, 34052, 4176, 2406, 1607, 3777, 9796, 2704, 3250, 5126, 8252, 5379, 7348, 5681, 6744, 6153, 9719, 7810, 8640, 5969, 1091, 11827, 5117, 5687, 15200, 571, 6128, 4335, 3884, 3570, 5026, 2595, 10363, 4310, 3085, 2422, 3741, 13397, 10039, 21265, 5690, 5147, 6622, 3355, 2409, 6604, 7384, 2445, 2449, 4275, 1101, 4937, 48283, 3691, 7173, 7112, 10141, 2743, 6848, 8004, 3310, 4811, 2060, 3459, 5306, 6026, 1923, 5046, 3536, 3725, 3634, 6294, 9135, 48594, 6007, 7219, 8758, 3771, 4959, 5217, 3810, 8681, 10382, 3532, 2735, 2304, 41476, 8762, 3656, 1539, 7124, 22071, 4713, 3522, 7207, 2059, 2938, 3701, 6116, 10206, 5668, 842, 890, 7929, 5159, 6244, 3728, 4946, 5536, 1144, 13026, 8070, 1782, 4043, 3822, 4847, 10930, 2631, 8297, 3033, 4021, 4613, 4168, 7642, 4050, 4102, 3861, 6639, 4036, 6595, 6056, 14846, 4964, 7475, 6391, 3821, 4293, 5039, 5068, 3093, 5751, 8667, 7596, 671, 2673, 7162, 5185, 4235, 1415, 4579, 5915, 6051, 2613, 7598, 10756, 9549, 4952, 5884, 3920, 4463, 2413, 7561, 1479, 5964, 1399, 82587, 3383, 2722, 5736, 4281, 4609, 8295, 7000, 4389, 3302, 4188, 5012, 4537, 9615, 8047, 619, 5499, 5866, 4628, 6152, 3985, 700, 3210, 4400, 3465, 4212, 6442, 6764, 34641, 5038, 7296, 5920, 9118, 3239, 5255, 3224, 4042, 1844, 2288, 9826, 6563, 3829, 3395, 50844, 7936, 7159, 917, 3218, 8243, 3534, 3374, 8122, 1824, 7076, 4183, 2590, 7246, 12383, 5596, 3433, 14975, 43651, 8018, 2078, 3647, 2483, 5887, 3652, 11806, 4044, 4767, 16613, 23876, 3008, 2685, 4371, 7455, 10830, 7592, 3850, 4067, 4945, 220, 6739, 6393, 2569, 9658, 2486, 5462, 4889, 6069, 8839, 2147, 7639, 20022, 2827, 4457, 1314, 9344, 13871, 6175, 4633, 4213, 2851, 8262, 7026, 8078, 2634, 7039, 4791, 3794, 7873, 9031, 2917, 11543, 9051, 11542, 5681, 4124, 10447, 13076, 5867, 9061, 3342, 3440, 6547, 13372, 5056, 6176, 3424, 1801, 3963, 5840, 6152, 4813, 7098, 4829, 5351, 6872, 6425, 951, 7320, 5438, 4931, 2850, 1641, 2688, 2753, 6679, 6611, 9833, 8737, 5247, 4137, 6995, 5243, 11045, 5507, 5194, 5351, 3246, 4284, 597, 7003, 53946, 5357, 7770, 4457, 2101, 7056, 4025, 3096, 3373, 37374, 7585, 2633, 5149, 5471, 1230, 3613, 960, 3419, 5402, 8350, 6963, 4010, 1400, 10782, 24824, 2335, 5318, 5508, 5168, 3616, 17347, 5276, 1967, 1308, 9768, 6108, 2224, 5891, 8728, 3920, 7674, 8327, 7232, 7123, 5357, 2270, 1967, 8337, 8654, 3292, 15815, 61482, 7669, 1795, 5666, 10568, 16107, 5479, 4105, 4765, 83415, 7053, 5404, 2901, 1442, 7181, 4742, 6060, 4140, 21133, 4615, 5738, 3054, 3336, 3438, 3052, 11795, 4648, 2875, 4867, 2273, 1881, 6379, 4941, 11620, 8351, 10706, 6543, 4941, 2693, 4299, 4969, 5264, 1368, 21114, 3629, 6391, 3970, 6266, 5304, 5174, 9688, 15129, 4286, 5432, 7146, 6660, 6235, 3778, 6856, 7244, 7655, 4471, 49546, 9116, 6078, 3355, 4310, 6122, 5147, 6524, 12947, 4247, 4360, 1710, 2472, 7347, 5515, 7149, 8780, 11275, 2554, 2125, 3354, 6837, 1840, 9186, 7028, 7148, 35565, 5660, 11781, 3237, 3308, 5149, 7803, 1000, 4232, 7391, 3144, 2401, 2904, 20919, 5896, 4966, 10035, 4475, 2179, 4896, 4655, 6133, 9222, 3830, 4739, 5696, 4797, 9891, 7510, 3105, 5732, 1395, 4058, 31163, 1039, 7822, 11764, 8337, 24677, 4909, 5704, 8760, 11470, 7138, 4121, 7356, 7854, 6769, 2609, 2870, 3033, 6470, 4706, 2951, 12233, 4688, 5455, 4123, 3548, 56445, 7867, 5042, 4854, 5354, 3302, 10680, 9050, 6611, 7645, 4539, 12864, 5518, 7423, 5244, 3329, 5129, 3054, 50410, 5018, 6803, 8197, 3836, 6922, 2631, 2689, 9419, 12075, 10647, 15427, 5711, 3313, 7216, 18166, 3836, 9204, 7750, 11671, 10015, 2861, 9193, 3582, 5297, 4284, 4334, 2495, 3996, 7195, 4226, 3752, 10109, 2039, 4448, 4154, 601, 5043, 1274, 3221, 5504, 4891, 2642, 3370, 6783, 5298, 4691, 17528, 8358, 4028, 2558, 5696, 5472, 10044, 8244, 1927, 6331, 9109, 5344, 6770, 108074, 7856, 4083, 5404, 5513, 6945, 8968, 7732, 3099, 8223, 2555, 6160, 4271, 33807, 7511, 8510, 4155, 8366, 6347, 3893, 4690, 4291, 10396, 849, 2759, 9536, 5163, 166095, 11413, 2991, 5223, 2841, 1807, 8069, 5069, 3882, 5251, 8338, 57429, 15225, 4437, 6368, 1468, 8184, 7079, 4278, 3527, 10383, 3762, 3850, 5005, 436, 5504, 1174, 1728, 6291, 9019, 18102, 7581, 14114, 7201, 3505, 7088, 6196, 2863, 10153, 7177, 708, 9624, 11204, 11499, 8710, 5140, 4721, 2494, 7269, 1747, 7987, 6535, 8820, 4549, 5333, 3251, 4570, 7842, 4807, 1427, 5727, 2529, 5418, 3200, 5555, 3859, 3371, 5778, 5895, 5346, 3992, 14783, 10728, 8855, 3917, 2195, 7036, 2481, 3254, 1197, 6038, 1286, 3839, 2409, 2058, 4790, 4967, 9807, 2003, 5945, 5776, 11712, 18092, 8675, 3650, 6398, 5052, 2453, 5553, 3394, 3461, 16071, 7072, 4283, 6383, 11723, 6486, 2833, 5352, 4645, 2902, 4241, 7713, 5702, 8890, 3304, 4008, 1829, 1540, 2385, 6537, 5209, 5983, 3977, 13441, 4324, 2499, 10736, 4563, 10968, 4598, 10995, 4962, 5801, 7608, 5944, 6238, 6624, 3922, 6052, 12315, 7368, 3272, 5602, 5598, 7704, 10946, 7511, 3257, 6503, 5755, 8092, 9777, 6809, 38691, 26829, 704, 6805, 4876, 7590, 8425, 2471, 2508, 7358, 20174, 12319, 9568, 2416, 7945, 28935, 5108, 9353, 3664, 9859, 4079, 2149, 64973, 4597, 8308, 6833, 5666, 3750, 8725, 8576, 6215, 12403, 6548, 1779, 3959, 13371, 5380, 7844, 12207, 4266, 8580, 5199, 3809, 2295, 7366, 9423, 6157, 8501, 4825, 2809, 2708, 6817, 4328, 6147, 21195, 6141, 13298, 6418, 22871, 1905, 6242, 3580, 676, 1855, 5116, 24742, 4624, 6762, 5108, 6436, 11083, 3948, 1783, 6216, 4620, 5763, 2485, 4949, 7575, 3046, 3580, 5862, 4041, 4354, 5675, 4320, 4565, 7031, 9692, 3183, 1010, 2806, 4174, 3922, 3651, 2103, 6047, 2907, 6080, 5831, 16331, 8454, 3269, 4733, 10362, 3789, 5684, 3709, 1155, 5249, 11579, 2752, 3771, 6476, 4730, 7570, 7754, 8632, 4179, 6142, 2337, 11625, 60052, 4054, 3668, 4738, 4474, 8552, 1548, 15449, 2172, 4517, 3179, 2560, 9614, 7212, 6183, 3216, 4464, 4078, 4270, 6466, 3339, 3287, 3537, 6318, 4360, 9089, 1056, 5753, 5036, 5658, 4290, 11680, 11848, 7319, 6852, 2366, 15499, 5084, 8204, 1913, 6910, 5508, 6505, 14617, 3743, 9596, 5921, 19280, 10583, 4940, 5617, 361312, 2553, 7071, 7430, 8309, 7255, 2839, 7367, 3622, 3944, 1749, 9452, 7764, 5310, 2394, 1092, 7075, 5425, 2597, 37685, 9590, 26096, 3854, 3398, 2489, 9170, 7759, 7788, 3219, 5564, 8619, 10495, 3800, 4303, 11364, 3558, 2143, 7672, 7080, 7172, 4465, 1481, 4770, 3732, 4767, 2370, 4458, 8228, 3873, 2591, 2256, 5185, 3307, 11392, 2676, 831, 6064, 4940, 127820, 4772, 6230, 6877, 8322, 4399, 4801, 3190, 7137, 6289, 7057, 6221, 3309, 5789, 5000, 5229, 3155, 24156, 117652, 6767, 1099, 3571, 10641, 3109, 3037, 3914, 11910, 12004, 5158, 3253, 6323, 1123, 12352, 4401, 2631, 8061, 7666, 8996, 4313, 12702, 7731, 2378, 8531, 4312, 475, 5368, 6325, 3634, 7388, 6356, 10735, 9762, 2329, 4724, 8100, 2643, 5634, 2427, 2036, 3876, 5304, 3438, 4339, 6821, 2879, 5035, 4260, 695, 4164, 24827, 5617, 74515, 5366, 4641, 5452, 1785, 10177, 5207, 15765, 1724, 4382, 5861, 3964, 5859, 3824, 3793, 2674, 5114, 6027, 2355, 5291, 3215, 8215, 10918, 11588, 2721, 8195, 5787, 6149, 6701, 3922, 6413, 4709, 3568, 4858, 3233, 2819, 3278, 7286, 2362, 5024, 7357, 3583, 3464, 6367, 1145, 5347, 11539, 1895, 6121, 1268, 3689, 6076, 5061, 6448, 5618, 8115, 1430, 8848, 4511, 27208, 11812, 7761, 6878, 4410, 2848, 3812, 8244, 11931, 4385, 4862, 9766, 7422, 6598, 11435, 6390, 10654, 1243, 9318, 7294, 1042, 6549, 5977, 4234, 5021, 3326, 60291, 8187, 6016, 3748, 3782, 5905, 6903, 6245, 3450, 5108, 3051, 9187, 2907, 6510, 5900, 2579, 3017, 5057, 9015, 7798, 3353, 15567, 15247, 25133, 2922, 4269, 3735, 4329, 3253, 3834, 5684, 5801, 3493, 2693, 8943, 11339, 8223, 8300, 6247, 2816, 4508, 4330, 6642, 4557, 1430, 17286, 3835, 32834, 8561, 1798, 3226, 3172, 11156, 14894, 6231, 3538, 3593, 4721, 63460, 3895, 1299, 3154, 4031, 10880, 5767, 5210, 2076, 7780, 4417, 7701, 2089, 7991, 2331, 6866, 6188, 8897, 5904, 5107, 8848, 6186, 6129, 9340, 15644, 3102, 6982, 10561, 6554, 906, 13785, 4235, 6918, 6159, 3703, 4721, 6731, 3791, 2116, 7058, 4460, 4461, 2568, 6409, 4348, 2941, 10908, 2992, 5118, 7123, 4401, 5321, 8021, 14613, 3993, 2910, 2387, 2711, 4675, 807, 4098, 10995, 4783, 5816, 3827, 6840, 1909, 3714, 3961, 4895, 3640, 6718, 5113, 8960, 5970, 5418, 5038, 6177, 6096, 3475, 4111, 7814, 2212, 3940, 1465, 2522, 21482, 7066, 5405, 354, 3043, 4212, 1391, 3758, 4362, 897, 6065, 5597, 2334, 8394, 3133, 2612, 10294, 5309, 4649, 4528, 8825, 3801, 6213, 2284, 10013, 1841, 4015, 2348, 9524, 24026, 5695, 14044, 7311, 6396, 5103, 5436, 5049, 4742, 3285, 864, 10350, 5838, 4217, 9164, 2806, 6734, 3634, 4371, 4233, 2133, 1583, 5533, 4899, 10580, 11874, 7142, 2624, 807, 3811, 2301, 4830, 10467, 1772, 4231, 7155, 1183, 1400, 8936, 2608, 18949, 5504, 17755, 2260, 2752, 7633, 6988, 2513, 2804, 8981, 6535, 5565, 5478, 5337, 3558, 6205, 6317, 5194, 9429, 5095, 12161, 6564, 9194, 4741, 8744, 9667, 3455, 986, 6294, 3537, 6402, 4966, 7616, 8736, 5986, 5454, 9122, 813, 8100, 4601, 9671, 3151, 8937, 9081, 7875, 7224, 3453, 2157, 9208, 10747, 644, 2822, 4995, 9754, 11940, 589, 5056, 7226, 4232, 3840, 7440, 3329, 3982, 5537, 4279, 5023, 2161, 3570, 5991, 384, 3855, 4734, 5564, 1614, 10316, 11331, 45423, 7066, 4044, 5103, 3916, 353, 14211, 6969, 5750, 5416, 3470, 2894, 3977, 8661, 9396, 4480, 13919, 4140, 11557, 2702, 5635, 6719, 3103, 3449, 13812, 6000, 5208, 15130, 5427, 8667, 81, 11091, 1258, 2117, 2926, 3661, 1805, 3008, 7237, 5095, 5498, 7782, 4765, 2726, 4352, 3687, 6448, 12875, 22750, 7160, 7502, 7715, 8240, 4241, 1163, 2525, 1881, 5127, 4249, 6095, 9624, 7338, 4873, 2711, 3176, 6736, 4739, 3976, 4484, 6248, 4787, 6185, 8256, 871, 11528, 4392, 19130, 6659, 9109, 12407, 4206, 3844, 1595, 5782, 4488, 6204, 7457, 3027, 3708, 4011, 3953, 11788, 3418, 8042, 9959, 7812, 4731, 1699, 4568, 7262, 2433, 15615, 6224, 3338, 1948, 4441, 3066, 2810, 8342, 10634, 3230, 4711, 4666, 9239, 4459, 6741, 5411, 4023, 536, 9496, 8649, 3933, 10975, 4233, 8205, 7006, 14787, 9538, 7150, 3021, 13068, 4313, 4630, 5154, 6589, 4889, 1277, 7263, 151129, 2986, 5184, 4163, 4757, 4197, 1953, 2384, 3508, 7841, 4468, 5207, 7584, 3805, 7151, 2260, 5490, 3961, 5377, 8230, 3579, 5260, 14154, 8189, 23823, 21747, 994, 8291, 814, 864, 4705, 5174, 1001, 10314, 5801, 1330, 778, 4152, 3224, 6230, 4062, 4823, 6244, 8750, 1754, 6834, 6883, 1585, 4266, 6451, 7485, 4088, 6743, 3163, 7157, 4918, 4016, 2685, 3816, 7616, 5929, 7221, 665, 1882, 3507, 14736, 18679, 1503, 9508, 3442, 5025, 5529, 2193, 4944, 5568, 5905, 5633, 6187, 4920, 31372, 2519, 4285, 7744, 11481, 5479, 3410, 11919, 5527, 7849, 3796, 7979, 9725, 2208, 409, 7228, 1848, 10070, 6684, 5533, 5409, 8097, 1912, 7279, 10190, 1432, 4763, 14094, 20822, 4713, 11553, 3638, 15223, 12853, 6430, 3654, 8571, 7434, 5130, 5191, 6879, 6205, 8500, 3904, 568, 6762, 39318, 4702, 2935, 4365, 4243, 38421, 7399, 5580, 10907, 2517, 4268, 5383, 2589, 2319, 2899, 7522, 3484, 5550, 8093, 4566, 6053, 5352, 7419, 3930, 2168, 3860, 8248, 8232, 4260, 1456, 6990, 5828, 1609, 3504, 13001, 3075, 7056, 3757, 6875, 4110, 9731, 3564, 4217, 4060, 4407, 13615, 1056, 5733, 5464, 3040, 5239, 4427, 3156, 3973, 1860, 4225, 4253, 3551, 3792, 5882, 6048, 2549, 8724, 3372, 2973, 6282, 5010, 7569, 4853, 3967, 4992, 10939, 7321, 5752, 3594, 10842, 6197, 4814, 10082, 5441, 3108, 5285, 4329, 3703, 2645, 3074, 5844, 4343, 5344, 4112, 3751, 3985, 3542, 3409, 3870, 4222, 1612, 3953, 3315, 2592, 1446, 4248, 4796, 11376, 8184, 7862, 4764, 2586, 8382, 7782, 3741, 3548, 5087, 3097, 7940, 4269, 3798, 3868, 6792, 9188, 9204, 6186, 1566, 16702, 314226, 8482, 4024, 4048, 36446, 3382, 4781, 755, 3642, 5203, 3746, 5008, 8370, 6243, 5495, 6822, 1671, 5515, 9777, 8782, 5998, 133451, 5915, 7827, 4406, 5408, 3549, 8497, 1937, 2296, 3196, 2296, 57331, 9332, 3371, 14517, 3510, 3063, 5664, 19243, 8092, 6029, 5645, 3157, 1976, 2168, 5489, 6225, 4163, 7114, 7865, 10385, 3544, 10056, 5371, 4095, 5820, 9741, 4273, 7157, 30907, 7204, 6074, 5747, 2448, 3839, 5383, 79061, 3923, 3419, 4202, 10043, 4519, 10580, 2742, 4427, 10448, 2184, 811, 3019, 2087, 2033, 4055, 4632, 5175, 8299, 4605, 9024, 5906, 7028, 3657, 4507, 5997, 3056, 5483, 3941, 3673, 2607, 7401, 35962, 6157, 4853, 3183, 5245, 5710, 8188, 7271, 2211, 4481, 7519, 9675, 5593, 3801, 4306, 4332, 4416, 9733, 1884, 4638, 4072, 1008, 3929, 7756, 4531, 6581, 6686, 7464, 6108, 3583, 3076, 5766, 3789, 7671, 6828, 6105, 5752, 2225, 4035, 5980, 153, 699, 8772, 6614, 4295, 7608, 9465, 4869, 1508, 3287, 6139, 6644, 9972, 4496, 6928, 15290, 3945, 2452, 7093, 546, 3524, 9922, 6767, 17780, 23439, 2349, 7898, 2842, 3527, 2788, 2868, 5313, 12988, 9958, 8173, 5388, 7124, 7406, 4112, 2336, 20481, 4751, 5740, 12807, 7283, 5372, 2460, 2509, 4940, 2164, 3864, 2922, 2704, 3758, 7774, 6470, 3972, 5860, 2089, 168, 2327, 11396, 1473, 6465, 1560, 4058, 10933, 5804, 4304, 2466, 4253, 2802, 7530, 5509, 5554, 1073, 5069, 5658, 10457, 4528, 5909, 6029, 5345, 2712, 3441, 3460, 4609, 6691, 4122, 5225, 2288, 4990, 5519, 6907, 4537, 4359, 9264, 3645, 5839, 7989, 4080, 3227, 4979, 16103, 10093, 2613, 538276, 9321, 9997, 6976, 4333, 2972, 4858, 4701, 1235, 5865, 3561, 2841, 10983, 4106, 4111, 2902, 2143, 7750, 8056, 2903, 4082, 4148, 10470, 3992, 789, 5845, 3091, 1288, 10158, 7241, 5995, 5021, 3572, 5452, 1373, 2216, 14796, 2676, 14398, 4962, 8666, 3796, 5826, 4417, 5591, 3935, 971, 14594, 4941, 4044, 6857, 73733, 4333, 7062, 7415, 3888, 2676, 5371, 12388, 34294, 7703, 2391, 4885, 4132, 3026, 5225, 7350, 4862, 5684, 8215, 4056, 2591, 9038, 10153, 8579, 5949, 5595, 5254, 5874, 4847, 22928, 6084, 8599, 4176, 3917, 7516, 3384, 6539, 46909, 4908, 4632, 3008, 3395, 6318, 3558, 6301, 7504, 6302, 12250, 3050, 37597, 959, 2919, 1283, 3829, 3870, 4689, 10721, 5277, 6394, 5295, 6051, 9354, 4162, 4205, 6324, 3264, 4577, 11465, 4506, 4678, 18305, 5257, 5051, 7994, 4961, 5930, 2952, 5306, 4663, 5726, 2353, 7851, 3427, 3917, 25958, 5939, 7974, 1872, 2371, 6367, 4823, 8564, 6380, 3891, 5216, 4531, 4911, 8120, 4920, 9702, 7368, 2954, 1865, 3779, 10032, 3492, 6898, 2633, 3226, 1433, 4996, 6444, 1468, 5402, 6669, 5035, 1871, 5258, 1190, 6494, 8138, 7895, 5836, 4209, 1991, 2301, 4208, 4530, 3598, 3804, 10245, 50400, 6388, 6805, 8973, 11599, 4509, 10409, 3648, 2493, 3833, 2943, 4953, 3145, 7094, 4870, 4670, 7191, 3137, 13583, 2726, 7530, 6715, 9476, 8977, 4741, 2632, 3606, 47547, 5040, 27638, 4872, 6164, 6444, 3547, 4416, 9130, 3784, 4595, 5397, 20027, 7803, 5569, 7353, 5252, 3167, 2732, 532, 7815, 2647, 6313, 3035, 2256, 3835, 6048, 1120, 7113, 4024, 3761, 8557, 4716, 33734, 38907, 2912, 6925, 8875, 11396, 31564, 6073, 9914, 2520, 3145, 10235, 33148, 8945, 5081, 2392, 4574, 7476, 5282, 4437, 4311, 674, 7466, 8453, 5622, 985, 5423, 4358, 2173, 3283, 4639, 7243, 5870, 4043, 4584, 7727, 9970, 11405, 4110, 2098, 1621, 7917, 3708, 11842, 965, 762, 6675, 3125, 6060, 6632, 7769, 7330, 4819, 1817, 4482, 3676, 2890, 6338, 1922, 4501, 7361, 7573, 2456, 624, 6318, 3898, 12193, 4675, 4015, 6297, 5783, 7422, 1724, 1374, 856, 5488, 5086, 4407, 6950, 4370, 5731, 7272, 3207, 1674, 19851, 7879, 1824, 4442, 5229, 8888, 3551, 25801, 2316, 6532, 17175, 3077, 3601, 6855, 13726, 2923, 1820, 3488, 2521, 11855, 3563, 3859, 6243, 3922, 3259, 4803, 3312, 6940, 7994, 3610, 14618, 24433, 3567, 10141, 2795, 12121, 6989, 1780, 5520, 4335, 6659, 5617, 5620, 8290, 3215, 7977, 2482, 2996, 8344, 8307, 8739, 6562, 4626, 6617, 11812, 3816, 7371, 5116, 5109, 5146, 4156, 2641, 7987, 5168, 5003, 12065, 4449, 7819, 4527, 11354, 3186, 9067, 3880, 5034, 3486, 10840, 5623, 5551, 2785, 6863, 8196, 7139, 3862, 1864, 4060, 7662, 26120, 3656, 3334, 5493, 15143, 2806, 6305, 9838, 2176, 3044, 8519, 6379, 5181, 3844, 5029, 2978, 3882, 4885, 8941, 40174, 4021, 4822, 3611, 7032, 2487, 4592, 5051, 8306, 4027, 605, 5279, 6171, 19083, 4128, 11701, 5700, 3905, 7479, 4431, 10365, 8015, 4464, 8910, 6501, 1503, 3017, 4402, 1920, 7502, 6133, 5379, 3724, 4983, 3862, 9783, 6451, 44316, 2564, 7857, 1915, 21880, 7375, 7307, 1285, 4332, 3681, 14685, 18392, 555, 6980, 12923, 4290, 5009, 4774, 5652, 3812, 6425, 1419, 8154, 4040, 9848, 12149, 5498, 4436, 5087, 1482, 5551, 3799, 1314, 2951, 4000, 3299, 4837, 6294, 826, 5790, 2932, 4841, 12956, 3489, 5864, 8056, 7682, 7223, 5256, 4073, 5726, 5236, 2810, 3690, 7944, 3036, 4036, 9488, 3402, 7838, 2368, 1219, 9579, 4242, 4286, 4895, 4125, 20800, 6853, 1627, 1618, 5235, 5793, 5768, 6095, 9075, 2274, 8422, 4188, 5868, 5036, 4892, 8990, 10570, 9613, 16062, 28941, 11028, 13532, 116641, 6540, 4654, 15218, 2935, 46464, 6231, 4803, 4296, 4138, 5104, 4477, 3909, 4561, 3825, 1955, 3542, 9173, 7263, 13148, 4564, 4046, 3683, 3931, 8083, 5844, 6371, 4324, 2246, 3455, 367, 3100, 2090, 4107, 11865, 5272, 7738, 7237, 4537, 3926, 8866, 7711, 4641, 5752, 4366, 10024, 3746, 5527, 9680, 11120, 590, 15541, 3572, 7560, 6329, 6686, 9155, 15692, 9130, 5056, 5613, 6227, 3829, 1528, 7197, 2500, 4845, 10179, 5850, 6438, 6755, 8002, 6140, 6311, 10044, 5021, 5376, 7828, 12595, 3384, 4586, 2892, 5946, 3932, 3662, 1297, 6960, 7071, 3055, 4197, 1623, 5135, 21873, 6328, 5200, 3259, 5172, 3217, 2082, 6404, 5966, 2764, 7063, 6881, 5790, 5495, 4013, 9704, 3221, 2265, 17449, 3616, 9003, 3385, 18338, 5317, 4653, 4235, 2363, 7561, 6784, 8132, 7692, 7190, 3923, 6466, 6522, 3652, 7991, 3213, 3053, 3850, 1583, 2478, 4631, 4099, 2036, 3122, 2037, 15991, 4228, 5661, 3866, 6577, 3281, 6753, 11647, 900, 5649, 2700, 5191, 617, 5863, 499191, 4104, 3163, 12223, 8891, 8441, 2912, 3063, 3222, 5685, 4557, 9340, 19831, 3737, 1226, 6725, 4197, 3797, 3849, 3747, 8047, 9681, 1841, 8838, 22708, 3785, 7103, 21571, 6227, 5692, 5555, 4698, 5117, 3417, 5805, 2492, 10645, 4945, 7714, 2552, 9476, 7593, 3507, 4942, 3375, 3631, 5029, 6051, 6085, 3013, 5315, 13439, 58317, 13067, 6861, 4578, 4553, 4137, 4068, 5389, 6177, 28633, 5578, 6719, 7479, 2495, 7643, 4237, 8566, 3958, 1900, 9332, 4200, 4982, 3270, 5013, 1734, 4088, 9867, 4798, 7614, 4795, 4003, 28738, 5147, 9881, 4314, 5558, 4755, 5220, 5668, 5726, 3599, 5828, 5819, 4008, 2086, 6315, 11564, 4111, 5084, 5041, 7964, 5645, 5510, 2016, 2185, 581, 5987, 5429, 4322, 38164, 19665, 6465, 4027, 4525, 7984, 8218, 23894, 3346, 4495, 3301, 7365, 8297, 13235, 3678, 5256, 7654, 5376, 6900, 4662, 6127, 4296, 3977, 5603, 3417, 2440, 1778, 88917, 4455, 2918, 11559, 7018, 850, 8302, 9764, 6770, 5993, 7877, 3090, 9051, 6659, 10201, 13937, 2443, 8667, 8156, 11041, 8855, 2939, 6168, 3339, 4901, 6287, 6843, 4970, 4734, 2422, 4136, 3888, 5124, 5395, 3201, 18386, 2601, 6440, 6245, 4990, 4731, 3981, 11161, 5470, 4402, 4593, 4569, 5131, 52783, 89902, 2973, 3383, 20836, 8913, 6459, 5785, 4564, 3405, 3071, 2759, 6466, 5270, 3462, 4239, 5644, 4196, 3800, 3421, 4690, 5805, 3579, 3095, 7388, 3170, 4498, 3348, 3336, 3380, 1088, 3378, 7329, 3712, 2368, 6184, 12113, 7322, 611, 3288, 4877, 8760, 4738, 4513, 5647, 6202, 8051, 10848, 628, 3479, 4589, 2133, 2561, 1932, 6984, 4303, 5334, 5037, 1946, 5539, 8300, 3744, 2411, 4485, 8054, 2680, 5001, 5022, 3228, 3548, 30034, 4351, 1998, 4804, 4598, 6840, 1767, 4228, 7935, 7664, 1481, 670, 7117, 9526, 10299, 3934, 4015, 5853, 3557, 7984, 5729, 7966, 5689, 4506, 5605, 11810, 3070, 2290, 5914, 7266, 8452, 6482, 3104, 7763, 7255, 4207, 6715, 8345, 6720, 8978, 2054, 1405, 4211, 125782, 1200, 7236, 9562, 1288, 4956, 24176, 4843, 1155, 6385, 4932, 3812, 6690, 7943, 4605, 5787, 3009, 5554, 5100, 9058, 4220, 3449, 4872, 5750, 9674, 5030, 3704, 730, 8820, 5947, 4586, 3362, 6266, 2398, 4271, 1803, 4268, 9004, 4866, 4083, 2507, 8654, 5140, 3133, 5111, 12169, 2499, 5940, 4277, 2489, 6879, 8463, 548, 5101, 3389, 4176, 3639, 2569, 409, 5409, 6779, 4135, 3719, 6431, 7084, 4868, 4186, 5623, 4874, 11018, 8371, 5875, 5129, 4200, 4424, 3864, 6315, 5048, 3668, 4252, 5079, 3935, 6727, 2542, 2923, 3112, 5204, 5818, 5192, 3644, 3705, 6479, 4680, 3432, 3063, 1837, 2877, 4456, 3315, 3456, 8837, 7641, 1292, 4211, 2266, 6885, 3924, 3433, 4004, 2413, 2003, 11074, 3230, 3301, 4191, 3165, 4042, 4903, 8175, 4112, 1808, 2314, 1240, 7782, 11329, 9387, 7000, 3003, 2622, 7066, 2849, 4393, 12584, 3901, 1032, 1424, 2092, 34251, 8499, 3452, 3929, 4212, 8013, 3011, 2851, 3530, 3145, 8399, 6317, 22798, 6055, 2706, 68991, 15493, 13273, 4567, 4359, 7109, 3560, 5576, 14073, 5042, 4260, 3230, 4763, 3115, 2185, 5018, 9030, 4728, 4294, 7489, 4672, 20748, 8819, 5946, 10552, 5686, 3742, 5876, 5524, 4991, 6211, 2980, 2960, 4624, 8201, 9735, 7555, 3904, 6095, 3093, 7396, 4820, 3019, 3267, 3200, 6739, 6304, 3792, 5557, 4602, 1647, 5724, 3501, 4114, 4390, 9777, 6088, 4233, 3641, 8095, 2963, 5493, 5340, 2099, 3479, 4130, 8069, 12913, 2838, 4439, 4060, 10170, 9295, 7003, 11848, 4519, 37773, 4880, 8161, 10007, 18151, 6362, 3871, 3779, 7909, 7885, 2664, 1260, 7482, 4935, 7765, 5741, 100614, 6096, 4676, 5161, 4800, 21389, 7522, 4583, 4638, 2036, 4475, 2408, 2709, 3028, 4108, 15212, 6453, 2102, 3734, 4087, 4227, 6811, 26188, 2865, 1751, 5632, 4793, 19897, 1574, 8967, 830, 3396, 3760, 2414, 4704, 8444, 5188, 4775, 3232, 4156, 22721, 6823, 2064, 3341, 4214, 4570, 2591, 7979, 6562, 6055, 5922, 3842, 15045, 3823, 5834, 8056, 6044, 6376, 2848, 3728, 7594, 5395, 2642, 6187, 5720, 5482, 4967, 4702, 3039, 4471, 24901, 1152, 11712, 3311, 3026, 15108, 2986, 3623, 7292, 3779, 4066, 5095, 4842, 9684, 6717, 8500, 3609, 5069, 6693, 5901, 8682, 3276, 3510, 3570, 9560, 15669, 3176, 8700, 1609, 5618, 4883, 3097, 2934, 4041, 5888, 4843, 13452, 1214, 6605, 4238, 8048, 2305, 10539, 2796, 4220, 2363, 8445, 9502, 4171, 4587, 2014, 5819, 3692, 5013, 9191, 4020, 41938, 13303, 7049, 2689, 7076, 898, 4846, 3685, 3786, 785, 5814, 6314, 15311, 5187, 7174, 7045, 3963, 7128, 5276, 12350, 4732, 1673, 4544, 6391, 989, 1789, 5157, 7635, 10273, 15263, 7086, 4239, 10874, 1818, 4223, 4002, 9068, 3927, 7886, 8635, 7798, 5573, 15123, 26511, 3739, 9513, 3292, 2577, 10560, 4247, 6850, 3268, 28241, 3615, 1266, 7400, 4414, 6519, 10955, 7455, 2005, 2363, 5581, 3620, 4412, 5157, 8416, 4677, 5482, 4220, 4481, 18847, 11889, 5621, 4063, 6548, 3787, 981, 4707, 2985, 2610, 8493, 8488, 3465, 3051, 7729, 5066, 1623, 3053, 8220, 1634, 4686, 28793, 5892, 6696, 4776, 3617, 2327, 14556, 9141, 6309, 6011, 25571, 7348, 2401, 4178, 2856, 3391, 5796, 3353, 9695, 5059, 6443, 4701, 24232, 3878, 4467, 5233, 3843, 2885, 7123, 3821, 5357, 3858, 6973, 4724, 13792, 4085, 4254, 2395, 3052, 4033, 4490, 4999, 8662, 4538, 4215, 5233, 6417, 3407, 5580, 7461, 4058, 4706, 6582, 7573, 3528, 18132, 5909, 4853, 2676, 3480, 2948, 2890, 4284, 8947, 7849, 2144, 265380, 2410, 5084, 7107, 7307, 5980, 4955, 17384, 4706, 3905, 34319, 2833, 5303, 4059, 3337, 4248, 4151, 4853, 4243, 5154, 7159, 8837, 4975, 12964, 1835, 7138, 1975, 13383, 6661, 9792, 6740, 4798, 3010, 6245, 8043, 3566, 4272, 4878, 7904, 2170, 5012, 1127, 5084, 4297, 5299, 10223, 2522, 6553, 1860, 4171, 9647, 3035, 2934, 5841, 1271, 940, 4846, 5492, 4328, 30233, 6207, 3012, 571, 6324, 5300, 3273, 7487, 3078, 5649, 3416, 6171, 17031, 5374, 7185, 4349, 3591, 10248, 11365, 1639, 836, 2023, 8905, 3062, 6111, 2794, 3192, 4012, 5324, 3140, 1084, 6388, 5103, 3847, 4970, 3063, 3993, 4161, 8907, 5937, 5414, 5436, 4169, 10279, 65671, 12384, 6963, 3611, 7239, 4238, 2757, 3820, 1631, 3982, 6937, 3262, 6868, 5245, 2642, 4961, 8317, 6940, 1869, 12067, 456, 6470, 4262, 13211, 6405, 2153, 6239, 5367, 7680, 2295, 9613, 8794, 5536, 4322, 8564, 5197, 6823, 2691, 5697, 1731, 4981, 4325, 1396, 5144, 3144, 8352, 3905, 6163, 8773, 4034, 10039, 5867, 4634, 2607, 11632, 2650, 38822, 1738, 5991, 3358, 2605, 24646, 3448, 3811, 1634, 6540, 4209, 6181, 4033, 10952, 2734, 5192, 12461, 4377, 6069, 1998, 6924, 6076, 7219, 3415, 7233, 4188, 2218, 10392, 2824, 6003, 3768, 5597, 4528, 6093, 2413, 6391, 3806, 4540, 2848, 5080, 9735, 7494, 3497, 6113, 4016, 6961, 4500, 2050, 9172, 5686, 6751, 5701, 11953, 3716, 2278, 4682, 99245, 4940, 2038, 2779, 6455, 6490, 8417, 3252, 13479, 7256, 4251, 1951, 8995, 4071, 1812, 3177, 9962, 1490, 6096, 12162, 4210, 12863, 3299, 8578, 85533, 6785, 757, 17862, 213, 7103, 3439, 6508, 10753, 4286, 6094, 9148, 8876, 14214, 7762, 6881, 5630, 15142, 4220, 2597, 3537, 11361, 2323, 2500, 3485, 3291, 3898, 3245, 3394, 4599, 6511, 10744, 746, 14590, 732, 7991, 2226, 22668, 7261, 6719, 8394, 3212, 5674, 9219, 9861, 5617, 16208, 11723, 2766, 2478, 3446, 2644, 4288, 37700, 17559, 6293, 473, 7051, 6632, 11903, 21327, 6643, 5143, 4768, 7962, 5900, 5452, 6626, 8842, 5241, 9299, 5699, 6795, 4661, 4340, 5092, 2949, 3034, 17706, 4778, 3695, 7589, 8763, 5211, 9162, 6558, 7027, 2637, 3250, 5927, 5348, 4968, 5129, 3126, 48551, 1895, 5603, 3900, 8452, 9980, 9073, 1896, 1695, 2973, 3642, 7555, 3763, 2310, 10301, 5977, 6553, 2201, 3892, 11935, 3722, 1620, 8451, 3212, 5677, 6084, 3316, 8904, 3879, 7249, 2293, 4047, 4451, 7805, 6817, 2972, 3915, 4046, 8815, 9407, 7053, 7475, 9400, 5405, 3332, 4750, 8208, 3912, 3036, 1781, 9438, 6039, 5506, 2931, 5349, 2954, 5332, 11749, 3516, 2263, 2457, 4299, 7751, 3498, 2138, 7752, 5005, 3667, 5218, 9559, 4865, 4730, 4010, 3740, 2563, 4991, 3168, 47969, 4989, 7812, 8080, 2429, 3539, 6154, 6878, 8513, 5947, 6187, 4351, 5941, 5651, 3147, 6631, 6159, 10752, 3399, 3281, 10301, 5617, 2534, 6974, 7172, 11842, 4403, 13030, 12398, 890, 11011, 3855, 44871, 4297, 8145, 4401, 6102, 2493, 6787, 7714, 9595, 2199, 2697, 264, 8536, 6461, 1773, 4986, 353209, 8834, 8450, 4810, 5442, 2680, 11081, 8040, 3663, 5831, 24365, 5466, 6585, 3389, 1342, 1893, 5460, 7064, 9392, 6058, 4938, 3961, 2696, 11192, 5942, 6356, 7310, 4431, 5596, 6330, 5385, 2846, 5059, 11005, 2601, 2202, 4097, 4416, 3868, 2232, 3032, 4923, 2414, 4023, 8205, 3899, 4485, 6041, 10094, 7321, 2691, 5567, 3055, 12646, 10063, 4517, 6045, 8488, 1677, 4058, 3224, 3801, 1742, 2541, 3666, 2504, 3204, 16597, 7129, 2881, 3636, 4773, 9213, 7116, 8403, 9821, 7172, 6312, 4454, 2857, 2375, 10763, 3004, 3714, 7732, 10200, 11416, 3549, 5299, 8004, 4639, 5162, 9835, 2918, 6413, 1273, 5318, 6430, 818, 3527, 9180, 7773, 2955, 9524, 2232, 8327, 3328, 1707, 2303, 6266, 6612, 7726, 6685, 4402, 6737, 5079, 2599, 3071, 2887, 2529, 3331, 3980, 716, 6948, 3313, 4113, 6512, 991, 7240, 4479, 4664, 953, 6357, 3992, 6535, 4454, 4609, 9883, 1996, 2708, 3690, 2614, 5178, 7381, 7351, 4596, 6498, 3074, 9817, 3680, 10400, 3858, 43125, 33673, 4805, 7472, 4107, 9987, 5673, 3114, 11071, 16440, 4116, 3231, 1173, 1780, 3802, 4970, 11310, 5254, 7922, 4997, 5626, 531, 4359, 3099, 8446, 2454, 5193, 3866, 2796, 7945, 2768, 3306, 5571, 3270, 13324, 10694, 8513, 3832, 5855, 18520, 3073, 7303, 5677, 7053, 20995, 4583, 6157, 7544, 4961, 6490, 4943, 5916, 2804, 12773, 7365, 2699, 6639, 2933, 4204, 3690, 5110, 9334, 6497, 4121, 6732, 2930, 5906, 6202, 3970, 5642, 7419, 2405, 8364, 1889, 5174, 7870, 1864, 4428, 2917, 43480, 4565, 9050, 7468, 7510, 5035, 3485, 1800, 3917, 8480, 2912, 2481, 7843, 2619, 4419, 4341, 4359, 3996, 4875, 2270, 3554, 6210, 3558, 6523, 4741, 8950, 4534, 2595, 6634, 5545, 4912, 6679, 5924, 8029, 4116, 5322, 5482, 10016, 4806, 7001, 4500, 1216, 15070, 6422, 4416, 3749, 6640, 8240, 5046, 6845, 15641, 7692, 2988, 6452, 584, 3769, 5851, 9676, 21283, 6447, 3108, 7560, 8735, 4274, 4639, 541, 6586, 7066, 28571, 4738, 7043, 7605, 9321, 4969, 5332, 2436, 5692, 5122, 4194, 59321, 6057, 2562, 8839, 2388, 7512, 1082, 4656, 10639, 2743, 3437, 5506, 5334, 1672, 5050, 10421, 6377, 6750, 6847, 5183, 5983, 3227, 11001, 5882, 6876, 4907, 7267, 2511, 4081, 4879, 7722, 6285, 4884, 6722, 5195, 4511, 5749, 4421, 7200, 2493, 26832, 49685, 2836, 2873, 3371, 4791, 6983, 8408, 5095, 20096, 6002, 3897, 17029, 4158, 9221, 6816, 7026, 4527, 6686, 11629, 1005, 16435, 5418, 8043, 6973, 11969, 3552, 6655, 5829, 10261, 4639, 7298, 4264, 9893, 5968, 6377, 8946, 2634, 11209, 2315, 374, 2105, 3675, 2079, 7230, 4210, 7678, 5839, 4152, 35737, 4570, 1529, 7194, 6606, 8755, 4758, 2065, 3405, 4000, 5194, 3790, 5389, 4965, 8291, 4121, 3621, 5617, 4487, 7075, 4144, 7274, 3717, 8387, 11091, 4972, 5537, 11060, 5078, 2451, 8519, 8442, 5333, 6655, 10197, 6219, 2442, 4393, 1273, 11743, 4350, 7634, 6240, 14359, 6565, 5423, 5446, 3571, 20571, 5807, 3277, 6823, 4489, 6569, 2216, 95533, 7708, 18685, 6664, 6965, 2354, 5206, 5995, 1656, 11672, 5267, 5829, 9641, 3282, 3027, 1663, 9031, 4088, 3620, 8758, 3889, 6219, 4179, 11101, 2696, 20483, 6295, 5369, 12935, 1919, 3444, 4820, 4524, 3291, 3610, 2881, 1929, 4095, 1226, 9735, 4355, 603, 9254, 10238, 9441, 5007, 2520, 3536, 16427, 2065, 2719, 9401, 4604, 2857, 3955, 2720, 2561, 3339, 2800, 437, 1969, 2192, 8905, 8142, 10843, 2920, 6687, 9273, 1543, 3939, 4660, 8713, 2517, 5043, 3472, 5553, 4700, 4330, 2703, 4870, 33591, 3710, 3691, 10093, 6691, 2147, 6713, 3157, 7902, 5923, 3455, 6672, 8082, 8347, 1429, 4344, 5372, 8296, 10762, 4420, 3836, 12039, 7184, 5015, 11239, 6864, 5166, 6255, 8371, 12758, 6377, 17431, 10694, 8095, 8492, 6018, 3129, 4862, 3096, 10824, 5924, 3791, 5761, 6614, 8635, 3490, 1715, 4468, 9199, 7608, 10577, 2630, 11065, 2918, 7169, 5470, 4396, 3875, 2439, 3052, 2939, 10138, 6835, 3429, 4762, 9181, 3441, 8255, 4733, 16024, 6590, 4422, 4376, 6866, 5892, 4167, 4373, 1131, 918, 5558, 4434, 7225, 11448, 3923, 9490, 3737, 10460, 7098, 2002, 1750, 2045, 7912, 3442, 12506, 7844, 6650, 66550, 3511, 5639, 8886, 3668, 4179, 7322, 1909, 2640, 1630, 7218, 2610, 3983, 9785, 5712, 3826, 6420, 5972, 8977, 3904, 4204, 7269, 4534, 10398, 5322, 2662, 3018, 2191, 9826, 7885, 16120, 7513, 2076, 3602, 4393, 7115, 6382, 7228, 6191, 25056, 4490, 3465, 3189, 3581, 11871, 4688, 3604, 2082, 2471, 3488, 7870, 5750, 11251, 8978, 4150, 4930, 4745, 3819, 3583, 3225, 4453, 4242, 4042, 12395, 3240, 1806, 10407, 3546, 3643, 6934, 5468, 9720, 4999, 3911, 2919, 1774, 40374, 21811, 3593, 9351, 8761, 6457, 6704, 4770, 4099, 4738, 2819, 4083, 10199, 15634, 5554, 8845, 8347, 5168, 5543, 11299, 7995, 4322, 833, 16218, 8053, 3162, 5956, 2853, 3044, 5013, 5916, 4196, 7956, 3723, 12494, 3355, 6160, 3383, 6893, 4260, 5780, 8966, 2252, 45386, 6917, 5183, 7090, 3262, 3193, 6698, 6663, 3538, 1283, 7382, 4135, 1839, 3422, 1923, 962, 5534, 3989, 7227, 4417, 2884, 14105, 17713, 6399, 2762, 3261, 14106, 11558, 5198, 6774, 2765, 4129, 2710, 4887, 17211, 4058, 7143, 18875, 14888, 5327, 1845, 4491, 3416, 6477, 9462, 7647, 9197, 3301, 6051, 2968, 3121, 5438, 3465, 2915, 6367, 2980, 7455, 6264, 7780, 3998, 2979, 8174, 5763, 2565, 6824, 95388, 3721, 7178, 5824, 7205, 6001, 6713, 6229, 3893, 9282, 11142, 19053, 4368, 5446, 8515, 3586, 5555, 8420, 4558, 7232, 6379, 5554, 1613, 6356, 3361, 10459, 12972, 6601, 6451, 5669, 8085, 22649, 9945, 4468, 5897, 4749, 13033, 7124, 7962, 3881, 5712, 6003, 11531, 5176, 3367, 6928, 1964, 6805, 3112, 6170, 3836, 5427, 1244, 3506, 8207, 8630, 1419, 24159, 4951, 4036, 3264, 3109, 8607, 4178, 14086, 6801, 9875, 4788, 9784, 4247, 2204, 8103, 12491, 4837, 5592, 8460, 3827, 6559, 2380, 6943, 7306, 3783, 11743, 3350, 10188, 2666, 5730, 3729, 2669, 8103, 27239, 15285, 6546, 8503, 5417, 8572, 3662, 6030, 1093, 4659, 4597, 4496, 8587, 12063, 2206, 57474, 8297, 3208, 3546, 6704, 5303, 7197, 4737, 4666, 1010, 6552, 7412, 4727, 4375, 1721, 5605, 5045, 4871, 28840, 5604, 2038, 5366, 1073, 4195, 4676, 8977, 2905, 4245, 5677, 12007, 3083, 2472, 4039, 3344, 4829, 607, 6947, 8052, 12782, 4171, 2954, 3592, 10852, 3586, 2680, 2153, 6457, 3639, 1498, 2975, 6427, 6258, 7636, 842, 8592, 6559, 7332, 4387, 3370, 5352, 2591, 11963, 2253, 5370, 2048, 28622, 7889, 11706, 3502, 13305, 6678, 8310, 4304, 2511, 8030, 3381, 377, 7125, 8029, 1677, 1100, 3203, 6858, 6030, 2365, 3592, 4685, 3939, 3158, 7456, 4940, 5463, 10173, 8595, 3318, 4757, 7770, 16712, 5038, 5174, 9221, 2955, 2694, 10595, 6924, 9204, 3456, 6704, 1275, 699, 6175, 6518, 4207, 3234, 18476, 58511, 228, 3073, 1627, 8076, 3224, 5429, 6823, 4652, 4226, 9844, 4479, 4803, 8040, 8238, 4650, 3007, 1691, 1909, 4328, 3689, 8739, 6444, 9822, 8445, 1808, 5387, 5071, 4204, 6406, 4769, 5615, 11869, 10540, 3290, 2820, 5467, 7231, 5709, 9373, 1111, 1988, 41332, 9159, 10857, 3099, 6006, 16826, 1427, 6685, 4884, 8528, 5195, 6493, 10437, 3501, 5447, 5863, 6266, 9932, 6153, 8480, 58312, 12604, 2320, 10802, 1116, 4861, 1074, 2527, 3371, 5164, 3939, 3205, 7836, 5201, 2640, 2329, 8098, 566, 10171, 11386, 2513, 6565, 10807, 4505, 5203, 9742, 13264, 3040, 6088, 4694, 5994, 2967, 6191, 3038, 1678, 15554, 3343, 5120, 510, 7215, 3208, 5952, 2797, 3616, 6504, 9354, 5068, 4285, 4446, 2649, 3341, 2888, 5340, 12116, 4882, 7954, 4937, 8188, 7499, 90, 3223, 3495, 9773, 2500, 3723, 2653, 3328, 8434, 8353, 7024, 7251, 5555, 3078, 10172, 7925, 2322, 4180, 3486, 56749, 2391, 7133, 12316, 3712, 3502, 2143, 4368, 4853, 4066, 3938, 8577, 8357, 6356, 943, 10144, 6048, 4385, 2292, 8340, 3782, 8977, 5565, 4698, 3560, 2342, 3961, 3730, 6602, 7286, 6056, 4195, 6864, 4785, 7078, 5028, 8542, 3798, 10888, 51762, 8349, 3447, 5571, 5927, 4551, 8740, 4501, 2066, 11907, 2469, 8232, 6737, 5991, 7125, 13777, 10057, 5183, 3410, 17409, 3082, 3972, 5859, 3295, 4108, 3784, 2087, 3580, 4004, 5111, 5030, 4437, 2722, 3432, 7606, 6391, 14080, 5715, 19207, 7263, 10429, 4451, 2325, 3739, 5436, 7284, 11449, 3317, 2927, 4183, 23401, 5417, 8630, 3264, 3434, 5547, 3213, 4732, 8949, 2302, 1436, 11533, 10332, 4956, 5057, 4602, 10744, 7209, 3108, 3524, 9814, 11926, 2892, 3230, 2949, 4436, 2187, 7334, 11526, 5914, 7896, 24906, 6515, 4750, 4497, 4813, 958, 3673, 3562, 2386, 6867, 1303, 1807, 5912, 6211, 3535, 1891, 7233, 2448, 4779, 4821, 5667, 6505, 3337, 3048, 9634, 8200, 68170, 1730, 3925, 2329, 6136, 3282, 2569, 11485, 3094, 717, 15693, 3561, 6953, 9239, 4389, 6950, 4312, 7037, 2685, 7598, 4322, 2857, 601, 4801, 9365, 6928, 1935, 3577, 79934, 1038, 10476, 8726, 5089, 4668, 4702, 4937, 9078, 1991, 4900, 7371, 3141, 4339, 3057, 5490, 3365, 4853, 7274, 8657, 5066, 2766, 10110, 7815, 4217, 10741, 2731, 3593, 3258, 7571, 4112, 11679, 2984, 15601, 8462, 7221, 3109, 6365, 3892, 2314, 4501, 3058, 829, 4134, 3778, 8338, 6487, 10145, 4644, 5446, 3461, 6935, 29078, 13568, 5650, 4965, 5591, 1942, 8718, 3422, 2641, 2725, 10923, 6641, 5229, 4277, 10922, 15104, 7437, 11101, 4854, 9998, 5139, 3877, 7313, 11685, 36696, 3401, 4055, 2190, 3090, 3459, 6803, 8682, 5450, 3748, 7318, 6723, 3516, 5154, 2340, 5381, 4105, 5820, 3108, 3251, 7271, 4394, 5839, 4512, 3848, 5500, 6700, 1096, 6241, 5598, 3875, 1039, 3245, 6613, 2273, 6003, 7741, 5451, 9745, 5596, 17598, 722, 7696, 4818, 17813, 5996, 2750, 11228, 9996, 6896, 4372, 5059, 2613, 2257, 1742, 7099, 4859, 8083, 2401, 5680, 8581, 6113, 4935, 6958, 2938, 7125, 13169, 2657, 7732, 2441, 12040, 5272, 4378, 935, 11067, 847, 8623, 1688, 13724, 4843, 7409, 3649, 9661, 12480, 8071, 24471, 3468, 7512, 2513, 4464, 5076, 8052, 915, 5527, 5585, 2050, 10621, 3169, 6628, 5700, 2977, 3710, 5421, 5438, 3935, 11255, 35893, 3876, 4574, 5602, 3445, 5149, 5485, 10015, 3689, 7497, 7530, 5732, 9128, 5374, 8561, 7394, 8213, 3434, 8984, 4254, 6059, 4806, 5239, 2702, 4269, 5485, 1519, 10813, 21497, 6396, 4452, 4924, 7423, 4686, 5660, 2749, 4647, 7435, 11379, 20647, 4685, 6605, 6447, 640, 7727, 8220, 2254, 3487, 10829, 5360, 12147, 7054, 7373, 3908, 5978, 4026, 6089, 8438, 6443, 3019, 1038, 3555, 3493, 5064, 5682, 11113, 5258, 6218, 6867, 2785, 3820, 8934, 3120, 3702, 7000, 5542, 1445, 3992, 6276, 12701, 495, 4251, 2505, 7849, 4143, 3485, 5047, 9302, 21421, 8492, 7399, 9917, 3992, 5978, 5586, 4535, 3829, 5612, 2912, 2756, 7215, 4479, 3178, 3997, 1179, 5844, 7733, 5373, 13211, 7209, 26166, 2433, 2222, 4480, 2401, 6343, 7284, 6258, 11198, 2971, 7017, 6940, 7403, 7113, 4758, 10020, 6555, 6697, 3616, 3131, 5945, 9239, 13567, 4650, 14023, 2529, 6627, 4655, 2460, 12352, 8641, 6497, 10146, 4090, 7658, 2769, 53715, 2162, 4734, 5201, 4520, 5629, 3104, 9494, 3937, 4948, 4428, 1074, 4092, 13732, 3219, 22541, 8017, 5480, 6122, 9821, 4238, 2514, 48483, 4335, 7100, 4809, 3329, 3083, 3242, 2572, 5126, 8425, 3715, 11118, 3168, 7745, 3867, 5236, 7147, 7996, 5122, 8035, 3701, 6360, 3447, 70290, 4363, 2151, 13094, 8723, 7004, 3822, 3349, 21036, 4241, 971, 3618, 4859, 8074, 2022, 4227, 7540, 9342, 10479, 16315, 6524, 2581, 4243, 2653, 3488, 6754, 5332, 6323, 6604, 6901, 11160, 5766, 3041, 8304, 7633, 1662, 5247, 39723, 960, 917, 5008, 4899, 1022, 2078, 10662, 1285, 2769, 4978, 9412, 3699, 4987, 4062, 6018, 3901, 14199, 7504, 1728, 2661, 3166, 2605, 3178, 6279, 4928, 1640, 4227, 4744, 4908, 2967, 1645, 7726, 4181, 6011, 4261, 8695, 4145, 2341, 2554, 4045, 5850, 1413, 4721, 2030, 7580, 3359, 1624, 4753, 5082, 4832, 2116, 4593, 698, 4856, 1586, 3169, 3216, 3661, 3911, 13130, 22053, 2787, 2256, 9976, 4122, 3071, 4756, 15398, 5650, 11687, 4859, 4324, 4029, 3127, 4010, 2559, 3744, 7602, 7953, 7401, 3427, 2539, 9393, 3945, 10586, 4319, 4930, 3607, 12473, 5626, 12822, 5714, 4150, 6451, 5752, 1778, 1027, 3561, 1592, 7181, 9439, 8197, 5552, 25361, 6011, 6872, 4865, 4820, 7464, 1803, 11671, 8055, 3979, 9633, 7835, 4167, 3248, 13790, 2904, 3889, 3361, 6371, 2798, 4558, 5242, 6566, 2797, 3650, 2208, 1847, 6527, 5269, 4183, 9005, 4827, 4124, 3745, 7377, 5458, 5229, 7813, 5809, 5312, 3641, 3434, 8289, 4738, 4103, 2563, 5149, 5735, 2298, 6364, 3825, 3226, 2531, 6329, 6070, 1155, 1386, 10736, 7126, 15842, 7000, 3989, 4661, 1936, 4401, 4885, 6432, 4959, 4007, 7902, 20024, 662, 5281, 4171, 3045, 5523, 4973, 7785, 5201, 2783, 9515, 1852, 252149, 2561, 5561, 3609, 6625, 10739, 1592, 7368, 735, 3134, 3502, 2903, 8994, 1062, 11069, 1109, 404, 463, 4722, 5372, 4757, 3971, 4555, 7570, 7130, 6218, 2468, 6511, 2753, 4859, 4249, 7794, 3942, 4098, 8799, 4144, 3930, 2307, 5563, 6123, 6424, 3448, 5409, 4241, 7469, 3499, 4609, 4864, 6323, 3427, 7394, 8386, 6824, 8090, 394, 5243, 6609, 9704, 4519, 4422, 6022, 3762, 4135, 10508, 1670, 5412, 6933, 7572, 4498, 6515, 4924, 4134, 2989, 854, 6245, 5298, 14919, 4518, 1621, 2775, 4415, 2873, 4242, 5933, 11490, 4109, 5053, 2120, 618, 4269, 9248, 3826, 5289, 5196, 5601, 4085, 7731, 68993, 17097, 14197, 3762, 5401, 2441, 2392, 8514, 5594, 5415, 5284, 8157, 3941, 16823, 7747, 4012, 8484, 1270, 1340, 6125, 5999, 7549, 2266, 8170, 1733, 1478, 3011, 2839, 6768, 9500, 2060, 8767, 4558, 8393, 4698, 11520, 7094, 5897, 899, 2612, 3547, 20147, 4597, 8091, 3013, 6797, 4917, 3307, 2415, 3330, 7125, 4669, 3674, 4628, 5984, 14291, 1541, 4264, 939, 7953, 6775, 2037, 5421, 7934, 7664, 5130, 3784, 3659, 3764, 5049, 2922, 5518, 3643, 4164, 9145, 3620, 4672, 5887, 3991, 2760, 6347, 5994, 2756, 6253, 5172, 774, 1278, 11355, 4272, 7938, 4755, 681, 9141, 5794, 5451, 405, 2387, 4904, 3726, 5540, 6067, 3720, 9806, 4427, 5115, 19954, 5776, 4562, 776, 7218, 3758, 3467, 9709, 4319, 6500, 9173, 4286, 21915, 4295, 6671, 3251, 1030, 22999, 2413, 14204, 10968, 5226, 4869, 2972, 2696, 4622, 8344, 12101, 7813, 5798, 3947, 1505, 3585, 5091, 5988, 6813, 4787, 3830, 3435, 3164, 9053, 3599, 5337, 6480, 2558, 5380, 1728, 871, 5058, 8072, 3862, 3866, 3719, 5922, 920, 6280, 4687, 10331, 5957, 2923, 1073, 5564, 2038, 3516, 12884, 3642, 10197, 9490, 1560, 5962, 5393, 4225, 6130, 9423, 5037, 6703, 790, 6285, 4004, 9565, 10611, 2953, 32483, 11717, 5856, 6777, 2506, 7992, 3598, 2143, 2608, 2783, 10333, 11630, 4681, 2634, 3641, 7179, 8011, 3978, 2036, 6244, 3147, 6478, 1177, 3135, 5556, 3228, 4876, 3200, 7578, 3652, 627, 7543, 3040, 4390, 6565, 3179, 3047, 4423, 3289, 5875, 3342, 5030, 4974, 6502, 9854, 5727, 4185, 4339, 3000, 3373, 7630, 4876, 17878, 5850, 3142, 6645, 3748, 6521, 6355, 2342, 5270, 8948, 8294, 2309, 1717, 7019, 6079, 6194, 2273, 3385, 6113, 691, 3685, 7138, 9281, 7897, 1118, 3644, 6540, 4339, 5462, 1633, 4902, 7796, 8999, 7767, 3276, 4501, 19178, 8781, 8678, 3431, 3955, 4949, 2761, 2686, 4093, 5436, 14310, 4555, 6118, 4954, 3838, 4306, 4311, 3713, 5376, 6976, 4526, 4714, 2566, 1110, 5391, 876, 3049, 4480, 7666, 3103, 10905, 5509, 4568, 6810, 3266, 13144, 4667, 6305, 1907, 2623, 6474, 10551, 4956, 2915, 1933, 5478, 21322, 781, 16830, 7438, 6150, 4870, 4198, 8435, 10106, 4130, 4752, 4946, 5811, 8607, 1755, 4940, 2740, 4584, 5789, 4944, 8862, 2673, 4006, 2270, 6661, 4876, 3422, 3646, 3327, 5263, 11081, 3054, 1938, 4097, 6751, 4079, 1895, 4108, 5071, 7365, 3526, 3171, 3456, 1201, 11463, 3504, 2829, 4859, 4972, 8521, 3475, 5730, 5964, 4618, 8006, 10055, 5102, 7756, 5278, 3895, 1175, 4792, 6490, 5716, 3870, 4024, 5343, 4323, 3255, 4900, 4363, 3346, 42517, 1720, 3489, 7677, 3471, 4801, 100031, 8786, 928, 5647, 5121, 7172, 3290, 2683, 4102, 5642, 4875, 5817, 4154, 7083, 4780, 5354, 11039, 9735, 5536, 5494, 4526, 1993, 3624, 6514, 5312, 3001, 3592, 3730, 6421, 9151, 4358, 6893, 3099, 5624, 2880, 10132, 6456, 2823, 9787, 6089, 2746, 12504, 5718, 3732, 5669, 8292, 955, 1746, 3603, 6967, 2606, 4897, 3660, 9824, 2946, 2506, 7522, 29325, 4943, 2486, 4837, 7399, 6044, 3521, 4121, 5284, 10732, 4807, 2529, 5817, 3879, 4780, 4279, 6204, 4104, 78362, 7277, 6526, 4672, 2066, 9130, 2687, 2996, 4338, 4536, 5341, 4782, 20136, 3232, 4090, 2924, 2939, 9386, 7843, 13810, 6733, 688, 10314, 5784, 4925, 7767, 3780, 7689, 4466, 14275, 18699, 4371, 3634, 1060, 11622, 3138, 5047, 5271, 12763, 4129, 4301, 86522, 9295, 795, 5261, 3458, 48304, 5981, 5663, 6039, 3327, 3219, 7957, 9521, 3363, 6208, 4727, 7736, 2878, 9693, 3641, 1946, 3259, 6910, 9684, 7276, 4387, 2133, 6259, 2197, 11274, 3143, 4531, 7733, 2479, 4097, 7605, 3959, 9419, 4738, 3537, 7921, 11242, 8709, 6794, 4036, 2763, 24859, 882, 2075, 2466, 2809, 6398, 6142, 7387, 1105, 10971, 2319, 8509, 6831, 7176, 10945, 580, 2268, 5244, 2323, 4290, 1685, 10737, 7020, 8129, 3404, 1911, 7934, 5006, 7512, 3809, 4215, 7759, 4176, 11824, 8921, 10174, 3277, 1832, 2972, 3832, 5258, 3311, 2351, 6803, 2665, 4316, 4254, 7252, 9926, 8985, 6242, 7650, 5011, 5119, 7726, 8164, 3709, 3950, 30352, 4331, 11556, 5614, 7908, 8510, 6291, 4711, 5024, 15574, 18817, 4552, 5600, 1818, 7370, 3606, 7877, 4487, 2564, 6988, 6386, 8966, 44029, 13672, 17655, 8953, 8933, 5464, 454, 7688, 2304, 7250, 6626, 31488, 7812, 3761, 5863, 4300, 4108, 4868, 6563, 24135, 4939, 3026, 1276, 5370, 18235, 4594, 4353, 3336, 9798, 4784, 1068, 5061, 3898, 9354, 3985, 2854, 6408, 3034, 4586, 3202, 5363, 3950, 6503, 4911, 3059, 6128, 5311, 7596, 4894, 1604, 7964, 3843, 5131, 5224, 3970, 3879, 5918, 12249, 5787, 11238, 6808, 3573, 4854, 7006, 11760, 4883, 4936, 1716, 5174, 4104, 7800, 3658, 3651, 5003, 2989, 2602, 4668, 11569, 11609, 3476, 12996, 5403, 7686, 8018, 2499, 6143, 3583, 6049, 4129, 5431, 3325, 6080, 7036, 3824, 4534, 9006, 3006, 7221, 5296, 2852, 4054, 6498, 3792, 2179, 4197, 3810, 6035, 16958, 1991, 1368, 3483, 4891, 6770, 5160, 64007, 3620, 4075, 3452, 9306, 5402, 1735, 11265, 4983, 7906, 6937, 5271, 3712, 4358, 4091, 6845, 7168, 3778, 4475, 3562, 100614, 6457, 4739, 13598, 4897, 8118, 9313, 7678, 5049, 3802, 5176, 2943, 2314, 5141, 2518, 3794, 7965, 749500, 3649, 5364, 1597, 2004, 2164, 4356, 2595, 4537, 4834, 14522, 4876, 1537, 8846, 1643, 2219, 8778, 2072, 40316, 3273, 5727, 7526, 3394, 1380, 7194, 1274, 16135, 8176, 3228, 4597, 2644, 7945, 4605, 1472, 6390, 3480, 3391, 3907, 4166, 5622, 4258, 9100, 5315, 4349, 16621, 3086, 1762, 6070, 11477, 7148, 6821, 828, 2641, 4337, 4930, 6073, 6535, 4386, 2931, 1641, 4384, 5059, 2663, 3575, 5649, 5551, 2458, 8938, 4880, 4259, 5401, 5099, 6420, 3739, 10404, 70498, 3631, 4289, 7588, 11378, 25309, 6714, 4609, 5669, 4330, 4845, 5528, 7713, 2781, 5998, 1771, 6996, 5536, 6163, 6564, 5656, 3714, 5350, 10035, 4144, 2445, 6137, 1475, 5711, 8239, 38021, 3546, 3829, 7331, 8630, 5708, 5079, 6606, 8303, 8724, 3487, 3207, 5311, 4521, 484, 1810, 11867, 3617, 5710, 4937, 4919, 6483, 2560, 3529, 7123, 3886, 3978, 7422, 6925, 9073, 4931, 6819, 3473, 7202, 6135, 6792, 4258, 6203, 3865, 1128, 73538, 2829, 11013, 8866, 26273, 4487, 5699, 4731, 5236, 5542, 4664, 1877, 10228, 4070, 1765, 4308, 8557, 5441, 263, 7866, 8215, 3844, 3734, 32353, 25839, 5113, 7542, 3485, 4488, 6027, 4227, 1530, 12816, 18351, 2971, 3837, 18936, 6314, 6459, 3230, 5325, 5764, 6935, 6654, 9283, 8168, 26963, 2505, 5752, 5574, 4465, 5563, 3099, 5520, 4753, 29954, 8225, 4067, 9596, 3552, 905, 19821, 1653, 9075, 6896, 2692, 3906, 2867, 5697, 665, 3571, 5546, 9704, 6060, 2626, 6550, 5464, 7638, 1336, 6591, 3955, 5939, 2640, 3333, 8956, 4181, 6179, 2848, 11127, 4198, 4088, 2074, 2080, 33546, 6449, 4085, 3348, 2901, 2790, 7330, 5615, 7845, 4743, 4320, 330133, 4945, 6299, 2683, 4490, 13517, 3515, 2961, 4835, 7060, 2650, 9804, 7559, 2728, 1621, 5170, 6062, 3282, 5305, 2940, 4269, 1808, 5178, 972, 4047, 2892, 4568, 7064, 3940, 6059, 8146, 4588, 24207, 3127, 4617, 1827, 6294, 2447, 4915, 5598, 3842, 5966, 2713, 6122, 6030, 3745, 7274, 716, 16915, 2805, 1669, 20830, 3521, 5157, 2146, 2591, 3670, 6424, 4731, 12840, 9160, 14443, 37137, 4789, 7515, 6369, 4733, 4842, 6620, 2391, 8245, 4614, 10498, 3331, 7990, 3759, 10175, 6551, 8729, 7536, 3330, 10671, 4301, 5298, 6720, 5481, 4351, 9392, 2812, 2756, 1870, 6295, 3203, 8294, 54346, 4002, 5480, 10257, 6150, 5894, 9155, 5789, 3355, 1678, 5977, 2600, 3786, 5894, 6291, 2474, 3030, 8010, 5768, 6463, 6425, 9515, 6021, 1578, 7436, 3795, 2418, 5050, 4388, 7257, 3729, 2109, 12187, 6096, 12683, 2601, 4592, 29673, 4032, 4273, 3732, 3187, 2645, 2872, 5206, 3305, 1677, 5556, 5850, 3720, 8278, 4941, 10038, 2844, 3990, 24489, 23097, 9946, 4821, 1529, 22649, 5919, 4207, 4767, 5280, 7662, 3175, 6843, 5613, 953, 8273, 3823, 4197, 6788, 3607, 10839, 1616, 1177, 5858, 4895, 9684, 8170, 4137, 5293, 2998, 2809, 3247, 6006, 8621, 409870, 3787, 1490, 8762, 8458, 5184, 3001, 2352, 3481, 6315, 2058, 4090, 6679, 2548, 8599, 9623, 9340, 5221, 4271, 3856, 7197, 22758, 5132, 4855, 11206, 11973, 3940, 4638, 4392, 5497, 2577, 12268, 11244, 8991, 3970, 4395, 8820, 3962, 2213, 5507, 3092, 8421, 18234, 3472, 9261, 2736, 2797, 2001, 4541, 3019, 4015, 2307, 4108, 128647, 31079, 10535, 5832, 5756, 2574, 3304, 3840, 4116, 7585, 6439, 4524, 5995, 3787, 3147, 4666, 4918, 1195, 11308, 5026, 8778, 3329, 7697, 6316, 3881, 3998, 2604, 3709, 6459, 4434, 1201, 8950, 5397, 3376, 2629, 51710, 3491, 19975, 3194, 1657, 8793, 7600, 2021, 1501, 4084, 4764, 6374, 2913, 4703, 6440, 4127, 5631, 2815, 6954, 5681, 10657, 2233, 4542, 9498, 4487, 8518, 7273, 4235, 4549, 6283, 4679, 5302, 1673, 6681, 7170, 13873, 3969, 1103, 3346, 6485, 2032, 24965, 3886, 4667, 4231, 9196, 2577, 2763, 1865, 5068, 3249, 15695, 5934, 5426, 11549, 3542, 5709, 6161, 4965, 4201, 5072, 4056, 5961, 3259, 7317, 7433, 5386, 4982, 4302, 1165, 6646, 9130, 3963, 4866, 3247, 2083, 2616, 7992, 6112, 5461, 3297, 3692, 3122, 8851, 5699, 4108, 6105, 3911, 9474, 5798, 4543, 3271, 8034, 2368, 2085, 8798, 6298, 3798, 3486, 13621, 3049, 4906, 2791, 3226, 3688, 11069, 9568, 2003, 4066, 4104, 4421, 9384, 5657, 5921, 7647, 4791, 5037, 9504, 3335, 6608, 5957, 2120, 6732, 12247, 2836, 6228, 5555, 10028, 3303, 3337, 26690, 2092, 10715, 5268, 5337, 5977, 5748, 5166, 3680, 3920, 3447, 10944, 4148, 3088, 3601, 4257, 4555, 3714, 5471, 12415, 5267, 13023, 2551, 7117, 4983, 7535, 4449, 8263, 10036, 9144, 9992, 4286, 8108, 65890, 3297, 6235, 5203, 17206, 5165, 14598, 2715, 6435, 5814, 3134, 5533, 8068, 4799, 2868, 5976, 3927, 7054, 3747, 3167, 5201, 7665, 6320, 5064, 10978, 6454, 8768, 3992, 5395, 7436, 1947, 4250, 3613, 1962, 5780, 8459, 7062, 13324, 7027, 6144, 12675, 8497, 3681, 4369, 7360, 4543, 4719, 10754, 6319, 4176, 5110, 7152, 8584, 6162, 26320, 17850, 6372, 9350, 1512, 2937, 5614, 3818, 4637, 5963, 3208, 5911, 6650, 2885, 3703, 5058, 8937, 4973, 3499, 9989, 3311, 11963, 8362, 6908, 8311, 1986, 16842, 3876, 12141, 2593, 2814, 4627, 3036, 7724, 4223, 2086, 15156, 4268, 3089, 4625, 7639, 2293, 4870, 5230, 3767, 8327, 4044, 8125, 1852, 2969, 8616, 19276, 7894, 4277, 386134, 6115, 2218, 2158, 6113, 3851, 6620, 5529, 5336, 839, 6307, 8705, 4457, 6239, 3133, 5004, 6642, 4406, 6072, 2905, 7027, 7651, 8340, 14329, 9516, 2494, 8456, 2472, 8812, 8231, 2699, 6170, 6157, 3937, 4139, 4563, 5957, 5210, 1568, 9795, 7847, 3331, 3006, 3518, 4071, 1688, 4689, 2271, 8198, 9922, 6484, 11324, 3652, 5305, 9809, 27271, 4693, 7174, 2672, 2670, 4884, 3514, 4903, 6336, 2422, 6411, 657, 3209, 9454, 13292, 12895, 4506, 8203, 2886, 6521, 4345, 3186, 3917, 6188, 1925, 4039, 5895, 5900, 5460, 4629, 4275, 4066, 3725, 1810, 3865, 697, 2947, 9210, 4072, 1962, 7868, 5723, 2777, 6639, 2993, 3299, 2658, 6173, 3728, 5188, 6957, 3655, 2352, 6105, 5540, 6022, 3658, 4048, 4036, 3796, 4645, 9815, 3209, 3636, 7425, 4822, 3917, 3453, 8815, 4432, 3521, 14052, 2970, 9641, 2026, 5728, 4160, 5136, 5891, 1109, 4858, 27292, 3943, 2807, 1047, 5653, 7906, 3239, 19720, 6659, 1910, 1892, 5800, 4509, 7824, 4666, 14866, 3555, 3982, 1106, 4875, 5259, 8281, 9870, 7316, 2294, 2743, 3822, 6759, 8353, 2985, 4919, 4456, 8517, 5784, 4100, 9790, 3326, 7915, 1890, 5654, 6002, 8072, 58953, 8350, 7468, 3724, 500, 4007, 3689, 7671, 5164, 2115, 4804, 8660, 16034, 6767, 1991, 2860, 2843, 3671, 3972, 4959, 1743, 3274, 2778, 7418, 2923, 4105, 5929, 40143, 2174, 10738, 20191, 4300, 2396, 5772, 5273, 4873, 1437, 8252, 5111, 5937, 5352, 1858, 4943, 7300, 8339, 3172, 4523, 2630, 31771, 6516, 2767, 3465, 5388, 9705, 1040, 6642, 2310, 4039, 9740, 2732, 13793, 5539, 10976, 2422, 2431, 3590, 4321, 8087, 1492, 5386, 2264, 5133, 7913, 4604, 4715, 2440, 7928, 10115, 10206, 4480, 2717, 5402, 1111, 13060, 14295, 3466, 3080, 12337, 12451, 5767, 2548, 4790, 6153, 6906, 1029, 7829, 2683, 7262, 6012, 1264, 4516, 9573, 8383, 45429, 8294, 2819, 7736, 6594, 3585, 28179, 7499, 2576, 10182, 9102, 2654, 3979, 7139, 7577, 5339, 3594, 6453, 9141, 1405, 1393, 2288, 5120, 7426, 2802, 3564, 3257, 9379, 4700, 1351, 7455, 2763, 4133, 5429, 2040, 2391, 5799, 2947, 3829, 3277]\n"
          ],
          "name": "stdout"
        }
      ]
    },
    {
      "cell_type": "code",
      "metadata": {
        "id": "H4TS7F6j0qO6",
        "colab": {
          "base_uri": "https://localhost:8080/"
        },
        "outputId": "2c48ad27-2e35-405b-8909-6f58460b20ee"
      },
      "source": [
        "# get the average words, sentances, and sections per artcle\n",
        "def AverageData(arr):\n",
        "  return sum(arr)/len(arr)\n",
        "averageWords = AverageData(words)\n",
        "averageSenences = AverageData(sentances)\n",
        "averageSections = AverageData(sections)\n",
        "\n",
        "print(\"The Average Words per article are: \", averageWords)\n",
        "print(\"The Average Sentences per article are: \", averageSenences)\n",
        "print(\"The Average Sections per article are: \", averageSections)\n"
      ],
      "execution_count": 44,
      "outputs": [
        {
          "output_type": "stream",
          "text": [
            "The Average Words per article are:  7144.80546241967\n",
            "The Average Sentences per article are:  577.8894244202291\n",
            "The Average Sections per article are:  18.071668063704944\n"
          ],
          "name": "stdout"
        }
      ]
    },
    {
      "cell_type": "code",
      "metadata": {
        "id": "7y1Ofn3aSDhc"
      },
      "source": [
        ""
      ],
      "execution_count": 42,
      "outputs": []
    },
    {
      "cell_type": "markdown",
      "metadata": {
        "id": "6B-Hz-XvSD8z"
      },
      "source": [
        "## SpaCy"
      ]
    },
    {
      "cell_type": "code",
      "metadata": {
        "id": "sAR1lo__RQiU"
      },
      "source": [
        "##script used to take json text files and train.csv and convert them to SpaCy friendly format (takes approx. 80 minutes to complete)\n",
        "\n",
        "##create array to store tuples of publication text and entity (dataset name) locations (this is how SpaCy wants it)\n",
        "# SPACY_TRAIN = []\n",
        "\n",
        "##counter used to track progress\n",
        "# count = 0\n",
        "\n",
        "##loop through train.csv rows\n",
        "# for index, row in train.iterrows():\n",
        "#   print(count)\n",
        "#   this_pub = \"\"\n",
        "\n",
        "##load json file corresponding to publication id in the train.csv row, store known dataset label\n",
        "#   this_pub_id = './data/train/' + row['Id'] + '.json'\n",
        "#   this_data_lab = row['dataset_label']\n",
        "#   this_pub_json = json.load(open(this_pub_id))\n",
        "\n",
        "##append all text from the publication in to one (super-long!) string\n",
        "#   for section in this_pub_json:\n",
        "#     this_pub += section['text']\n",
        "\n",
        "##Find locations of dataset in publications and store in an entity dictionary\n",
        "#   this_ent_dict = {\"entities\": []}\n",
        "#   for m in re.finditer(this_data_lab, this_pub):\n",
        "#     this_ent_dict['entities'].append((m.start(), m.end()+1, LABEL))\n",
        "\n",
        "## append the tuple of the entire publication text and the entity locations in the text\n",
        "#   SPACY_TRAIN.append((this_pub, this_ent_dict))\n",
        "#   count+=1\n",
        "\n",
        "# SPACY_TRAIN"
      ],
      "execution_count": null,
      "outputs": []
    },
    {
      "cell_type": "code",
      "metadata": {
        "id": "3u4Xm-duW8pX"
      },
      "source": [
        "#write SpaCy friendly training data into a text file\n",
        "\n",
        "# file = open(\"./data/spacy/spacy_train.txt\", \"w\")\n",
        "# SPACY_TRAIN_File = repr(SPACY_TRAIN)\n",
        "# file.write(SPACY_TRAIN_File)\n",
        "# file.close()"
      ],
      "execution_count": null,
      "outputs": []
    },
    {
      "cell_type": "code",
      "metadata": {
        "id": "Lpq9Wa3Gt1Cw"
      },
      "source": [
        "#script to read in SpaCy friendly data from text file (script modified from one here: https://www.geeksforgeeks.org/how-to-read-large-text-files-in-python/)\n",
        "  \n",
        "#time at the start of program is noted\n",
        "start = time.time()\n",
        "spacy_train = \"\"\n",
        "#keeps a track of number of lines in the file\n",
        "count = 0\n",
        "for lines in fileinput.input([\"./data/spacy/spacy_train.txt\"]):\n",
        "    spacy_train = lines\n",
        "    count = count + 1\n",
        "      \n",
        "#time at the end of program execution is noted\n",
        "end = time.time()\n",
        "  \n",
        "#total time taken to print the file\n",
        "print(\"Execution time in seconds: \",(end - start))\n",
        "print(\"No. of lines printed: \",count)\n",
        "\n",
        "#number of chars in file (exceeds one billion)\n",
        "print(\"Number of characters in the data file (too many): \", len(spacy_train))"
      ],
      "execution_count": null,
      "outputs": []
    },
    {
      "cell_type": "code",
      "metadata": {
        "id": "gYMJcTI7NdDO"
      },
      "source": [
        "#SpaCy friendly training data was read in from .txt file as a string - use following to convert back to list of tuples\n",
        "#Source code: https://stackoverflow.com/questions/1894269/how-to-convert-string-representation-of-list-to-a-list\n",
        "\n",
        "DATA = ast.literal_eval(spacy_train)\n",
        "\n",
        "print(\"number of (paper, dataset_location) tuples in the data: \", len(DATA))"
      ],
      "execution_count": null,
      "outputs": []
    },
    {
      "cell_type": "code",
      "metadata": {
        "id": "npbPApGyIJVe"
      },
      "source": [
        "#split data into 70% training and 30% test\n",
        "#Train only on the 70% and keep the rest for evaluation purposes\n",
        "#As model training and internal evaluation was done over multiple sessions, this was run once and the separate\n",
        "# train and test data were saved to our shared Google Drive to maintain the integrity of our evaluation results,\n",
        "# hence it is commented out here \n",
        "\n",
        "# #randomly shuffle the tuples\n",
        "random.shuffle(DATA)\n",
        "\n",
        "train_mark = (len(DATA)*7//10)\n",
        "TRAIN_FULL = DATA[:train_mark]\n",
        "TEST_FULL = DATA[train_mark:]"
      ],
      "execution_count": null,
      "outputs": []
    },
    {
      "cell_type": "code",
      "metadata": {
        "id": "BQJM72AqAWrr"
      },
      "source": [
        "# write train/test split into a text file, as model will be trained on this split\n",
        "\n",
        "#As model training and internal evaluation was done over multiple sessions, this was run once and the separate\n",
        "# train and test data were saved to our shared Google Drive to maintain the integrity of our evaluation results,\n",
        "# hence it is commented out here \n",
        "\n",
        "# file = open(\"./data/spacy/TRAIN_FULL.txt\", \"w\")\n",
        "# TRAIN_FULL_SET = repr(TRAIN_FULL)\n",
        "# file.write(TRAIN_FULL_SET)\n",
        "# file.close()\n",
        "\n",
        "# file = open(\"./data/spacy/TEST_FULL.txt\", \"w\")\n",
        "# TEST_FULL_SET = repr(TEST_FULL)\n",
        "# file.write(TEST_FULL_SET)\n",
        "# file.close()"
      ],
      "execution_count": null,
      "outputs": []
    },
    {
      "cell_type": "code",
      "metadata": {
        "id": "svLcu6si-FCA"
      },
      "source": [
        "#Upon attempting training, there was not enough RAM/it was too slow to process all texts in their entirities.\n",
        "#As such, following script is used to compress the training data.  It breaks the publications up into sentences.  It then picks,\n",
        "# from each publication, one sentence that contains the data set name inside it, and one sentence that does not.\n",
        "\n",
        "#set our custom entity label to be trained on later\n",
        "LABEL = 'data'\n",
        "\n",
        "TRAIN_DATA = []\n",
        "\n",
        "#loop through tuples in original data\n",
        "#hit_count and miss_count serve as counters for how many sentences we have already extracted from this particular paper\n",
        "for paper in TRAIN_FULL:\n",
        "  hit_count = 0\n",
        "  miss_count = 0\n",
        "\n",
        "  #determine if the paper we are looking at contains any entities\n",
        "  entities = paper[1]['entities']\n",
        "  if len(entities) > 0:\n",
        "    #store the dataset name for this publication\n",
        "    dataset = paper[0][entities[0][0]:entities[0][1]-1]\n",
        "\n",
        "  #split data into sentences, approximately (based on the '.' puncutation mark)\n",
        "  sentences = paper[0].split('.')\n",
        "\n",
        "  #loop through sentences\n",
        "  for sentence in sentences:\n",
        "    this_ent_dict = {\"entities\": []}\n",
        "    if dataset in sentence:\n",
        "      hit_count +=1\n",
        "\n",
        "      #find all occurences of explicit mentions of the dataset in this sentence\n",
        "      for m in re.finditer(dataset,sentence):\n",
        "        this_ent_dict['entities'].append((m.start(), m.end()+1, LABEL))\n",
        "      #compressed data: append a tuple of just the sentence (as opposed to the entire paper) containing the dataset entity\n",
        "      TRAIN_DATA.append((sentence, this_ent_dict))\n",
        "    \n",
        "    #after find one sentence containing a dataset, append two that do not contain it\n",
        "    elif hit_count > 0 and miss_count <= hit_count:\n",
        "      miss_count += 1\n",
        "      TRAIN_DATA.append((sentence, this_ent_dict))\n",
        "\n",
        "    #when have two sentences from this paper (one containing dataset and one without), move on to next paper\n",
        "    if hit_count >= 1 and miss_count >= 2:\n",
        "      break"
      ],
      "execution_count": null,
      "outputs": []
    },
    {
      "cell_type": "code",
      "metadata": {
        "id": "drMyeKVVQeJA"
      },
      "source": [
        "#number of entries ((sentence, entity-locations) tuples) in the compressed dataset\n",
        "print(\"number of (sentence, datset_location) tuples in the compressed data: \", len(TRAIN_DATA))"
      ],
      "execution_count": null,
      "outputs": []
    },
    {
      "cell_type": "code",
      "metadata": {
        "id": "9bS0eO6WFv1h"
      },
      "source": [
        "#find and remove all sentences containing no chars (ex: \"\", \" \", \"      \") as these cause an error in the SpaCy training algorithm\n",
        "\n",
        "count = 0\n",
        "sen = 0\n",
        "while sen < len(TRAIN_DATA):\n",
        "  #if the sentence contains some chars, move on to the next sentence\n",
        "  if TRAIN_DATA[sen][0].strip():\n",
        "      sen += 1\n",
        "  \n",
        "  #if it is a blank sentence, delete it\n",
        "  else:\n",
        "      # print(TRAIN_DATA[sen])\n",
        "      del TRAIN_DATA[sen]\n",
        "      count+=1\n",
        "\n",
        "\n",
        "print(\"Number of blank sentences we removed: \", count)"
      ],
      "execution_count": null,
      "outputs": []
    },
    {
      "cell_type": "markdown",
      "metadata": {
        "id": "Qgw5tlXP7rN7"
      },
      "source": [
        "## Training SpaCy NER with Custom Entities"
      ]
    },
    {
      "cell_type": "code",
      "metadata": {
        "id": "9Jo4O0XQYzbG"
      },
      "source": [
        "#script derived from https://towardsdatascience.com/custom-named-entity-recognition-using-spacy-7140ebbb3718\n",
        "\n",
        "\n",
        "#create empty model\n",
        "nlp = sp.blank('en')\n",
        "print(\"created blank english model\")\n",
        "\n",
        "#add ner (entity recognizer) to the pipeline\n",
        "if 'ner' not in nlp.pipe_names:\n",
        "    ner = nlp.create_pipe('ner')\n",
        "    nlp.add_pipe(ner)\n",
        "else:\n",
        "    ner = nlp.get_pipe('ner')\n",
        "\n",
        "#add our custom entity label to the entity recognizer\n",
        "ner.add_label(LABEL)\n",
        "optimizer = nlp.begin_training()\n",
        "\n",
        "#set number of epochs we want our model to perform\n",
        "n_iter = 10\n",
        "lossList = []\n",
        "#make sure we only train our ner pipe to speed up processing\n",
        "other_pipes = [pipe for pipe in nlp.pipe_names if pipe != 'ner']\n",
        "with nlp.disable_pipes(*other_pipes):  # only train NER\n",
        "    for itn in range(n_iter):\n",
        "        print(itn)\n",
        "        random.shuffle(TRAIN_DATA)\n",
        "        losses = {}\n",
        "        #split data into batches of 500 sentences\n",
        "        batches = minibatch(TRAIN_DATA, size=500)\n",
        "        for batch in batches:\n",
        "            print('batch size', len(batch))\n",
        "            #extract the sentence and the entities it contains for each sentence\n",
        "            texts, annotations = zip(*batch)\n",
        "            #update the weights\n",
        "            nlp.update(texts, annotations, sgd=optimizer, drop=0.35,\n",
        "                        losses=losses)\n",
        "        #loss after this epoch\n",
        "        lossList.append(losses['ner'])\n",
        "        print('Losses', losses)\n",
        "\n",
        "\n",
        "print(lossList)\n",
        "# Save model \n",
        "output_dir = Path('./models/spacy')\n",
        "if not output_dir.exists():\n",
        "    output_dir.mkdir()\n",
        "nlp.meta['name'] = 'SpaCy'  # rename model\n",
        "nlp.to_disk(output_dir)\n",
        "print(\"Saved model to\", output_dir)"
      ],
      "execution_count": null,
      "outputs": []
    },
    {
      "cell_type": "markdown",
      "metadata": {
        "id": "rQYAyPPaEP9j"
      },
      "source": [
        "## Internal Evaluation"
      ]
    },
    {
      "cell_type": "code",
      "metadata": {
        "id": "q7RMBmK6OZgy"
      },
      "source": [
        "# code reference: https://www.geeksforgeeks.org/graph-plotting-in-python-set-1/\n",
        "import matplotlib.pyplot as plt\n",
        "\n",
        "x = [1,2,3,4,5,6,7,8,9,10]\n",
        "\n",
        "plt.plot(x, lossList)\n",
        "\n",
        "# naming the x axis\n",
        "plt.xlabel('Iteration')\n",
        "# naming the y axis\n",
        "plt.ylabel('NER Losses')\n",
        "  \n",
        "# giving a title to my graph\n",
        "plt.title('My first graph!')\n",
        "  \n",
        "# function to show the plot\n",
        "plt.show()\n"
      ],
      "execution_count": null,
      "outputs": []
    },
    {
      "cell_type": "code",
      "metadata": {
        "id": "89iUoceWfwio"
      },
      "source": [
        "#Load \"test\" set (30% training data held aside above)\n",
        "#Note: these are not compressed into sentences, it is full texts.  The evaluation script below breaks into sentences\n",
        "\n",
        "#script to read in SpaCy friendly data from text file (script modified from one here: https://www.geeksforgeeks.org/how-to-read-large-text-files-in-python/)\n",
        "  \n",
        "#time at the start of program is noted\n",
        "start = time.time()\n",
        "TEST_FULL = \"\"\n",
        "#keeps a track of number of lines in the file\n",
        "count = 0\n",
        "for lines in fileinput.input([\"./data/spacy/TEST_FULL.txt\"]):\n",
        "    TEST_FULL = lines\n",
        "    count = count + 1\n",
        "      \n",
        "#time at the end of program execution is noted\n",
        "end = time.time()\n",
        "  \n",
        "#total time taken to print the file\n",
        "print(\"Execution time in seconds: \",(end - start))\n",
        "print(\"No. of lines printed: \",count)\n",
        "\n",
        "#number of chars in file (exceeds one billion)\n",
        "print(\"Number of characters in the data file : \", len(TEST_FULL))"
      ],
      "execution_count": null,
      "outputs": []
    },
    {
      "cell_type": "code",
      "metadata": {
        "id": "bMalJFigg4CY"
      },
      "source": [
        "#Test data was read in from .txt file as a string - use following to convert back to list of tuples\n",
        "#Source code: https://stackoverflow.com/questions/1894269/how-to-convert-string-representation-of-list-to-a-list\n",
        "\n",
        "TEST_FULL = ast.literal_eval(TEST_FULL)\n",
        "\n",
        "print(\"number of (paper, dataset_location) tuples in the data: \", len(TEST_FULL))"
      ],
      "execution_count": null,
      "outputs": []
    },
    {
      "cell_type": "code",
      "metadata": {
        "id": "gcSC--8rRGmJ"
      },
      "source": [
        "#Load SpaCy ner model trained on 70% of the data, evaluate on 5 1% slices of unseen test data (5% (300 full papers) used out of 30% (~6000 full papers) due to runtime constraints)\n",
        "\n",
        "# output_dir = Path('./models/spacy')\n",
        "# print(\"Loading from\", output_dir)\n",
        "# nlp2 = sp.load(output_dir)\n",
        "\n",
        "TP5 = 0\n",
        "FP5 = 0\n",
        "FN5 = 0\n",
        "precision5 = 0.0\n",
        "recall5 = 0.0\n",
        "micro = 0.0\n",
        "\n",
        "#Kaggle-provided Jaccard similarity function between strings\n",
        "def jaccard(str1, str2): \n",
        "    a = set(str1.lower().split()) \n",
        "    b = set(str2.lower().split())\n",
        "    c = a.intersection(b)\n",
        "    return float(len(c)) / (len(a) + len(b) - len(c))\n",
        "\n",
        "#function provided on Kaggle competition to clean dataset label for submission\n",
        "def clean_text(txt):\n",
        "    return re.sub('[^A-Za-z0-9]+', ' ', str(txt).lower())\n",
        "\n",
        "#lists to hold actual dataset labels and predicted dataset labels across papers\n",
        "ground_truth = []\n",
        "predictions = []\n",
        "\n",
        "#counter used to track progress of the script\n",
        "count = 0\n",
        "\n",
        "#We are taking 1% of the test data to evaluate on.  This is approx. 60 papers.  \n",
        "# We chose this for a couple reasons.  1) Kaggle only asks us to submit predictions for 4 papers, 2) predicting on 60 papers vs. 6000 papers reduces runtime\n",
        "# from ~730 minutes to ~30 minutes.\n",
        "\n",
        "for itr in range(5):\n",
        "    #initialize variables to hold true positives (TP), false negatives (FN), and false positives (FP) (defined below)\n",
        "    TP=0\n",
        "    FP=0\n",
        "    FN=0\n",
        "\n",
        "    #randomly shuffle the tuples\n",
        "    random.shuffle(TEST_FULL)\n",
        "\n",
        "    #pick 60 papers at random from test set\n",
        "    start_range = random.randint(0, 5839)\n",
        "    end_range = start_range + 60\n",
        "    print('start_range', start_range)\n",
        "    print('end_range', end_range)\n",
        "\n",
        "    #The following loop creates two arrays, one with the actual dataset labels for each paper and one for the predicted labels.\n",
        "    # The order of each list matches with each other, which makes comparison easy later on.\n",
        "\n",
        "    #Loop through each (paper, dataset labels) tuple\n",
        "    for test_text in TEST_FULL[start_range:end_range]:\n",
        "        count +=1\n",
        "        print(count)\n",
        "\n",
        "        #following list stores actual entities for the current paper\n",
        "        this_gt = []\n",
        "\n",
        "        #loop through entities for this paper, store once\n",
        "        for gt_ent in test_text[1]['entities']:\n",
        "            dataset = test_text[0][gt_ent[0]:gt_ent[1]-1]\n",
        "            dataset = clean_text(dataset)\n",
        "            if dataset not in this_gt:\n",
        "                this_gt.append(dataset)\n",
        "        ground_truth.append(this_gt)\n",
        "\n",
        "        #this_pred stores all dataset label predictions for this paper\n",
        "        this_pred = []\n",
        "\n",
        "        #split current paper into sentences, approximately\n",
        "        sentences = test_text[0].split('.')\n",
        "\n",
        "        #for each sentence, predict dataset labels\n",
        "        for sentence in sentences:\n",
        "            doc = nlp(sentence)\n",
        "            #loop through entities found in this sentence, if they contain chars store them, make sure to only store once\n",
        "            for ent in doc.ents:\n",
        "                if len(ent.text) > 0:\n",
        "                    this_ent = clean_text(ent.text)\n",
        "                    #remove any trailing or leading white spaces\n",
        "                    this_ent = this_ent.strip()\n",
        "                    if this_ent not in this_pred:\n",
        "                        this_pred.append(this_ent)\n",
        "\n",
        "        predictions.append(this_pred)\n",
        "\n",
        "    #loop through the range of both arrays (ground_truth and prediction arrays are the same length)\n",
        "    for num in range(0, len(ground_truth)):\n",
        "        this_gt_set = ground_truth[num]\n",
        "\n",
        "        #Kaggle competition eval. page says: \"Predicted strings for each publication are sorted alphabetically and processed in that order. \n",
        "        #Any scoring ties are resolved on the basis of that sort.\" Hence we sort the prediction strings alphabetically\n",
        "        this_pred_set = sorted(predictions[num])\n",
        "\n",
        "        #keep track of which predictions were matched, unmatched predictions count as FP\n",
        "        matched_pred = []\n",
        "\n",
        "        #loop through ground truth predictions for this paper\n",
        "        for key in this_gt_set:\n",
        "            #max_sim keeps track of most simliar prediction to ground truth string\n",
        "            max_sim = 0\n",
        "            #loop through this papers predictions\n",
        "            for pred in this_pred_set:\n",
        "                this_sim = jaccard(key, pred)\n",
        "                #store prediction (mark as matched) if it has greater than 0 jaccard similarity to some ground truth dataset label\n",
        "                if this_sim > 0:\n",
        "                    if pred not in matched_pred:\n",
        "                        matched_pred.append(pred)\n",
        "                if this_sim > max_sim:\n",
        "                    max_sim = this_sim\n",
        "            #if a ground truth is predicted with greater than 0.5 similarity, mark as TP\n",
        "            if max_sim >= 0.5:\n",
        "                TP += 1\n",
        "            #if ground truth is only predicted with greater than 0 similarity but less than 0.5, count as FP\n",
        "            elif max_sim < 0.5 and max_sim > 0:\n",
        "                FP += 1\n",
        "            #if ground truth is not matched by any predictions, count as FN\n",
        "            elif max_sim == 0:\n",
        "                FN += 1\n",
        "            #all unmatched predicitons counted as FP\n",
        "            FP += len(this_pred_set) - len(matched_pred)\n",
        "    TP5 += TP\n",
        "    FP5 += FP\n",
        "    FN5 += FN\n",
        "    print('Total over 5 runs: ', TP5, FP5, FN5)\n",
        "    \n",
        "    ground_truth.clear()\n",
        "    predictions.clear()\n",
        "#Calculate precision, recall, and micro F0.5 scores\n",
        "TP = TP5/5\n",
        "FP = FP5/5\n",
        "FN = FN5/5\n",
        "print('Average TP5 FP5 FN5 ', TP5, FP5, FN5)\n",
        "\n",
        "precision = TP/(TP+FP)\n",
        "\n",
        "print(\"Precision: \", precision)\n",
        "recall = TP/(TP+FN)\n",
        "\n",
        "print(\"Recall: \", recall)\n",
        "\n",
        "microF = (2*precision*recall)/(precision+recall)\n",
        "print(\"Micro F0.5: \", microF)"
      ],
      "execution_count": null,
      "outputs": []
    },
    {
      "cell_type": "code",
      "metadata": {
        "id": "7kptqWG9S3Pc"
      },
      "source": [
        "\n",
        "import matplotlib.pyplot as plt\n",
        "# set width of bar\n",
        "plotData = {'TP' : 30, 'FP':5, 'FN':16}\n",
        "#make list for x and y axis\n",
        "evalMetrices = list(plotData.keys())\n",
        "evalValues = list(plotData.values())\n",
        " \n",
        "fig = plt.figure(figsize = (10, 5))\n",
        "\n",
        "plt.bar(evalMetrices, evalValues, color ='maroon',\n",
        "        width = 0.4)\n",
        "\n",
        "plt.xlabel(\"Evaluation Metrices\")\n",
        "plt.ylabel(\"Values\")\n",
        "plt.title(\"Model Evaluation Result\")\n",
        "plt.show()\n",
        " \n",
        "# plt.legend()\n",
        "plt.show()\n"
      ],
      "execution_count": null,
      "outputs": []
    },
    {
      "cell_type": "code",
      "metadata": {
        "id": "kbdMh8pjUmq7"
      },
      "source": [
        "# set width of bar\n",
        "plotData = {'Precision': 0.839779005524862, 'Recall':0.6551724137931034, 'MicroF': 0.7360774818401937}\n",
        " \n",
        "#make list for x and y axis\n",
        "evalMetrices = list(plotData.keys())\n",
        "evalValues = list(plotData.values())\n",
        " \n",
        "fig = plt.figure(figsize = (10, 5))\n",
        "\n",
        "plt.bar(evalMetrices, evalValues, color ='maroon',\n",
        "        width = 0.4)\n",
        "\n",
        "plt.xlabel(\"Evaluation Metrices\")\n",
        "plt.ylabel(\"Values\")\n",
        "plt.title(\"Model Evaluation Result\")\n",
        "plt.show()\n",
        " \n",
        "# plt.legend()\n",
        "plt.show()"
      ],
      "execution_count": null,
      "outputs": []
    },
    {
      "cell_type": "markdown",
      "metadata": {
        "id": "nOmGK33GpPkS"
      },
      "source": [
        "## Restore Test Data to Training Set and Train Model on Full Training Set"
      ]
    },
    {
      "cell_type": "code",
      "metadata": {
        "id": "jFLjE4aypZlI"
      },
      "source": [
        "#Upon attempting training, there was not enough RAM/it was too slow to process all texts in their entirities.\n",
        "#As such, following script is used to compress the training data.  It breaks the publications up into sentences.  It then picks,\n",
        "# from each publication, one sentence that contains the data set name inside it, and one sentence that does not.\n",
        "\n",
        "#set our custom entity label to be trained on later\n",
        "LABEL = 'data'\n",
        "\n",
        "TRAIN_DATA = []\n",
        "\n",
        "#loop through tuples in original data\n",
        "#hit_count and miss_count serve as counters for how many sentences we have already extracted from this particular paper\n",
        "for paper in DATA:\n",
        "  hit_count = 0\n",
        "  miss_count = 0\n",
        "\n",
        "  #determine if the paper we are looking at contains any entities\n",
        "  entities = paper[1]['entities']\n",
        "  if len(entities) > 0:\n",
        "    #store the dataset name for this publication\n",
        "    dataset = paper[0][entities[0][0]:entities[0][1]-1]\n",
        "\n",
        "  #split data into sentences, approximately (based on the '.' puncutation mark)\n",
        "  sentences = paper[0].split('.')\n",
        "\n",
        "  #loop through sentences\n",
        "  for sentence in sentences:\n",
        "    this_ent_dict = {\"entities\": []}\n",
        "    if dataset in sentence:\n",
        "      hit_count +=1\n",
        "\n",
        "      #find all occurences of explicit mentions of the dataset in this sentence\n",
        "      for m in re.finditer(dataset,sentence):\n",
        "        this_ent_dict['entities'].append((m.start(), m.end()+1, LABEL))\n",
        "      #compressed data: append a tuple of just the sentence (as opposed to the entire paper) containing the dataset entity\n",
        "      TRAIN_DATA.append((sentence, this_ent_dict))\n",
        "    \n",
        "    #after find one sentence containing a dataset, append two that do not contain it\n",
        "    elif hit_count > 0 and miss_count <= hit_count:\n",
        "      miss_count += 1\n",
        "      TRAIN_DATA.append((sentence, this_ent_dict))\n",
        "\n",
        "    #when have two sentences from this paper (one containing dataset and one without), move on to next paper\n",
        "    if hit_count >= 1 and miss_count >= 2:\n",
        "      break"
      ],
      "execution_count": null,
      "outputs": []
    },
    {
      "cell_type": "code",
      "metadata": {
        "id": "x8EBChMkqSQ4"
      },
      "source": [
        "#number of entries ((sentence, entity-locations) tuples) in the compressed dataset\n",
        "print(\"number of (sentence, datset_location) tuples in the compressed data: \", len(TRAIN_DATA))"
      ],
      "execution_count": null,
      "outputs": []
    },
    {
      "cell_type": "code",
      "metadata": {
        "id": "BjZ7BlfFqjZ2"
      },
      "source": [
        "#find and remove all sentences containing no chars (ex: \"\", \" \", \"      \") as these cause an error in the SpaCy training algorithm\n",
        "\n",
        "count = 0\n",
        "sen = 0\n",
        "while sen < len(TRAIN_DATA):\n",
        "  #if the sentence contains some chars, move on to the next sentence\n",
        "  if TRAIN_DATA[sen][0].strip():\n",
        "      sen += 1\n",
        "  \n",
        "  #if it is a blank sentence, delete it\n",
        "  else:\n",
        "      # print(TRAIN_DATA[sen])\n",
        "      del TRAIN_DATA[sen]\n",
        "      count+=1\n",
        "\n",
        "\n",
        "print(\"Number of blank sentences we removed: \", count)"
      ],
      "execution_count": null,
      "outputs": []
    },
    {
      "cell_type": "code",
      "metadata": {
        "id": "QSEM8c4Vqs3m"
      },
      "source": [
        "#script derived from https://towardsdatascience.com/custom-named-entity-recognition-using-spacy-7140ebbb3718\n",
        "\n",
        "#create empty model\n",
        "nlp = sp.blank('en')\n",
        "print(\"created blank english model\")\n",
        "\n",
        "#add ner (entity recognizer) to the pipeline\n",
        "if 'ner' not in nlp.pipe_names:\n",
        "    ner = nlp.create_pipe('ner')\n",
        "    nlp.add_pipe(ner)\n",
        "else:\n",
        "    ner = nlp.get_pipe('ner')\n",
        "\n",
        "#add our custom entity label to the entity recognizer\n",
        "ner.add_label(LABEL)\n",
        "optimizer = nlp.begin_training()\n",
        "\n",
        "#set number of epochs we want our model to perform\n",
        "n_iter = 10\n",
        "\n",
        "#make sure we only train our ner pipe to speed up processing\n",
        "other_pipes = [pipe for pipe in nlp.pipe_names if pipe != 'ner']\n",
        "with nlp.disable_pipes(*other_pipes):  # only train NER\n",
        "    for itn in range(n_iter):\n",
        "        print(itn)\n",
        "        random.shuffle(TRAIN_DATA)\n",
        "        losses = {}\n",
        "        #split data into batches of 500 sentences\n",
        "        batches = minibatch(TRAIN_DATA, size=500)\n",
        "        for batch in batches:\n",
        "            print('batch size', len(batch))\n",
        "            #extract the sentence and the entities it contains for each sentence\n",
        "            texts, annotations = zip(*batch)\n",
        "            #update the weights\n",
        "            nlp.update(texts, annotations, sgd=optimizer, drop=0.35,\n",
        "                        losses=losses)\n",
        "        #loss after this epoch\n",
        "        print('Losses', losses)\n",
        "\n",
        "\n",
        "# Save model \n",
        "output_dir = Path('./models/spacy_full')\n",
        "if not output_dir.exists():\n",
        "    output_dir.mkdir()\n",
        "nlp.meta['name'] = 'SpaCy_Full'  # rename model\n",
        "nlp.to_disk(output_dir)\n",
        "print(\"Saved model to\", output_dir)"
      ],
      "execution_count": null,
      "outputs": []
    },
    {
      "cell_type": "markdown",
      "metadata": {
        "id": "FYG4sLDGwtGi"
      },
      "source": [
        "## Make Predictions on Kaggle Test Data"
      ]
    },
    {
      "cell_type": "code",
      "metadata": {
        "id": "yLYbbBedwwW2"
      },
      "source": [
        "#load text publications\n",
        "import os\n",
        "\n",
        "directory = './data/test/'\n",
        "\n",
        "#this list used to store test data text and id numbers\n",
        "SPACY_TEST = []\n",
        "\n",
        "#loop through publications in directory housing test data\n",
        "for file in os.listdir(directory):\n",
        "    this_pub = \"\"\n",
        "    #path to file\n",
        "    this_pub_id = os.path.join(directory, file)\n",
        "    #load json file\n",
        "    this_pub_json = json.load(open(this_pub_id))\n",
        "    #append all text from the publication in to one (super-long!) string\n",
        "    for section in this_pub_json:\n",
        "        this_pub += section['text']\n",
        "    #get the text id\n",
        "    id = file.split('.')[0]\n",
        "    print(id)\n",
        "    #append a tuple of the text and its id\n",
        "    SPACY_TEST.append((this_pub,id))\n",
        "    "
      ],
      "execution_count": null,
      "outputs": []
    },
    {
      "cell_type": "code",
      "metadata": {
        "id": "9TdL6B1_1RQj"
      },
      "source": [
        "#Load SpaCy ner model trained on full training data\n",
        "\n",
        "output_dir = Path('./models/spacy_full')\n",
        "print(\"Loading from\", output_dir)\n",
        "nlp3 = sp.load(output_dir)"
      ],
      "execution_count": null,
      "outputs": []
    },
    {
      "cell_type": "code",
      "metadata": {
        "id": "hJdovEPd1XdJ"
      },
      "source": [
        "#function provided on Kaggle competition to clean dataset label for submission\n",
        "def clean_text(txt):\n",
        "    return re.sub('[^A-Za-z0-9]+', ' ', str(txt).lower())\n",
        "\n",
        "#store predictions in a list\n",
        "predictions = []\n",
        "#loop through test set publications\n",
        "for pub in SPACY_TEST:\n",
        "    this_pred = []\n",
        "    #break up test set into sentences\n",
        "    sentences = pub[0].split('.')\n",
        "    #make predicitons on each sentence\n",
        "    for sentence in sentences:\n",
        "        doc = nlp3(sentence)\n",
        "        #loop through entities found in this sentence, if they contain chars store them, make sure to only store once\n",
        "        for ent in doc.ents:\n",
        "            if len(ent.text) > 0:\n",
        "                this_ent = clean_text(ent.text)\n",
        "                #remove any trailing or leading white spaces\n",
        "                this_ent = this_ent.strip()\n",
        "                if this_ent not in this_pred:\n",
        "                    this_pred.append(this_ent)\n",
        "    #clean for Kaggle submission, concatenates multiple predictions into one string separated by a pipe ('|') deliminator\n",
        "    for pred in range(1, len(this_pred)):\n",
        "        this_pred[0] += '|' + this_pred[pred]\n",
        "    #if no entities predicted, add empty string so length still matches up with number of publications\n",
        "    if len(this_pred) == 0:\n",
        "        this_pred.append(\"\")\n",
        "    predictions.append([this_pred[0]])"
      ],
      "execution_count": null,
      "outputs": []
    },
    {
      "cell_type": "code",
      "metadata": {
        "id": "bNE8RKoF2TGS"
      },
      "source": [
        "#write predictions in appropriate submission format to a .csv file\n",
        "#source: https://realpython.com/python-csv/\n",
        "import csv\n",
        "with open('submission.csv', mode='w') as sub:\n",
        "    sub = csv.writer(sub, delimiter=',', quotechar='\"', quoting=csv.QUOTE_MINIMAL)\n",
        "    #header row\n",
        "    sub.writerow(['Id','PredictionString'])\n",
        "    \n",
        "    #for each prediction, format it to the two-column format required for Kaggle submission\n",
        "    for p in range(0, len(predictions)):\n",
        "        sub.writerow([SPACY_TEST[p][1],predictions[p][0]])"
      ],
      "execution_count": null,
      "outputs": []
    }
  ]
}